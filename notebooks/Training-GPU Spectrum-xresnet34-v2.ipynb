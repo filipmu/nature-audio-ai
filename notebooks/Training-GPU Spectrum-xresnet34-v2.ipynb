{
 "cells": [
  {
   "cell_type": "markdown",
   "id": "e56de2ca",
   "metadata": {},
   "source": [
    "# Training notebook for some audio classification"
   ]
  },
  {
   "cell_type": "markdown",
   "id": "a5e49ce4",
   "metadata": {},
   "source": [
    "From https://github.com/walkwithfastai/walkwithfastai.github.io/blob/master/nbs/course2020/vision/07_Audio.ipynb"
   ]
  },
  {
   "cell_type": "markdown",
   "id": "604f8978",
   "metadata": {},
   "source": [
    "### Docs\n",
    "\n",
    "https://fastaudio.github.io/\n",
    "\n",
    "https://github.com/musikalkemist/pytorchforaudio"
   ]
  },
  {
   "cell_type": "markdown",
   "id": "ac34e09b",
   "metadata": {},
   "source": [
    "* Use some Sound Event Detection - polyphonic\n",
    "* Use image transformers - see guy at Kaggle bird competition\n",
    "* Use multiple networks at different time scales and combine results\n",
    "* Recurrent/transformer?\n",
    "* change background noises\n",
    "* use stereo signals to help - phase info\n",
    "* Time of Day?\n",
    "* Use wavelets\n",
    "\n",
    "* Change validation so that it makes a class decision based on the whole validation sample, not just the 5 sec clip.\n",
    "\n",
    "https://pywavelets.readthedocs.io/en/latest/index.html\n",
    "\n",
    "https://pytorch-wavelets.readthedocs.io/en/latest/readme.html\n",
    "https://www.researchgate.net/publication/242415506_BIRD_SOUND_CLASSIFICATION_AND_RECOGNITION_USING_WAVELETS_KLASIFIKACIJA_IN_PREPOZNAVANJE_PTIOEJIH_GLASOV_S_POMOOEJO_VALOEKOV\n",
    "\n",
    "https://ataspinar.com/2018/12/21/a-guide-for-using-the-wavelet-transform-in-machine-learning/\n",
    "\n",
    "https://github.com/tomrunia/PyTorchWavelets  - 1D wavelets in pytorch\n",
    "\n",
    "\n",
    "* Related problem - human activity recognition https://machinelearningmastery.com/deep-learning-models-for-human-activity-recognition/\n",
    "\n",
    "\n"
   ]
  },
  {
   "cell_type": "code",
   "execution_count": 1,
   "id": "1d9bc7dd",
   "metadata": {},
   "outputs": [],
   "source": [
    "#torch.multiprocessing.set_start_method('spawn')"
   ]
  },
  {
   "cell_type": "markdown",
   "id": "751c937d",
   "metadata": {},
   "source": [
    "## Project setup"
   ]
  },
  {
   "cell_type": "code",
   "execution_count": 2,
   "id": "5f7b5141",
   "metadata": {},
   "outputs": [],
   "source": [
    "from pathlib import Path\n",
    "import os\n",
    "\n",
    "project_base = \"/media/SSD/Sound Detection/\"\n",
    "results_folder = \"Results\"\n",
    "data_folder = \"birdclef-2021/train_short_audio\"\n",
    "model_folder = \"models\"\n",
    "\n",
    "model_name_base = \"spec-xresnet34\""
   ]
  },
  {
   "cell_type": "code",
   "execution_count": 3,
   "id": "7e8f3c24",
   "metadata": {},
   "outputs": [
    {
     "name": "stdout",
     "output_type": "stream",
     "text": [
      "/media/SSD/Sound Detection/birdclef-2021/train_short_audio\n"
     ]
    }
   ],
   "source": [
    "data_path = Path(project_base)/data_folder\n",
    "print(data_path)"
   ]
  },
  {
   "cell_type": "markdown",
   "id": "d4473984",
   "metadata": {},
   "source": [
    "### Experiment documentation"
   ]
  },
  {
   "cell_type": "code",
   "execution_count": 4,
   "id": "0157ccf7",
   "metadata": {},
   "outputs": [
    {
     "data": {
      "application/javascript": [
       "var nb = IPython.notebook;\n",
       "var kernel = IPython.notebook.kernel;\n",
       "var command = \"NOTEBOOK_FULL_PATH = '\" + nb.base_url + nb.notebook_path + \"'\";\n",
       "kernel.execute(command);\n",
       "\n"
      ],
      "text/plain": [
       "<IPython.core.display.Javascript object>"
      ]
     },
     "metadata": {},
     "output_type": "display_data"
    }
   ],
   "source": [
    "%%javascript\n",
    "var nb = IPython.notebook;\n",
    "var kernel = IPython.notebook.kernel;\n",
    "var command = \"NOTEBOOK_FULL_PATH = '\" + nb.base_url + nb.notebook_path + \"'\";\n",
    "kernel.execute(command);\n",
    "\n"
   ]
  },
  {
   "cell_type": "code",
   "execution_count": 5,
   "id": "5782b5fa",
   "metadata": {},
   "outputs": [
    {
     "name": "stdout",
     "output_type": "stream",
     "text": [
      "NOTEBOOK_FULL_PATH:\n",
      " /Sound/Training-GPU Spectrum-xresnet34-v2.ipynb\n"
     ]
    }
   ],
   "source": [
    "print(\"NOTEBOOK_FULL_PATH:\\n\", NOTEBOOK_FULL_PATH)"
   ]
  },
  {
   "cell_type": "code",
   "execution_count": 6,
   "id": "bbab91e8",
   "metadata": {},
   "outputs": [
    {
     "name": "stdout",
     "output_type": "stream",
     "text": [
      "/Sound/Training-GPU Spectrum-xresnet34-v2.ipynb\n",
      "/media/SSD/Sound Detection/Results/Training-GPU Spectrum-xresnet34-v2\n"
     ]
    }
   ],
   "source": [
    "nb_path = Path(NOTEBOOK_FULL_PATH)\n",
    "print(nb_path)\n",
    "\n",
    "# Make result folder if it does not exist\n",
    "result_path = Path(project_base, results_folder, nb_path.stem)\n",
    "print(result_path)\n",
    "os.makedirs(result_path, exist_ok=True)"
   ]
  },
  {
   "cell_type": "code",
   "execution_count": 7,
   "id": "5665acd2",
   "metadata": {},
   "outputs": [
    {
     "name": "stdout",
     "output_type": "stream",
     "text": [
      "/media/SSD/Sound Detection/models\n"
     ]
    }
   ],
   "source": [
    "model_out_path = Path(project_base) / model_folder\n",
    "print(model_out_path)\n",
    "os.makedirs(model_out_path, exist_ok=True)"
   ]
  },
  {
   "cell_type": "markdown",
   "id": "dc90a91d",
   "metadata": {},
   "source": [
    "## Start here"
   ]
  },
  {
   "cell_type": "code",
   "execution_count": 8,
   "id": "407e3992",
   "metadata": {},
   "outputs": [],
   "source": [
    "import torch\n",
    "import pandas as pd\n",
    "import torchaudio\n",
    "import numpy as np"
   ]
  },
  {
   "cell_type": "markdown",
   "id": "a5a98392",
   "metadata": {},
   "source": [
    "Ideas\n",
    "* Convert dataframe into sqlite in memory database for faster training\n",
    "* Convert dataframe to numpy array for faster training\n"
   ]
  },
  {
   "cell_type": "code",
   "execution_count": 9,
   "id": "70f7181d",
   "metadata": {},
   "outputs": [],
   "source": [
    "# from https://pytorch.org/tutorials/beginner/audio_preprocessing_tutorial.html#preparing-data-and-utility-functions-skip-this-section\n",
    "\n",
    "from IPython.display import Audio, display\n",
    "import librosa\n",
    "import matplotlib.pyplot as plt\n",
    "\n",
    "\n",
    "def play_audio(waveform, sample_rate):\n",
    "    if type(waveform) != np.ndarray:\n",
    "        waveform = waveform.numpy()\n",
    "    num_channels, num_frames = waveform.shape\n",
    "    if num_channels == 1:\n",
    "        display(Audio(waveform[0], rate=sample_rate))\n",
    "    elif num_channels == 2:\n",
    "        display(Audio((waveform[0], waveform[1]), rate=sample_rate))\n",
    "    else:\n",
    "        raise ValueError(\n",
    "            \"Waveform with more than 2 channels are not supported.\")\n",
    "\n",
    "\n",
    "def print_stats(waveform, sample_rate=None, src=None):\n",
    "    if src:\n",
    "        print(\"-\" * 10)\n",
    "        print(\"Source:\", src)\n",
    "        print(\"-\" * 10)\n",
    "    if sample_rate:\n",
    "        print(\"Sample Rate:\", sample_rate)\n",
    "        print(\"Shape:\", tuple(waveform.shape))\n",
    "        print(\"Dtype:\", waveform.dtype)\n",
    "        print(f\" - Max:     {waveform.max().item():6.3f}\")\n",
    "        print(f\" - Min:     {waveform.min().item():6.3f}\")\n",
    "        print(f\" - Mean:    {waveform.mean().item():6.3f}\")\n",
    "        print(f\" - Std Dev: {waveform.std().item():6.3f}\")\n",
    "        print()\n",
    "        print(waveform)\n",
    "        print()\n",
    "\n",
    "\n",
    "def plot_waveform(waveform,\n",
    "                  sample_rate,\n",
    "                  title=\"Waveform\",\n",
    "                  xlim=None,\n",
    "                  ylim=None):\n",
    "    if type(waveform) != np.ndarray:\n",
    "        waveform = waveform.numpy()\n",
    "    num_channels, num_frames = waveform.shape\n",
    "    time_axis = torch.arange(0, num_frames) / sample_rate\n",
    "    figure, axes = plt.subplots(num_channels, figsize=(12, 6))\n",
    "    if num_channels == 1:\n",
    "        axes = [axes]\n",
    "    for c in range(num_channels):\n",
    "        axes[c].plot(time_axis, waveform[c], linewidth=1, color=\"#A300F9\")\n",
    "        axes[c].grid(True)\n",
    "        if num_channels > 1:\n",
    "            axes[c].set_ylabel(f'Channel {c+1}')\n",
    "        if xlim:\n",
    "            axes[c].set_xlim(xlim)\n",
    "        if ylim:\n",
    "            axes[c].set_ylim(ylim)\n",
    "    figure.suptitle(title)\n",
    "    plt.show(block=False)\n",
    "\n",
    "\n",
    "def plot_specgram(waveform, sample_rate, title=\"Spectrogram\", xlim=None):\n",
    "    waveform = waveform.numpy()\n",
    "\n",
    "    num_channels, num_frames = waveform.shape\n",
    "    time_axis = torch.arange(0, num_frames) / sample_rate\n",
    "\n",
    "    figure, axes = plt.subplots(num_channels, 1, figsize=(12, 6))\n",
    "    if num_channels == 1:\n",
    "        axes = [axes]\n",
    "    for c in range(num_channels):\n",
    "        axes[c].specgram(waveform[c], Fs=sample_rate)\n",
    "        if num_channels > 1:\n",
    "            axes[c].set_ylabel(f'Channel {c+1}')\n",
    "        if xlim:\n",
    "            axes[c].set_xlim(xlim)\n",
    "    figure.suptitle(title)\n",
    "    plt.show(block=False)\n",
    "\n",
    "\n",
    "def plot_spectrogram(spec,\n",
    "                     title=None,\n",
    "                     ylabel='freq_bin',\n",
    "                     aspect='auto',\n",
    "                     xmax=None):\n",
    "    fig, axs = plt.subplots(1, 1)\n",
    "    axs.set_title(title or 'Spectrogram (db)')\n",
    "    axs.set_ylabel(ylabel)\n",
    "    axs.set_xlabel('frame')\n",
    "    im = axs.imshow(librosa.power_to_db(spec), origin='lower', aspect=aspect)\n",
    "    if xmax:\n",
    "        axs.set_xlim((0, xmax))\n",
    "    fig.colorbar(im, ax=axs)\n",
    "    plt.show(block=False)"
   ]
  },
  {
   "cell_type": "code",
   "execution_count": 10,
   "id": "53842cd2",
   "metadata": {},
   "outputs": [],
   "source": [
    "df = pd.read_csv('/media/SSD/Sound Detection/birdclef-2021/enhanced_train_metadata.csv')"
   ]
  },
  {
   "cell_type": "markdown",
   "id": "e323604f",
   "metadata": {},
   "source": [
    "## Handle class labels"
   ]
  },
  {
   "cell_type": "code",
   "execution_count": 11,
   "id": "1e51d2fe",
   "metadata": {},
   "outputs": [],
   "source": [
    "primary_labels = set(df.primary_label.unique())"
   ]
  },
  {
   "cell_type": "code",
   "execution_count": 12,
   "id": "ace29695",
   "metadata": {},
   "outputs": [],
   "source": [
    "BIRD_CODE = {}\n",
    "for i, label in enumerate(sorted(primary_labels)):\n",
    "    BIRD_CODE[label] = i\n",
    "\n",
    "INV_BIRD_CODE = np.array(sorted(primary_labels))"
   ]
  },
  {
   "cell_type": "code",
   "execution_count": 13,
   "id": "6c644c9a",
   "metadata": {},
   "outputs": [
    {
     "data": {
      "text/plain": [
       "array(['acafly', 'acowoo', 'aldfly', 'ameavo', 'amecro', 'amegfi',\n",
       "       'amekes', 'amepip', 'amered', 'amerob', 'amewig', 'amtspa',\n",
       "       'andsol1', 'annhum', 'astfly', 'azaspi1', 'babwar', 'baleag',\n",
       "       'balori', 'banana', 'banswa', 'banwre1', 'barant1', 'barswa',\n",
       "       'batpig1', 'bawswa1', 'bawwar', 'baywre1', 'bbwduc', 'bcnher',\n",
       "       'belkin1', 'belvir', 'bewwre', 'bkbmag1', 'bkbplo', 'bkbwar',\n",
       "       'bkcchi', 'bkhgro', 'bkmtou1', 'bknsti', 'blbgra1', 'blbthr1',\n",
       "       'blcjay1', 'blctan1', 'blhpar1', 'blkpho', 'blsspa1', 'blugrb1',\n",
       "       'blujay', 'bncfly', 'bnhcow', 'bobfly1', 'bongul', 'botgra',\n",
       "       'brbmot1', 'brbsol1', 'brcvir1', 'brebla', 'brncre', 'brnjay',\n",
       "       'brnthr', 'brratt1', 'brwhaw', 'brwpar1', 'btbwar', 'btnwar',\n",
       "       'btywar', 'bucmot2', 'buggna', 'bugtan', 'buhvir', 'bulori',\n",
       "       'burwar1', 'bushti', 'butsal1', 'buwtea', 'cacgoo1', 'cacwre',\n",
       "       'calqua', 'caltow', 'cangoo', 'canwar', 'carchi', 'carwre',\n",
       "       'casfin', 'caskin', 'caster1', 'casvir', 'categr', 'ccbfin',\n",
       "       'cedwax', 'chbant1', 'chbchi', 'chbwre1', 'chcant2', 'chispa',\n",
       "       'chswar', 'cinfly2', 'clanut', 'clcrob', 'cliswa', 'cobtan1',\n",
       "       'cocwoo1', 'cogdov', 'colcha1', 'coltro1', 'comgol', 'comgra',\n",
       "       'comloo', 'commer', 'compau', 'compot1', 'comrav', 'comyel',\n",
       "       'coohaw', 'cotfly1', 'cowscj1', 'cregua1', 'creoro1', 'crfpar',\n",
       "       'cubthr', 'daejun', 'dowwoo', 'ducfly', 'dusfly', 'easblu',\n",
       "       'easkin', 'easmea', 'easpho', 'eastow', 'eawpew', 'eletro',\n",
       "       'eucdov', 'eursta', 'fepowl', 'fiespa', 'flrtan1', 'foxspa',\n",
       "       'gadwal', 'gamqua', 'gartro1', 'gbbgul', 'gbwwre1', 'gcrwar',\n",
       "       'gilwoo', 'gnttow', 'gnwtea', 'gocfly1', 'gockin', 'gocspa',\n",
       "       'goftyr1', 'gohque1', 'goowoo1', 'grasal1', 'grbani', 'grbher3',\n",
       "       'grcfly', 'greegr', 'grekis', 'grepew', 'grethr1', 'gretin1',\n",
       "       'greyel', 'grhcha1', 'grhowl', 'grnher', 'grnjay', 'grtgra',\n",
       "       'grycat', 'gryhaw2', 'gwfgoo', 'haiwoo', 'heptan', 'hergul',\n",
       "       'herthr', 'herwar', 'higmot1', 'hofwoo1', 'houfin', 'houspa',\n",
       "       'houwre', 'hutvir', 'incdov', 'indbun', 'kebtou1', 'killde',\n",
       "       'labwoo', 'larspa', 'laufal1', 'laugul', 'lazbun', 'leafly',\n",
       "       'leasan', 'lesgol', 'lesgre1', 'lesvio1', 'linspa', 'linwoo1',\n",
       "       'littin1', 'lobdow', 'lobgna5', 'logshr', 'lotduc', 'lotman1',\n",
       "       'lucwar', 'macwar', 'magwar', 'mallar3', 'marwre', 'mastro1',\n",
       "       'meapar', 'melbla1', 'monoro1', 'mouchi', 'moudov', 'mouela1',\n",
       "       'mouqua', 'mouwar', 'mutswa', 'naswar', 'norcar', 'norfli',\n",
       "       'normoc', 'norpar', 'norsho', 'norwat', 'nrwswa', 'nutwoo',\n",
       "       'oaktit', 'obnthr1', 'ocbfly1', 'oliwoo1', 'olsfly', 'orbeup1',\n",
       "       'orbspa1', 'orcpar', 'orcwar', 'orfpar', 'osprey', 'ovenbi1',\n",
       "       'pabspi1', 'paltan1', 'palwar', 'pasfly', 'pavpig2', 'phivir',\n",
       "       'pibgre', 'pilwoo', 'pinsis', 'pirfly1', 'plawre1', 'plaxen1',\n",
       "       'plsvir', 'plupig2', 'prowar', 'purfin', 'purgal2', 'putfru1',\n",
       "       'pygnut', 'rawwre1', 'rcatan1', 'rebnut', 'rebsap', 'rebwoo',\n",
       "       'redcro', 'reevir1', 'rehbar1', 'relpar', 'reshaw', 'rethaw',\n",
       "       'rewbla', 'ribgul', 'rinkin1', 'roahaw', 'robgro', 'rocpig',\n",
       "       'rotbec', 'royter1', 'rthhum', 'rtlhum', 'ruboro1', 'rubpep1',\n",
       "       'rubrob', 'rubwre1', 'ruckin', 'rucspa1', 'rucwar', 'rucwar1',\n",
       "       'rudpig', 'rudtur', 'rufhum', 'rugdov', 'rumfly1', 'runwre1',\n",
       "       'rutjac1', 'saffin', 'sancra', 'sander', 'savspa', 'saypho',\n",
       "       'scamac1', 'scatan', 'scbwre1', 'scptyr1', 'scrtan1', 'semplo',\n",
       "       'shicow', 'sibtan2', 'sinwre1', 'sltred', 'smbani', 'snogoo',\n",
       "       'sobtyr1', 'socfly1', 'solsan', 'sonspa', 'soulap1', 'sposan',\n",
       "       'spotow', 'spvear1', 'squcuc1', 'stbori', 'stejay', 'sthant1',\n",
       "       'sthwoo1', 'strcuc1', 'strfly1', 'strsal1', 'stvhum2', 'subfly',\n",
       "       'sumtan', 'swaspa', 'swathr', 'tenwar', 'thbeup1', 'thbkin',\n",
       "       'thswar1', 'towsol', 'treswa', 'trogna1', 'trokin', 'tromoc',\n",
       "       'tropar', 'tropew1', 'tuftit', 'tunswa', 'veery', 'verdin',\n",
       "       'vigswa', 'warvir', 'wbwwre1', 'webwoo1', 'wegspa1', 'wesant1',\n",
       "       'wesblu', 'weskin', 'wesmea', 'westan', 'wewpew', 'whbman1',\n",
       "       'whbnut', 'whcpar', 'whcsee1', 'whcspa', 'whevir', 'whfpar1',\n",
       "       'whimbr', 'whiwre1', 'whtdov', 'whtspa', 'whwbec1', 'whwdov',\n",
       "       'wilfly', 'willet1', 'wilsni1', 'wiltur', 'wlswar', 'wooduc',\n",
       "       'woothr', 'wrenti', 'y00475', 'yebcha', 'yebela1', 'yebfly',\n",
       "       'yebori1', 'yebsap', 'yebsee1', 'yefgra1', 'yegvir', 'yehbla',\n",
       "       'yehcar1', 'yelgro', 'yelwar', 'yeofly1', 'yerwar', 'yeteup1',\n",
       "       'yetvir'], dtype='<U7')"
      ]
     },
     "execution_count": 13,
     "metadata": {},
     "output_type": "execute_result"
    }
   ],
   "source": [
    "INV_BIRD_CODE"
   ]
  },
  {
   "cell_type": "markdown",
   "id": "df240601",
   "metadata": {},
   "source": [
    "## Create a dataset\n",
    "\n",
    "https://debuggercafe.com/multi-label-image-classification-with-pytorch-and-deep-learning/\n",
    "\n",
    "https://github.com/gskdhiman/Pytorch-Transfer-learning-Multi-Label-image-Classification/blob/master/pytorch-resnet50-starter.ipynb\n",
    "\n",
    "\n"
   ]
  },
  {
   "cell_type": "code",
   "execution_count": 14,
   "id": "baa8bd28",
   "metadata": {},
   "outputs": [],
   "source": [
    "class Dataset_from_df(torch.utils.data.Dataset):\n",
    "    def __init__(self, df, path, crop_length):\n",
    "        self.df = df\n",
    "        self.path = path\n",
    "        self.crop_length = crop_length\n",
    "        self.text_labels = set(df.primary_label.unique())\n",
    "        self.class_n = len(self.text_labels)\n",
    "        self.class_code = {}\n",
    "        for i, label in enumerate(sorted(self.text_labels)):\n",
    "            self.class_code[label] = i\n",
    "\n",
    "    def __len__(self):\n",
    "        return len(self.df)\n",
    "\n",
    "    def __getitem__(self, index):\n",
    "        def _randint(a, b):\n",
    "            return torch.randint(a, b, (1, )).item()\n",
    "\n",
    "        #meta = torchaudio.info(self.path + \"/\" + df.iloc[index]['subpath'])\n",
    "        label = self.df.iloc[index]['primary_label']\n",
    "        length = self.df.iloc[index]['sample_len']\n",
    "        c = self.df.iloc[index]['channels']\n",
    "\n",
    "        #need to map sample label to index\n",
    "\n",
    "        if length == self.crop_length:\n",
    "            x, sr = torchaudio.load(self.path + \"/\" +\n",
    "                                    self.df.iloc[index]['subpath'])\n",
    "        elif length > self.crop_length:\n",
    "            crop_start = _randint(0, int(length - self.crop_length))\n",
    "            x, sr = torchaudio.load(self.path + \"/\" +\n",
    "                                    self.df.iloc[index]['subpath'],\n",
    "                                    frame_offset=crop_start,\n",
    "                                    num_frames=self.crop_length)\n",
    "        else:\n",
    "            s, sr = torchaudio.load(self.path + \"/\" +\n",
    "                                    self.df.iloc[index]['subpath'])\n",
    "\n",
    "            zeros_front = (_randint(0, self.crop_length - length))\n",
    "            pad_front = torch.zeros((c, zeros_front))\n",
    "            pad_back = torch.zeros(\n",
    "                (c, self.crop_length - length - zeros_front))\n",
    "            waveform = torch.cat((pad_front, s, pad_back), 1)\n",
    "            x = waveform\n",
    "\n",
    "        target = torch.zeros(self.class_n)\n",
    "        target[self.class_code[label]] = 1.0\n",
    "        #print(\"label=\",label, \"code=\",self.class_code[label])\n",
    "\n",
    "        return x, sr, target"
   ]
  },
  {
   "cell_type": "markdown",
   "id": "66ff9109",
   "metadata": {},
   "source": [
    "## Split the dataset"
   ]
  },
  {
   "cell_type": "code",
   "execution_count": 15,
   "id": "7ea57bc1",
   "metadata": {},
   "outputs": [],
   "source": [
    "dataset = Dataset_from_df(df,'/media/SSD/Sound Detection/birdclef-2021/train_short_audio',5*32000)"
   ]
  },
  {
   "cell_type": "code",
   "execution_count": 16,
   "id": "00d92507",
   "metadata": {},
   "outputs": [
    {
     "name": "stdout",
     "output_type": "stream",
     "text": [
      "Training Data len 50300 Validation Data len 12574\n"
     ]
    }
   ],
   "source": [
    "valid_n = int(len(dataset) * 0.20)\n",
    "training_data, validation_data = torch.utils.data.random_split(\n",
    "    dataset, [len(dataset) - valid_n, valid_n],\n",
    "    generator=torch.Generator().manual_seed(42))\n",
    "\n",
    "print(\n",
    "    f\"Training Data len {len(training_data)} Validation Data len {len(validation_data)}\"\n",
    ")"
   ]
  },
  {
   "cell_type": "code",
   "execution_count": 17,
   "id": "b5754c0e",
   "metadata": {},
   "outputs": [],
   "source": [
    "x,sr,y = training_data[0]"
   ]
  },
  {
   "cell_type": "code",
   "execution_count": 18,
   "id": "4219f61d",
   "metadata": {},
   "outputs": [
    {
     "data": {
      "text/plain": [
       "torch.Size([1, 160000])"
      ]
     },
     "execution_count": 18,
     "metadata": {},
     "output_type": "execute_result"
    }
   ],
   "source": [
    "x.shape"
   ]
  },
  {
   "cell_type": "code",
   "execution_count": null,
   "id": "ae2bdfad",
   "metadata": {},
   "outputs": [],
   "source": [
    "torch.max(y)"
   ]
  },
  {
   "cell_type": "code",
   "execution_count": null,
   "id": "a8f2daee",
   "metadata": {},
   "outputs": [],
   "source": [
    "play_audio(waveform=x, sample_rate=sr)"
   ]
  },
  {
   "cell_type": "code",
   "execution_count": null,
   "id": "5b919196",
   "metadata": {
    "scrolled": true
   },
   "outputs": [],
   "source": [
    "plot_waveform(waveform=x, sample_rate=sr, title=\"Waveform\", xlim=None, ylim=None)"
   ]
  },
  {
   "cell_type": "code",
   "execution_count": null,
   "id": "e4a1649a",
   "metadata": {
    "scrolled": true
   },
   "outputs": [],
   "source": [
    "plot_specgram(waveform=x, sample_rate=sr, title=\"Spectrogram\", xlim=None)"
   ]
  },
  {
   "cell_type": "code",
   "execution_count": null,
   "id": "426ea30c",
   "metadata": {},
   "outputs": [],
   "source": [
    "#debug\n",
    "#training_data=torch.utils.data.Subset(training_data, range(0,1024))\n",
    "#validation_data=torch.utils.data.Subset(validation_data, range(0,1024))\n",
    "#print(f\"Training Data len {len(training_data)} Validation Data len {len(validation_data)}\")"
   ]
  },
  {
   "cell_type": "code",
   "execution_count": 19,
   "id": "84f7443b",
   "metadata": {},
   "outputs": [],
   "source": [
    "train_dataloader = torch.utils.data.DataLoader(dataset=training_data,\n",
    "                                               batch_size=16,\n",
    "                                               num_workers=12,\n",
    "                                               pin_memory=True,\n",
    "                                               shuffle=True)"
   ]
  },
  {
   "cell_type": "code",
   "execution_count": 20,
   "id": "c689b96c",
   "metadata": {},
   "outputs": [],
   "source": [
    "validation_dataloader = torch.utils.data.DataLoader(dataset=validation_data,\n",
    "                                                    batch_size=16,\n",
    "                                                    num_workers=12,\n",
    "                                                    pin_memory=True,\n",
    "                                                    shuffle=False)"
   ]
  },
  {
   "cell_type": "code",
   "execution_count": 19,
   "id": "d6ed511a",
   "metadata": {},
   "outputs": [],
   "source": [
    "from fastai.vision.all import *"
   ]
  },
  {
   "cell_type": "code",
   "execution_count": 20,
   "id": "ad4d6a95",
   "metadata": {},
   "outputs": [],
   "source": [
    "# build a new model\n",
    "model = xresnet34(pretrained=True)\n",
    "layer = model[0][0]\n",
    "layer.in_channels = 1\n",
    "layer.weight = nn.Parameter(layer.weight[:, 1, :, :].unsqueeze(1))\n",
    "model[0][0] = layer\n",
    "\n",
    "resample = torchaudio.transforms.Resample(32000, 48000)\n",
    "\n",
    "spec = torchaudio.transforms.MelSpectrogram(sample_rate=48000,\n",
    "                                            n_fft=768,\n",
    "                                            n_mels=80,\n",
    "                                            f_min=200,\n",
    "                                            f_max=10000)\n",
    "a_to_db = torchaudio.transforms.AmplitudeToDB()\n",
    "#new_model = nn.Sequential(resample,spec,model)\n",
    "new_model = nn.Sequential(resample, spec, a_to_db, model)"
   ]
  },
  {
   "cell_type": "code",
   "execution_count": 21,
   "id": "4a8e5073",
   "metadata": {},
   "outputs": [],
   "source": [
    "#for param in new_model.parameters():\n",
    "#    param.requires_grad = False"
   ]
  },
  {
   "cell_type": "code",
   "execution_count": 22,
   "id": "ff233a1b",
   "metadata": {},
   "outputs": [],
   "source": [
    "# Change the output layer to match class n\n",
    "#new_model[-1][-1]=nn.Linear(in_features=512,out_features=len(primary_labels),bias=True)\n",
    "new_model[-1][-1]=nn.Linear(in_features=512,out_features=len(primary_labels))"
   ]
  },
  {
   "cell_type": "code",
   "execution_count": 23,
   "id": "ec87c1c0",
   "metadata": {},
   "outputs": [
    {
     "data": {
      "text/plain": [
       "Sequential(\n",
       "  (0): Resample()\n",
       "  (1): MelSpectrogram(\n",
       "    (spectrogram): Spectrogram()\n",
       "    (mel_scale): MelScale()\n",
       "  )\n",
       "  (2): AmplitudeToDB()\n",
       "  (3): XResNet(\n",
       "    (0): ConvLayer(\n",
       "      (0): Conv2d(1, 32, kernel_size=(3, 3), stride=(2, 2), padding=(1, 1), bias=False)\n",
       "      (1): BatchNorm2d(32, eps=1e-05, momentum=0.1, affine=True, track_running_stats=True)\n",
       "      (2): ReLU()\n",
       "    )\n",
       "    (1): ConvLayer(\n",
       "      (0): Conv2d(32, 32, kernel_size=(3, 3), stride=(1, 1), padding=(1, 1), bias=False)\n",
       "      (1): BatchNorm2d(32, eps=1e-05, momentum=0.1, affine=True, track_running_stats=True)\n",
       "      (2): ReLU()\n",
       "    )\n",
       "    (2): ConvLayer(\n",
       "      (0): Conv2d(32, 64, kernel_size=(3, 3), stride=(1, 1), padding=(1, 1), bias=False)\n",
       "      (1): BatchNorm2d(64, eps=1e-05, momentum=0.1, affine=True, track_running_stats=True)\n",
       "      (2): ReLU()\n",
       "    )\n",
       "    (3): MaxPool2d(kernel_size=3, stride=2, padding=1, dilation=1, ceil_mode=False)\n",
       "    (4): Sequential(\n",
       "      (0): ResBlock(\n",
       "        (convpath): Sequential(\n",
       "          (0): ConvLayer(\n",
       "            (0): Conv2d(64, 64, kernel_size=(3, 3), stride=(1, 1), padding=(1, 1), bias=False)\n",
       "            (1): BatchNorm2d(64, eps=1e-05, momentum=0.1, affine=True, track_running_stats=True)\n",
       "            (2): ReLU()\n",
       "          )\n",
       "          (1): ConvLayer(\n",
       "            (0): Conv2d(64, 64, kernel_size=(3, 3), stride=(1, 1), padding=(1, 1), bias=False)\n",
       "            (1): BatchNorm2d(64, eps=1e-05, momentum=0.1, affine=True, track_running_stats=True)\n",
       "          )\n",
       "        )\n",
       "        (idpath): Sequential()\n",
       "        (act): ReLU(inplace=True)\n",
       "      )\n",
       "      (1): ResBlock(\n",
       "        (convpath): Sequential(\n",
       "          (0): ConvLayer(\n",
       "            (0): Conv2d(64, 64, kernel_size=(3, 3), stride=(1, 1), padding=(1, 1), bias=False)\n",
       "            (1): BatchNorm2d(64, eps=1e-05, momentum=0.1, affine=True, track_running_stats=True)\n",
       "            (2): ReLU()\n",
       "          )\n",
       "          (1): ConvLayer(\n",
       "            (0): Conv2d(64, 64, kernel_size=(3, 3), stride=(1, 1), padding=(1, 1), bias=False)\n",
       "            (1): BatchNorm2d(64, eps=1e-05, momentum=0.1, affine=True, track_running_stats=True)\n",
       "          )\n",
       "        )\n",
       "        (idpath): Sequential()\n",
       "        (act): ReLU(inplace=True)\n",
       "      )\n",
       "      (2): ResBlock(\n",
       "        (convpath): Sequential(\n",
       "          (0): ConvLayer(\n",
       "            (0): Conv2d(64, 64, kernel_size=(3, 3), stride=(1, 1), padding=(1, 1), bias=False)\n",
       "            (1): BatchNorm2d(64, eps=1e-05, momentum=0.1, affine=True, track_running_stats=True)\n",
       "            (2): ReLU()\n",
       "          )\n",
       "          (1): ConvLayer(\n",
       "            (0): Conv2d(64, 64, kernel_size=(3, 3), stride=(1, 1), padding=(1, 1), bias=False)\n",
       "            (1): BatchNorm2d(64, eps=1e-05, momentum=0.1, affine=True, track_running_stats=True)\n",
       "          )\n",
       "        )\n",
       "        (idpath): Sequential()\n",
       "        (act): ReLU(inplace=True)\n",
       "      )\n",
       "    )\n",
       "    (5): Sequential(\n",
       "      (0): ResBlock(\n",
       "        (convpath): Sequential(\n",
       "          (0): ConvLayer(\n",
       "            (0): Conv2d(64, 128, kernel_size=(3, 3), stride=(2, 2), padding=(1, 1), bias=False)\n",
       "            (1): BatchNorm2d(128, eps=1e-05, momentum=0.1, affine=True, track_running_stats=True)\n",
       "            (2): ReLU()\n",
       "          )\n",
       "          (1): ConvLayer(\n",
       "            (0): Conv2d(128, 128, kernel_size=(3, 3), stride=(1, 1), padding=(1, 1), bias=False)\n",
       "            (1): BatchNorm2d(128, eps=1e-05, momentum=0.1, affine=True, track_running_stats=True)\n",
       "          )\n",
       "        )\n",
       "        (idpath): Sequential(\n",
       "          (0): AvgPool2d(kernel_size=2, stride=2, padding=0)\n",
       "          (1): ConvLayer(\n",
       "            (0): Conv2d(64, 128, kernel_size=(1, 1), stride=(1, 1), bias=False)\n",
       "            (1): BatchNorm2d(128, eps=1e-05, momentum=0.1, affine=True, track_running_stats=True)\n",
       "          )\n",
       "        )\n",
       "        (act): ReLU(inplace=True)\n",
       "      )\n",
       "      (1): ResBlock(\n",
       "        (convpath): Sequential(\n",
       "          (0): ConvLayer(\n",
       "            (0): Conv2d(128, 128, kernel_size=(3, 3), stride=(1, 1), padding=(1, 1), bias=False)\n",
       "            (1): BatchNorm2d(128, eps=1e-05, momentum=0.1, affine=True, track_running_stats=True)\n",
       "            (2): ReLU()\n",
       "          )\n",
       "          (1): ConvLayer(\n",
       "            (0): Conv2d(128, 128, kernel_size=(3, 3), stride=(1, 1), padding=(1, 1), bias=False)\n",
       "            (1): BatchNorm2d(128, eps=1e-05, momentum=0.1, affine=True, track_running_stats=True)\n",
       "          )\n",
       "        )\n",
       "        (idpath): Sequential()\n",
       "        (act): ReLU(inplace=True)\n",
       "      )\n",
       "      (2): ResBlock(\n",
       "        (convpath): Sequential(\n",
       "          (0): ConvLayer(\n",
       "            (0): Conv2d(128, 128, kernel_size=(3, 3), stride=(1, 1), padding=(1, 1), bias=False)\n",
       "            (1): BatchNorm2d(128, eps=1e-05, momentum=0.1, affine=True, track_running_stats=True)\n",
       "            (2): ReLU()\n",
       "          )\n",
       "          (1): ConvLayer(\n",
       "            (0): Conv2d(128, 128, kernel_size=(3, 3), stride=(1, 1), padding=(1, 1), bias=False)\n",
       "            (1): BatchNorm2d(128, eps=1e-05, momentum=0.1, affine=True, track_running_stats=True)\n",
       "          )\n",
       "        )\n",
       "        (idpath): Sequential()\n",
       "        (act): ReLU(inplace=True)\n",
       "      )\n",
       "      (3): ResBlock(\n",
       "        (convpath): Sequential(\n",
       "          (0): ConvLayer(\n",
       "            (0): Conv2d(128, 128, kernel_size=(3, 3), stride=(1, 1), padding=(1, 1), bias=False)\n",
       "            (1): BatchNorm2d(128, eps=1e-05, momentum=0.1, affine=True, track_running_stats=True)\n",
       "            (2): ReLU()\n",
       "          )\n",
       "          (1): ConvLayer(\n",
       "            (0): Conv2d(128, 128, kernel_size=(3, 3), stride=(1, 1), padding=(1, 1), bias=False)\n",
       "            (1): BatchNorm2d(128, eps=1e-05, momentum=0.1, affine=True, track_running_stats=True)\n",
       "          )\n",
       "        )\n",
       "        (idpath): Sequential()\n",
       "        (act): ReLU(inplace=True)\n",
       "      )\n",
       "    )\n",
       "    (6): Sequential(\n",
       "      (0): ResBlock(\n",
       "        (convpath): Sequential(\n",
       "          (0): ConvLayer(\n",
       "            (0): Conv2d(128, 256, kernel_size=(3, 3), stride=(2, 2), padding=(1, 1), bias=False)\n",
       "            (1): BatchNorm2d(256, eps=1e-05, momentum=0.1, affine=True, track_running_stats=True)\n",
       "            (2): ReLU()\n",
       "          )\n",
       "          (1): ConvLayer(\n",
       "            (0): Conv2d(256, 256, kernel_size=(3, 3), stride=(1, 1), padding=(1, 1), bias=False)\n",
       "            (1): BatchNorm2d(256, eps=1e-05, momentum=0.1, affine=True, track_running_stats=True)\n",
       "          )\n",
       "        )\n",
       "        (idpath): Sequential(\n",
       "          (0): AvgPool2d(kernel_size=2, stride=2, padding=0)\n",
       "          (1): ConvLayer(\n",
       "            (0): Conv2d(128, 256, kernel_size=(1, 1), stride=(1, 1), bias=False)\n",
       "            (1): BatchNorm2d(256, eps=1e-05, momentum=0.1, affine=True, track_running_stats=True)\n",
       "          )\n",
       "        )\n",
       "        (act): ReLU(inplace=True)\n",
       "      )\n",
       "      (1): ResBlock(\n",
       "        (convpath): Sequential(\n",
       "          (0): ConvLayer(\n",
       "            (0): Conv2d(256, 256, kernel_size=(3, 3), stride=(1, 1), padding=(1, 1), bias=False)\n",
       "            (1): BatchNorm2d(256, eps=1e-05, momentum=0.1, affine=True, track_running_stats=True)\n",
       "            (2): ReLU()\n",
       "          )\n",
       "          (1): ConvLayer(\n",
       "            (0): Conv2d(256, 256, kernel_size=(3, 3), stride=(1, 1), padding=(1, 1), bias=False)\n",
       "            (1): BatchNorm2d(256, eps=1e-05, momentum=0.1, affine=True, track_running_stats=True)\n",
       "          )\n",
       "        )\n",
       "        (idpath): Sequential()\n",
       "        (act): ReLU(inplace=True)\n",
       "      )\n",
       "      (2): ResBlock(\n",
       "        (convpath): Sequential(\n",
       "          (0): ConvLayer(\n",
       "            (0): Conv2d(256, 256, kernel_size=(3, 3), stride=(1, 1), padding=(1, 1), bias=False)\n",
       "            (1): BatchNorm2d(256, eps=1e-05, momentum=0.1, affine=True, track_running_stats=True)\n",
       "            (2): ReLU()\n",
       "          )\n",
       "          (1): ConvLayer(\n",
       "            (0): Conv2d(256, 256, kernel_size=(3, 3), stride=(1, 1), padding=(1, 1), bias=False)\n",
       "            (1): BatchNorm2d(256, eps=1e-05, momentum=0.1, affine=True, track_running_stats=True)\n",
       "          )\n",
       "        )\n",
       "        (idpath): Sequential()\n",
       "        (act): ReLU(inplace=True)\n",
       "      )\n",
       "      (3): ResBlock(\n",
       "        (convpath): Sequential(\n",
       "          (0): ConvLayer(\n",
       "            (0): Conv2d(256, 256, kernel_size=(3, 3), stride=(1, 1), padding=(1, 1), bias=False)\n",
       "            (1): BatchNorm2d(256, eps=1e-05, momentum=0.1, affine=True, track_running_stats=True)\n",
       "            (2): ReLU()\n",
       "          )\n",
       "          (1): ConvLayer(\n",
       "            (0): Conv2d(256, 256, kernel_size=(3, 3), stride=(1, 1), padding=(1, 1), bias=False)\n",
       "            (1): BatchNorm2d(256, eps=1e-05, momentum=0.1, affine=True, track_running_stats=True)\n",
       "          )\n",
       "        )\n",
       "        (idpath): Sequential()\n",
       "        (act): ReLU(inplace=True)\n",
       "      )\n",
       "      (4): ResBlock(\n",
       "        (convpath): Sequential(\n",
       "          (0): ConvLayer(\n",
       "            (0): Conv2d(256, 256, kernel_size=(3, 3), stride=(1, 1), padding=(1, 1), bias=False)\n",
       "            (1): BatchNorm2d(256, eps=1e-05, momentum=0.1, affine=True, track_running_stats=True)\n",
       "            (2): ReLU()\n",
       "          )\n",
       "          (1): ConvLayer(\n",
       "            (0): Conv2d(256, 256, kernel_size=(3, 3), stride=(1, 1), padding=(1, 1), bias=False)\n",
       "            (1): BatchNorm2d(256, eps=1e-05, momentum=0.1, affine=True, track_running_stats=True)\n",
       "          )\n",
       "        )\n",
       "        (idpath): Sequential()\n",
       "        (act): ReLU(inplace=True)\n",
       "      )\n",
       "      (5): ResBlock(\n",
       "        (convpath): Sequential(\n",
       "          (0): ConvLayer(\n",
       "            (0): Conv2d(256, 256, kernel_size=(3, 3), stride=(1, 1), padding=(1, 1), bias=False)\n",
       "            (1): BatchNorm2d(256, eps=1e-05, momentum=0.1, affine=True, track_running_stats=True)\n",
       "            (2): ReLU()\n",
       "          )\n",
       "          (1): ConvLayer(\n",
       "            (0): Conv2d(256, 256, kernel_size=(3, 3), stride=(1, 1), padding=(1, 1), bias=False)\n",
       "            (1): BatchNorm2d(256, eps=1e-05, momentum=0.1, affine=True, track_running_stats=True)\n",
       "          )\n",
       "        )\n",
       "        (idpath): Sequential()\n",
       "        (act): ReLU(inplace=True)\n",
       "      )\n",
       "    )\n",
       "    (7): Sequential(\n",
       "      (0): ResBlock(\n",
       "        (convpath): Sequential(\n",
       "          (0): ConvLayer(\n",
       "            (0): Conv2d(256, 512, kernel_size=(3, 3), stride=(2, 2), padding=(1, 1), bias=False)\n",
       "            (1): BatchNorm2d(512, eps=1e-05, momentum=0.1, affine=True, track_running_stats=True)\n",
       "            (2): ReLU()\n",
       "          )\n",
       "          (1): ConvLayer(\n",
       "            (0): Conv2d(512, 512, kernel_size=(3, 3), stride=(1, 1), padding=(1, 1), bias=False)\n",
       "            (1): BatchNorm2d(512, eps=1e-05, momentum=0.1, affine=True, track_running_stats=True)\n",
       "          )\n",
       "        )\n",
       "        (idpath): Sequential(\n",
       "          (0): AvgPool2d(kernel_size=2, stride=2, padding=0)\n",
       "          (1): ConvLayer(\n",
       "            (0): Conv2d(256, 512, kernel_size=(1, 1), stride=(1, 1), bias=False)\n",
       "            (1): BatchNorm2d(512, eps=1e-05, momentum=0.1, affine=True, track_running_stats=True)\n",
       "          )\n",
       "        )\n",
       "        (act): ReLU(inplace=True)\n",
       "      )\n",
       "      (1): ResBlock(\n",
       "        (convpath): Sequential(\n",
       "          (0): ConvLayer(\n",
       "            (0): Conv2d(512, 512, kernel_size=(3, 3), stride=(1, 1), padding=(1, 1), bias=False)\n",
       "            (1): BatchNorm2d(512, eps=1e-05, momentum=0.1, affine=True, track_running_stats=True)\n",
       "            (2): ReLU()\n",
       "          )\n",
       "          (1): ConvLayer(\n",
       "            (0): Conv2d(512, 512, kernel_size=(3, 3), stride=(1, 1), padding=(1, 1), bias=False)\n",
       "            (1): BatchNorm2d(512, eps=1e-05, momentum=0.1, affine=True, track_running_stats=True)\n",
       "          )\n",
       "        )\n",
       "        (idpath): Sequential()\n",
       "        (act): ReLU(inplace=True)\n",
       "      )\n",
       "      (2): ResBlock(\n",
       "        (convpath): Sequential(\n",
       "          (0): ConvLayer(\n",
       "            (0): Conv2d(512, 512, kernel_size=(3, 3), stride=(1, 1), padding=(1, 1), bias=False)\n",
       "            (1): BatchNorm2d(512, eps=1e-05, momentum=0.1, affine=True, track_running_stats=True)\n",
       "            (2): ReLU()\n",
       "          )\n",
       "          (1): ConvLayer(\n",
       "            (0): Conv2d(512, 512, kernel_size=(3, 3), stride=(1, 1), padding=(1, 1), bias=False)\n",
       "            (1): BatchNorm2d(512, eps=1e-05, momentum=0.1, affine=True, track_running_stats=True)\n",
       "          )\n",
       "        )\n",
       "        (idpath): Sequential()\n",
       "        (act): ReLU(inplace=True)\n",
       "      )\n",
       "    )\n",
       "    (8): AdaptiveAvgPool2d(output_size=1)\n",
       "    (9): Flatten(full=False)\n",
       "    (10): Dropout(p=0.0, inplace=False)\n",
       "    (11): Linear(in_features=512, out_features=397, bias=True)\n",
       "  )\n",
       ")"
      ]
     },
     "execution_count": 23,
     "metadata": {},
     "output_type": "execute_result"
    }
   ],
   "source": [
    "new_model.cuda()"
   ]
  },
  {
   "cell_type": "code",
   "execution_count": 25,
   "id": "f1aa7f8b",
   "metadata": {},
   "outputs": [
    {
     "data": {
      "text/plain": [
       "<All keys matched successfully>"
      ]
     },
     "execution_count": 25,
     "metadata": {},
     "output_type": "execute_result"
    }
   ],
   "source": [
    "model_out_str = str(model_out_path/(model_name_base+\"2.pth\"))\n",
    "new_model.load_state_dict(torch.load(model_out_str))"
   ]
  },
  {
   "cell_type": "code",
   "execution_count": 27,
   "id": "d129b30c",
   "metadata": {},
   "outputs": [],
   "source": [
    "new_model[-1][-2]=nn.Dropout(p=0.5,inplace=False)"
   ]
  },
  {
   "cell_type": "code",
   "execution_count": 28,
   "id": "dc0c4d77",
   "metadata": {},
   "outputs": [
    {
     "data": {
      "text/plain": [
       "Sequential(\n",
       "  (0): Resample()\n",
       "  (1): MelSpectrogram(\n",
       "    (spectrogram): Spectrogram()\n",
       "    (mel_scale): MelScale()\n",
       "  )\n",
       "  (2): AmplitudeToDB()\n",
       "  (3): XResNet(\n",
       "    (0): ConvLayer(\n",
       "      (0): Conv2d(1, 32, kernel_size=(3, 3), stride=(2, 2), padding=(1, 1), bias=False)\n",
       "      (1): BatchNorm2d(32, eps=1e-05, momentum=0.1, affine=True, track_running_stats=True)\n",
       "      (2): ReLU()\n",
       "    )\n",
       "    (1): ConvLayer(\n",
       "      (0): Conv2d(32, 32, kernel_size=(3, 3), stride=(1, 1), padding=(1, 1), bias=False)\n",
       "      (1): BatchNorm2d(32, eps=1e-05, momentum=0.1, affine=True, track_running_stats=True)\n",
       "      (2): ReLU()\n",
       "    )\n",
       "    (2): ConvLayer(\n",
       "      (0): Conv2d(32, 64, kernel_size=(3, 3), stride=(1, 1), padding=(1, 1), bias=False)\n",
       "      (1): BatchNorm2d(64, eps=1e-05, momentum=0.1, affine=True, track_running_stats=True)\n",
       "      (2): ReLU()\n",
       "    )\n",
       "    (3): MaxPool2d(kernel_size=3, stride=2, padding=1, dilation=1, ceil_mode=False)\n",
       "    (4): Sequential(\n",
       "      (0): ResBlock(\n",
       "        (convpath): Sequential(\n",
       "          (0): ConvLayer(\n",
       "            (0): Conv2d(64, 64, kernel_size=(3, 3), stride=(1, 1), padding=(1, 1), bias=False)\n",
       "            (1): BatchNorm2d(64, eps=1e-05, momentum=0.1, affine=True, track_running_stats=True)\n",
       "            (2): ReLU()\n",
       "          )\n",
       "          (1): ConvLayer(\n",
       "            (0): Conv2d(64, 64, kernel_size=(3, 3), stride=(1, 1), padding=(1, 1), bias=False)\n",
       "            (1): BatchNorm2d(64, eps=1e-05, momentum=0.1, affine=True, track_running_stats=True)\n",
       "          )\n",
       "        )\n",
       "        (idpath): Sequential()\n",
       "        (act): ReLU(inplace=True)\n",
       "      )\n",
       "      (1): ResBlock(\n",
       "        (convpath): Sequential(\n",
       "          (0): ConvLayer(\n",
       "            (0): Conv2d(64, 64, kernel_size=(3, 3), stride=(1, 1), padding=(1, 1), bias=False)\n",
       "            (1): BatchNorm2d(64, eps=1e-05, momentum=0.1, affine=True, track_running_stats=True)\n",
       "            (2): ReLU()\n",
       "          )\n",
       "          (1): ConvLayer(\n",
       "            (0): Conv2d(64, 64, kernel_size=(3, 3), stride=(1, 1), padding=(1, 1), bias=False)\n",
       "            (1): BatchNorm2d(64, eps=1e-05, momentum=0.1, affine=True, track_running_stats=True)\n",
       "          )\n",
       "        )\n",
       "        (idpath): Sequential()\n",
       "        (act): ReLU(inplace=True)\n",
       "      )\n",
       "      (2): ResBlock(\n",
       "        (convpath): Sequential(\n",
       "          (0): ConvLayer(\n",
       "            (0): Conv2d(64, 64, kernel_size=(3, 3), stride=(1, 1), padding=(1, 1), bias=False)\n",
       "            (1): BatchNorm2d(64, eps=1e-05, momentum=0.1, affine=True, track_running_stats=True)\n",
       "            (2): ReLU()\n",
       "          )\n",
       "          (1): ConvLayer(\n",
       "            (0): Conv2d(64, 64, kernel_size=(3, 3), stride=(1, 1), padding=(1, 1), bias=False)\n",
       "            (1): BatchNorm2d(64, eps=1e-05, momentum=0.1, affine=True, track_running_stats=True)\n",
       "          )\n",
       "        )\n",
       "        (idpath): Sequential()\n",
       "        (act): ReLU(inplace=True)\n",
       "      )\n",
       "    )\n",
       "    (5): Sequential(\n",
       "      (0): ResBlock(\n",
       "        (convpath): Sequential(\n",
       "          (0): ConvLayer(\n",
       "            (0): Conv2d(64, 128, kernel_size=(3, 3), stride=(2, 2), padding=(1, 1), bias=False)\n",
       "            (1): BatchNorm2d(128, eps=1e-05, momentum=0.1, affine=True, track_running_stats=True)\n",
       "            (2): ReLU()\n",
       "          )\n",
       "          (1): ConvLayer(\n",
       "            (0): Conv2d(128, 128, kernel_size=(3, 3), stride=(1, 1), padding=(1, 1), bias=False)\n",
       "            (1): BatchNorm2d(128, eps=1e-05, momentum=0.1, affine=True, track_running_stats=True)\n",
       "          )\n",
       "        )\n",
       "        (idpath): Sequential(\n",
       "          (0): AvgPool2d(kernel_size=2, stride=2, padding=0)\n",
       "          (1): ConvLayer(\n",
       "            (0): Conv2d(64, 128, kernel_size=(1, 1), stride=(1, 1), bias=False)\n",
       "            (1): BatchNorm2d(128, eps=1e-05, momentum=0.1, affine=True, track_running_stats=True)\n",
       "          )\n",
       "        )\n",
       "        (act): ReLU(inplace=True)\n",
       "      )\n",
       "      (1): ResBlock(\n",
       "        (convpath): Sequential(\n",
       "          (0): ConvLayer(\n",
       "            (0): Conv2d(128, 128, kernel_size=(3, 3), stride=(1, 1), padding=(1, 1), bias=False)\n",
       "            (1): BatchNorm2d(128, eps=1e-05, momentum=0.1, affine=True, track_running_stats=True)\n",
       "            (2): ReLU()\n",
       "          )\n",
       "          (1): ConvLayer(\n",
       "            (0): Conv2d(128, 128, kernel_size=(3, 3), stride=(1, 1), padding=(1, 1), bias=False)\n",
       "            (1): BatchNorm2d(128, eps=1e-05, momentum=0.1, affine=True, track_running_stats=True)\n",
       "          )\n",
       "        )\n",
       "        (idpath): Sequential()\n",
       "        (act): ReLU(inplace=True)\n",
       "      )\n",
       "      (2): ResBlock(\n",
       "        (convpath): Sequential(\n",
       "          (0): ConvLayer(\n",
       "            (0): Conv2d(128, 128, kernel_size=(3, 3), stride=(1, 1), padding=(1, 1), bias=False)\n",
       "            (1): BatchNorm2d(128, eps=1e-05, momentum=0.1, affine=True, track_running_stats=True)\n",
       "            (2): ReLU()\n",
       "          )\n",
       "          (1): ConvLayer(\n",
       "            (0): Conv2d(128, 128, kernel_size=(3, 3), stride=(1, 1), padding=(1, 1), bias=False)\n",
       "            (1): BatchNorm2d(128, eps=1e-05, momentum=0.1, affine=True, track_running_stats=True)\n",
       "          )\n",
       "        )\n",
       "        (idpath): Sequential()\n",
       "        (act): ReLU(inplace=True)\n",
       "      )\n",
       "      (3): ResBlock(\n",
       "        (convpath): Sequential(\n",
       "          (0): ConvLayer(\n",
       "            (0): Conv2d(128, 128, kernel_size=(3, 3), stride=(1, 1), padding=(1, 1), bias=False)\n",
       "            (1): BatchNorm2d(128, eps=1e-05, momentum=0.1, affine=True, track_running_stats=True)\n",
       "            (2): ReLU()\n",
       "          )\n",
       "          (1): ConvLayer(\n",
       "            (0): Conv2d(128, 128, kernel_size=(3, 3), stride=(1, 1), padding=(1, 1), bias=False)\n",
       "            (1): BatchNorm2d(128, eps=1e-05, momentum=0.1, affine=True, track_running_stats=True)\n",
       "          )\n",
       "        )\n",
       "        (idpath): Sequential()\n",
       "        (act): ReLU(inplace=True)\n",
       "      )\n",
       "    )\n",
       "    (6): Sequential(\n",
       "      (0): ResBlock(\n",
       "        (convpath): Sequential(\n",
       "          (0): ConvLayer(\n",
       "            (0): Conv2d(128, 256, kernel_size=(3, 3), stride=(2, 2), padding=(1, 1), bias=False)\n",
       "            (1): BatchNorm2d(256, eps=1e-05, momentum=0.1, affine=True, track_running_stats=True)\n",
       "            (2): ReLU()\n",
       "          )\n",
       "          (1): ConvLayer(\n",
       "            (0): Conv2d(256, 256, kernel_size=(3, 3), stride=(1, 1), padding=(1, 1), bias=False)\n",
       "            (1): BatchNorm2d(256, eps=1e-05, momentum=0.1, affine=True, track_running_stats=True)\n",
       "          )\n",
       "        )\n",
       "        (idpath): Sequential(\n",
       "          (0): AvgPool2d(kernel_size=2, stride=2, padding=0)\n",
       "          (1): ConvLayer(\n",
       "            (0): Conv2d(128, 256, kernel_size=(1, 1), stride=(1, 1), bias=False)\n",
       "            (1): BatchNorm2d(256, eps=1e-05, momentum=0.1, affine=True, track_running_stats=True)\n",
       "          )\n",
       "        )\n",
       "        (act): ReLU(inplace=True)\n",
       "      )\n",
       "      (1): ResBlock(\n",
       "        (convpath): Sequential(\n",
       "          (0): ConvLayer(\n",
       "            (0): Conv2d(256, 256, kernel_size=(3, 3), stride=(1, 1), padding=(1, 1), bias=False)\n",
       "            (1): BatchNorm2d(256, eps=1e-05, momentum=0.1, affine=True, track_running_stats=True)\n",
       "            (2): ReLU()\n",
       "          )\n",
       "          (1): ConvLayer(\n",
       "            (0): Conv2d(256, 256, kernel_size=(3, 3), stride=(1, 1), padding=(1, 1), bias=False)\n",
       "            (1): BatchNorm2d(256, eps=1e-05, momentum=0.1, affine=True, track_running_stats=True)\n",
       "          )\n",
       "        )\n",
       "        (idpath): Sequential()\n",
       "        (act): ReLU(inplace=True)\n",
       "      )\n",
       "      (2): ResBlock(\n",
       "        (convpath): Sequential(\n",
       "          (0): ConvLayer(\n",
       "            (0): Conv2d(256, 256, kernel_size=(3, 3), stride=(1, 1), padding=(1, 1), bias=False)\n",
       "            (1): BatchNorm2d(256, eps=1e-05, momentum=0.1, affine=True, track_running_stats=True)\n",
       "            (2): ReLU()\n",
       "          )\n",
       "          (1): ConvLayer(\n",
       "            (0): Conv2d(256, 256, kernel_size=(3, 3), stride=(1, 1), padding=(1, 1), bias=False)\n",
       "            (1): BatchNorm2d(256, eps=1e-05, momentum=0.1, affine=True, track_running_stats=True)\n",
       "          )\n",
       "        )\n",
       "        (idpath): Sequential()\n",
       "        (act): ReLU(inplace=True)\n",
       "      )\n",
       "      (3): ResBlock(\n",
       "        (convpath): Sequential(\n",
       "          (0): ConvLayer(\n",
       "            (0): Conv2d(256, 256, kernel_size=(3, 3), stride=(1, 1), padding=(1, 1), bias=False)\n",
       "            (1): BatchNorm2d(256, eps=1e-05, momentum=0.1, affine=True, track_running_stats=True)\n",
       "            (2): ReLU()\n",
       "          )\n",
       "          (1): ConvLayer(\n",
       "            (0): Conv2d(256, 256, kernel_size=(3, 3), stride=(1, 1), padding=(1, 1), bias=False)\n",
       "            (1): BatchNorm2d(256, eps=1e-05, momentum=0.1, affine=True, track_running_stats=True)\n",
       "          )\n",
       "        )\n",
       "        (idpath): Sequential()\n",
       "        (act): ReLU(inplace=True)\n",
       "      )\n",
       "      (4): ResBlock(\n",
       "        (convpath): Sequential(\n",
       "          (0): ConvLayer(\n",
       "            (0): Conv2d(256, 256, kernel_size=(3, 3), stride=(1, 1), padding=(1, 1), bias=False)\n",
       "            (1): BatchNorm2d(256, eps=1e-05, momentum=0.1, affine=True, track_running_stats=True)\n",
       "            (2): ReLU()\n",
       "          )\n",
       "          (1): ConvLayer(\n",
       "            (0): Conv2d(256, 256, kernel_size=(3, 3), stride=(1, 1), padding=(1, 1), bias=False)\n",
       "            (1): BatchNorm2d(256, eps=1e-05, momentum=0.1, affine=True, track_running_stats=True)\n",
       "          )\n",
       "        )\n",
       "        (idpath): Sequential()\n",
       "        (act): ReLU(inplace=True)\n",
       "      )\n",
       "      (5): ResBlock(\n",
       "        (convpath): Sequential(\n",
       "          (0): ConvLayer(\n",
       "            (0): Conv2d(256, 256, kernel_size=(3, 3), stride=(1, 1), padding=(1, 1), bias=False)\n",
       "            (1): BatchNorm2d(256, eps=1e-05, momentum=0.1, affine=True, track_running_stats=True)\n",
       "            (2): ReLU()\n",
       "          )\n",
       "          (1): ConvLayer(\n",
       "            (0): Conv2d(256, 256, kernel_size=(3, 3), stride=(1, 1), padding=(1, 1), bias=False)\n",
       "            (1): BatchNorm2d(256, eps=1e-05, momentum=0.1, affine=True, track_running_stats=True)\n",
       "          )\n",
       "        )\n",
       "        (idpath): Sequential()\n",
       "        (act): ReLU(inplace=True)\n",
       "      )\n",
       "    )\n",
       "    (7): Sequential(\n",
       "      (0): ResBlock(\n",
       "        (convpath): Sequential(\n",
       "          (0): ConvLayer(\n",
       "            (0): Conv2d(256, 512, kernel_size=(3, 3), stride=(2, 2), padding=(1, 1), bias=False)\n",
       "            (1): BatchNorm2d(512, eps=1e-05, momentum=0.1, affine=True, track_running_stats=True)\n",
       "            (2): ReLU()\n",
       "          )\n",
       "          (1): ConvLayer(\n",
       "            (0): Conv2d(512, 512, kernel_size=(3, 3), stride=(1, 1), padding=(1, 1), bias=False)\n",
       "            (1): BatchNorm2d(512, eps=1e-05, momentum=0.1, affine=True, track_running_stats=True)\n",
       "          )\n",
       "        )\n",
       "        (idpath): Sequential(\n",
       "          (0): AvgPool2d(kernel_size=2, stride=2, padding=0)\n",
       "          (1): ConvLayer(\n",
       "            (0): Conv2d(256, 512, kernel_size=(1, 1), stride=(1, 1), bias=False)\n",
       "            (1): BatchNorm2d(512, eps=1e-05, momentum=0.1, affine=True, track_running_stats=True)\n",
       "          )\n",
       "        )\n",
       "        (act): ReLU(inplace=True)\n",
       "      )\n",
       "      (1): ResBlock(\n",
       "        (convpath): Sequential(\n",
       "          (0): ConvLayer(\n",
       "            (0): Conv2d(512, 512, kernel_size=(3, 3), stride=(1, 1), padding=(1, 1), bias=False)\n",
       "            (1): BatchNorm2d(512, eps=1e-05, momentum=0.1, affine=True, track_running_stats=True)\n",
       "            (2): ReLU()\n",
       "          )\n",
       "          (1): ConvLayer(\n",
       "            (0): Conv2d(512, 512, kernel_size=(3, 3), stride=(1, 1), padding=(1, 1), bias=False)\n",
       "            (1): BatchNorm2d(512, eps=1e-05, momentum=0.1, affine=True, track_running_stats=True)\n",
       "          )\n",
       "        )\n",
       "        (idpath): Sequential()\n",
       "        (act): ReLU(inplace=True)\n",
       "      )\n",
       "      (2): ResBlock(\n",
       "        (convpath): Sequential(\n",
       "          (0): ConvLayer(\n",
       "            (0): Conv2d(512, 512, kernel_size=(3, 3), stride=(1, 1), padding=(1, 1), bias=False)\n",
       "            (1): BatchNorm2d(512, eps=1e-05, momentum=0.1, affine=True, track_running_stats=True)\n",
       "            (2): ReLU()\n",
       "          )\n",
       "          (1): ConvLayer(\n",
       "            (0): Conv2d(512, 512, kernel_size=(3, 3), stride=(1, 1), padding=(1, 1), bias=False)\n",
       "            (1): BatchNorm2d(512, eps=1e-05, momentum=0.1, affine=True, track_running_stats=True)\n",
       "          )\n",
       "        )\n",
       "        (idpath): Sequential()\n",
       "        (act): ReLU(inplace=True)\n",
       "      )\n",
       "    )\n",
       "    (8): AdaptiveAvgPool2d(output_size=1)\n",
       "    (9): Flatten(full=False)\n",
       "    (10): Dropout(p=0.5, inplace=False)\n",
       "    (11): Linear(in_features=512, out_features=397, bias=True)\n",
       "  )\n",
       ")"
      ]
     },
     "execution_count": 28,
     "metadata": {},
     "output_type": "execute_result"
    }
   ],
   "source": [
    "new_model"
   ]
  },
  {
   "cell_type": "markdown",
   "id": "69194540",
   "metadata": {},
   "source": [
    "## Training functions"
   ]
  },
  {
   "cell_type": "code",
   "execution_count": 29,
   "id": "74da961e",
   "metadata": {},
   "outputs": [],
   "source": [
    "#def n_fn(*args): return 0"
   ]
  },
  {
   "cell_type": "code",
   "execution_count": 30,
   "id": "169ac7f7",
   "metadata": {},
   "outputs": [],
   "source": [
    "def trainfp32(epoch, train_dataloader, optimizer, loss_fn, lr_scheduler,\n",
    "              metric_fn, model):\n",
    "\n",
    "    #lr = adjust_learning_rate(optimizer, epoch-epoch_start)\n",
    "\n",
    "    #for param_group in optimizer.param_groups:\n",
    "    #   param_group[\"lr\"] = lr\n",
    "\n",
    "    #print(\"Epoch = {}, lr = {}\".format(epoch, optimizer.param_groups[0][\"lr\"]))\n",
    "\n",
    "    model.train()\n",
    "\n",
    "    training_loss = 0\n",
    "    metric = 0\n",
    "\n",
    "    pbar = tqdm(total=len(train_dataloader))\n",
    "\n",
    "    for batch in train_dataloader:\n",
    "\n",
    "        optimizer.zero_grad()\n",
    "\n",
    "        x, sr, y = batch\n",
    "\n",
    "        x = x.cuda(non_blocking=True)\n",
    "        y = y.cuda(non_blocking=True)\n",
    "\n",
    "        output = model(x)\n",
    "\n",
    "        loss = loss_fn(output, y)\n",
    "        #print(\"outputmax =\",torch.max(output, 1))\n",
    "        #print(\"ymax=\",torch.max(y, 1))\n",
    "\n",
    "        preds = torch.sigmoid(output).data > 0.5\n",
    "        preds = preds.to(torch.float32)\n",
    "\n",
    "        loss.backward()\n",
    "\n",
    "        optimizer.step()\n",
    "\n",
    "        lr_scheduler.step()\n",
    "\n",
    "        training_loss += loss.data.item() * x.size(0)\n",
    "\n",
    "        #np_target = target.to(\"cpu\").to(torch.int).numpy()\n",
    "        #np_preds = preds.to(\"cpu\").to(torch.int).numpy()\n",
    "\n",
    "        #metric += f1_score(np_target ,np_preds , average=\"samples\")  * data.size(0)\n",
    "\n",
    "        metric += metric_fn(y, preds) * x.size(0)\n",
    "\n",
    "        pbar.update(1)\n",
    "    pbar.close()\n",
    "    training_loss /= len(train_dataloader.dataset)\n",
    "    metric /= len(train_dataloader.dataset)\n",
    "    return training_loss, metric"
   ]
  },
  {
   "cell_type": "code",
   "execution_count": 31,
   "id": "0b8bcf5c",
   "metadata": {},
   "outputs": [],
   "source": [
    "def validatefp32(valid_dataloader, loss_fn, metric_fn, model):\n",
    "    validation_loss = 0\n",
    "    metric = 0\n",
    "    model.eval()\n",
    "    pbar = tqdm(total=len(valid_dataloader))\n",
    "    for batch in valid_dataloader:\n",
    "        x, sr, y = batch\n",
    "        x = x.cuda(non_blocking=True)\n",
    "        y = y.cuda(non_blocking=True)\n",
    "        output = model(x)\n",
    "        loss = loss_fn(output, y)\n",
    "        preds = torch.sigmoid(output).data > 0.5\n",
    "        preds = preds.to(torch.float32)\n",
    "        validation_loss += loss.data.item() * x.size(0)\n",
    "        metric += metric_fn(y, preds) * x.size(0)\n",
    "        pbar.update(1)\n",
    "    pbar.close()\n",
    "    validation_loss /= len(valid_dataloader.dataset)\n",
    "    metric /= len(valid_dataloader.dataset)\n",
    "    return validation_loss, metric"
   ]
  },
  {
   "cell_type": "code",
   "execution_count": 32,
   "id": "e038f7c9",
   "metadata": {},
   "outputs": [],
   "source": [
    "def predictfp32(batch, model):\n",
    "    x, sr, y = batch\n",
    "    x = x.cuda(non_blocking=True)\n",
    "    y = y.cuda(non_blocking=True)\n",
    "    output = model(x)\n",
    "    preds = torch.sigmoid(output).data > 0.5\n",
    "    preds = preds.to(torch.float32)\n",
    "    return output, preds"
   ]
  },
  {
   "cell_type": "code",
   "execution_count": 33,
   "id": "6da496e1",
   "metadata": {},
   "outputs": [],
   "source": [
    "init_lr = .001\n",
    "epochs=20*6"
   ]
  },
  {
   "cell_type": "code",
   "execution_count": 34,
   "id": "495d5936",
   "metadata": {},
   "outputs": [],
   "source": [
    "optimizer = torch.optim.Adam(new_model.parameters(), lr=init_lr, weight_decay=0)"
   ]
  },
  {
   "cell_type": "code",
   "execution_count": 35,
   "id": "fae2c97b",
   "metadata": {},
   "outputs": [],
   "source": [
    "loss_fn = torch.nn.BCEWithLogitsLoss()"
   ]
  },
  {
   "cell_type": "code",
   "execution_count": 36,
   "id": "d62433e2",
   "metadata": {},
   "outputs": [],
   "source": [
    "lr_scheduler = torch.optim.lr_scheduler.OneCycleLR(optimizer, max_lr=.0001, steps_per_epoch=len(train_dataloader),\n",
    "                                                  epochs=epochs)"
   ]
  },
  {
   "cell_type": "code",
   "execution_count": 37,
   "id": "499548f6",
   "metadata": {},
   "outputs": [],
   "source": [
    "from sklearn.metrics import f1_score, accuracy_score\n",
    "\n",
    "\n",
    "def f1_torch(preds, target):\n",
    "    np_target = target.to(\"cpu\").to(torch.int).numpy()\n",
    "    np_preds = preds.to(\"cpu\").to(torch.int).numpy()\n",
    "    return f1_score(np_target, np_preds, average=\"micro\", zero_division=0)\n",
    "\n",
    "\n",
    "def accuracy_torch(preds, target):\n",
    "    np_target = target.to(\"cpu\").to(torch.int).numpy()\n",
    "    np_preds = preds.to(\"cpu\").to(torch.int).numpy()\n",
    "    return accuracy_score(np_target, np_preds)"
   ]
  },
  {
   "cell_type": "code",
   "execution_count": 38,
   "id": "235223f7",
   "metadata": {},
   "outputs": [],
   "source": [
    "from tqdm.notebook import tqdm"
   ]
  },
  {
   "cell_type": "markdown",
   "id": "cda42a3a",
   "metadata": {},
   "source": [
    "## Training Loop"
   ]
  },
  {
   "cell_type": "code",
   "execution_count": 39,
   "id": "c16ea12c",
   "metadata": {},
   "outputs": [
    {
     "name": "stdout",
     "output_type": "stream",
     "text": [
      "Epoch: 1, LR: 4.000e-06--"
     ]
    },
    {
     "data": {
      "application/vnd.jupyter.widget-view+json": {
       "model_id": "fa21d9f6ed19452d8913aa415f6256eb",
       "version_major": 2,
       "version_minor": 0
      },
      "text/plain": [
       "  0%|          | 0/3144 [00:00<?, ?it/s]"
      ]
     },
     "metadata": {},
     "output_type": "display_data"
    },
    {
     "name": "stdout",
     "output_type": "stream",
     "text": [
      "Training-- Loss: 0.0039, Metric: 0.661,"
     ]
    },
    {
     "data": {
      "application/vnd.jupyter.widget-view+json": {
       "model_id": "edc6b5a8f5474317b758ac5612ce50b8",
       "version_major": 2,
       "version_minor": 0
      },
      "text/plain": [
       "  0%|          | 0/786 [00:00<?, ?it/s]"
      ]
     },
     "metadata": {},
     "output_type": "display_data"
    },
    {
     "name": "stdout",
     "output_type": "stream",
     "text": [
      "Validation-- Loss: 0.0060, Metric = 0.570\n",
      "Epoch: 2, LR: 4.183e-06--"
     ]
    },
    {
     "data": {
      "application/vnd.jupyter.widget-view+json": {
       "model_id": "ae60d02839114e1b9a7b4d013a1cd594",
       "version_major": 2,
       "version_minor": 0
      },
      "text/plain": [
       "  0%|          | 0/3144 [00:00<?, ?it/s]"
      ]
     },
     "metadata": {},
     "output_type": "display_data"
    },
    {
     "name": "stdout",
     "output_type": "stream",
     "text": [
      "Training-- Loss: 0.0039, Metric: 0.661,"
     ]
    },
    {
     "data": {
      "application/vnd.jupyter.widget-view+json": {
       "model_id": "63d8f36c5f8943babf58da3bc76a89d0",
       "version_major": 2,
       "version_minor": 0
      },
      "text/plain": [
       "  0%|          | 0/786 [00:00<?, ?it/s]"
      ]
     },
     "metadata": {},
     "output_type": "display_data"
    },
    {
     "name": "stdout",
     "output_type": "stream",
     "text": [
      "Validation-- Loss: 0.0060, Metric = 0.571\n",
      "Epoch: 3, LR: 4.729e-06--"
     ]
    },
    {
     "data": {
      "application/vnd.jupyter.widget-view+json": {
       "model_id": "76ad5f5606db4d63b9151c29e63f0f3f",
       "version_major": 2,
       "version_minor": 0
      },
      "text/plain": [
       "  0%|          | 0/3144 [00:00<?, ?it/s]"
      ]
     },
     "metadata": {},
     "output_type": "display_data"
    },
    {
     "name": "stdout",
     "output_type": "stream",
     "text": [
      "Training-- Loss: 0.0039, Metric: 0.662,"
     ]
    },
    {
     "data": {
      "application/vnd.jupyter.widget-view+json": {
       "model_id": "bbf7cb42eda44c2b94110013bad68d01",
       "version_major": 2,
       "version_minor": 0
      },
      "text/plain": [
       "  0%|          | 0/786 [00:00<?, ?it/s]"
      ]
     },
     "metadata": {},
     "output_type": "display_data"
    },
    {
     "name": "stdout",
     "output_type": "stream",
     "text": [
      "Validation-- Loss: 0.0061, Metric = 0.566\n",
      "Epoch: 4, LR: 5.636e-06--"
     ]
    },
    {
     "data": {
      "application/vnd.jupyter.widget-view+json": {
       "model_id": "9d501cc57c3442b2b6fa494324f253fe",
       "version_major": 2,
       "version_minor": 0
      },
      "text/plain": [
       "  0%|          | 0/3144 [00:00<?, ?it/s]"
      ]
     },
     "metadata": {},
     "output_type": "display_data"
    },
    {
     "name": "stdout",
     "output_type": "stream",
     "text": [
      "Training-- Loss: 0.0039, Metric: 0.659,"
     ]
    },
    {
     "data": {
      "application/vnd.jupyter.widget-view+json": {
       "model_id": "a8ae66ca669a4445bbf07b08f0e84b20",
       "version_major": 2,
       "version_minor": 0
      },
      "text/plain": [
       "  0%|          | 0/786 [00:00<?, ?it/s]"
      ]
     },
     "metadata": {},
     "output_type": "display_data"
    },
    {
     "name": "stdout",
     "output_type": "stream",
     "text": [
      "Validation-- Loss: 0.0059, Metric = 0.575\n",
      "Epoch: 5, LR: 6.895e-06--"
     ]
    },
    {
     "data": {
      "application/vnd.jupyter.widget-view+json": {
       "model_id": "42eda936ad66454495c657be027e5954",
       "version_major": 2,
       "version_minor": 0
      },
      "text/plain": [
       "  0%|          | 0/3144 [00:00<?, ?it/s]"
      ]
     },
     "metadata": {},
     "output_type": "display_data"
    },
    {
     "name": "stdout",
     "output_type": "stream",
     "text": [
      "Training-- Loss: 0.0039, Metric: 0.662,"
     ]
    },
    {
     "data": {
      "application/vnd.jupyter.widget-view+json": {
       "model_id": "343168a6f9e649af86e23bb919f22045",
       "version_major": 2,
       "version_minor": 0
      },
      "text/plain": [
       "  0%|          | 0/786 [00:00<?, ?it/s]"
      ]
     },
     "metadata": {},
     "output_type": "display_data"
    },
    {
     "name": "stdout",
     "output_type": "stream",
     "text": [
      "Validation-- Loss: 0.0060, Metric = 0.568\n",
      "Epoch: 6, LR: 8.497e-06--"
     ]
    },
    {
     "data": {
      "application/vnd.jupyter.widget-view+json": {
       "model_id": "3fec1973461043ce8800bbaab2637e0a",
       "version_major": 2,
       "version_minor": 0
      },
      "text/plain": [
       "  0%|          | 0/3144 [00:00<?, ?it/s]"
      ]
     },
     "metadata": {},
     "output_type": "display_data"
    },
    {
     "name": "stdout",
     "output_type": "stream",
     "text": [
      "Training-- Loss: 0.0039, Metric: 0.663,"
     ]
    },
    {
     "data": {
      "application/vnd.jupyter.widget-view+json": {
       "model_id": "4caf51cc85a64118aa214503c5237e57",
       "version_major": 2,
       "version_minor": 0
      },
      "text/plain": [
       "  0%|          | 0/786 [00:00<?, ?it/s]"
      ]
     },
     "metadata": {},
     "output_type": "display_data"
    },
    {
     "name": "stdout",
     "output_type": "stream",
     "text": [
      "Validation-- Loss: 0.0060, Metric = 0.567\n",
      "Epoch: 7, LR: 1.043e-05--"
     ]
    },
    {
     "data": {
      "application/vnd.jupyter.widget-view+json": {
       "model_id": "6993679e4dc14274b515eec9ba3c92eb",
       "version_major": 2,
       "version_minor": 0
      },
      "text/plain": [
       "  0%|          | 0/3144 [00:00<?, ?it/s]"
      ]
     },
     "metadata": {},
     "output_type": "display_data"
    },
    {
     "name": "stdout",
     "output_type": "stream",
     "text": [
      "Training-- Loss: 0.0038, Metric: 0.665,"
     ]
    },
    {
     "data": {
      "application/vnd.jupyter.widget-view+json": {
       "model_id": "024e3a62795c406988e14b160aac372b",
       "version_major": 2,
       "version_minor": 0
      },
      "text/plain": [
       "  0%|          | 0/786 [00:00<?, ?it/s]"
      ]
     },
     "metadata": {},
     "output_type": "display_data"
    },
    {
     "name": "stdout",
     "output_type": "stream",
     "text": [
      "Validation-- Loss: 0.0060, Metric = 0.568\n",
      "Epoch: 8, LR: 1.268e-05--"
     ]
    },
    {
     "data": {
      "application/vnd.jupyter.widget-view+json": {
       "model_id": "41b8eb5d62e24fdab1ed6ed9510fb577",
       "version_major": 2,
       "version_minor": 0
      },
      "text/plain": [
       "  0%|          | 0/3144 [00:00<?, ?it/s]"
      ]
     },
     "metadata": {},
     "output_type": "display_data"
    },
    {
     "name": "stdout",
     "output_type": "stream",
     "text": [
      "Training-- Loss: 0.0039, Metric: 0.663,"
     ]
    },
    {
     "data": {
      "application/vnd.jupyter.widget-view+json": {
       "model_id": "ee08dba98b494b5eba4e1f2be33e2ee0",
       "version_major": 2,
       "version_minor": 0
      },
      "text/plain": [
       "  0%|          | 0/786 [00:00<?, ?it/s]"
      ]
     },
     "metadata": {},
     "output_type": "display_data"
    },
    {
     "name": "stdout",
     "output_type": "stream",
     "text": [
      "Validation-- Loss: 0.0062, Metric = 0.567\n",
      "Epoch: 9, LR: 1.523e-05--"
     ]
    },
    {
     "data": {
      "application/vnd.jupyter.widget-view+json": {
       "model_id": "eb683c134f1c4e9894e088c92afd6e4a",
       "version_major": 2,
       "version_minor": 0
      },
      "text/plain": [
       "  0%|          | 0/3144 [00:00<?, ?it/s]"
      ]
     },
     "metadata": {},
     "output_type": "display_data"
    },
    {
     "name": "stdout",
     "output_type": "stream",
     "text": [
      "Training-- Loss: 0.0039, Metric: 0.665,"
     ]
    },
    {
     "data": {
      "application/vnd.jupyter.widget-view+json": {
       "model_id": "b0c5c96e84244dc4b669394d9361fec3",
       "version_major": 2,
       "version_minor": 0
      },
      "text/plain": [
       "  0%|          | 0/786 [00:00<?, ?it/s]"
      ]
     },
     "metadata": {},
     "output_type": "display_data"
    },
    {
     "name": "stdout",
     "output_type": "stream",
     "text": [
      "Validation-- Loss: 0.0061, Metric = 0.570\n",
      "Epoch: 10, LR: 1.806e-05--"
     ]
    },
    {
     "data": {
      "application/vnd.jupyter.widget-view+json": {
       "model_id": "ce56a765859f41b0af67d686f10fe12f",
       "version_major": 2,
       "version_minor": 0
      },
      "text/plain": [
       "  0%|          | 0/3144 [00:00<?, ?it/s]"
      ]
     },
     "metadata": {},
     "output_type": "display_data"
    },
    {
     "name": "stdout",
     "output_type": "stream",
     "text": [
      "Training-- Loss: 0.0038, Metric: 0.665,"
     ]
    },
    {
     "data": {
      "application/vnd.jupyter.widget-view+json": {
       "model_id": "2fe9fcd81dcf41acb27d5f6943576441",
       "version_major": 2,
       "version_minor": 0
      },
      "text/plain": [
       "  0%|          | 0/786 [00:00<?, ?it/s]"
      ]
     },
     "metadata": {},
     "output_type": "display_data"
    },
    {
     "name": "stdout",
     "output_type": "stream",
     "text": [
      "Validation-- Loss: 0.0061, Metric = 0.571\n",
      "Epoch: 11, LR: 2.115e-05--"
     ]
    },
    {
     "data": {
      "application/vnd.jupyter.widget-view+json": {
       "model_id": "07e71e47f9e947139b5b9ce8734c8d17",
       "version_major": 2,
       "version_minor": 0
      },
      "text/plain": [
       "  0%|          | 0/3144 [00:00<?, ?it/s]"
      ]
     },
     "metadata": {},
     "output_type": "display_data"
    },
    {
     "name": "stdout",
     "output_type": "stream",
     "text": [
      "Training-- Loss: 0.0038, Metric: 0.669,"
     ]
    },
    {
     "data": {
      "application/vnd.jupyter.widget-view+json": {
       "model_id": "0c925d6cdc074cdd8e34f0883928f2da",
       "version_major": 2,
       "version_minor": 0
      },
      "text/plain": [
       "  0%|          | 0/786 [00:00<?, ?it/s]"
      ]
     },
     "metadata": {},
     "output_type": "display_data"
    },
    {
     "name": "stdout",
     "output_type": "stream",
     "text": [
      "Validation-- Loss: 0.0061, Metric = 0.569\n",
      "Epoch: 12, LR: 2.447e-05--"
     ]
    },
    {
     "data": {
      "application/vnd.jupyter.widget-view+json": {
       "model_id": "f7c07aa352df450b9e88629deef5dfb4",
       "version_major": 2,
       "version_minor": 0
      },
      "text/plain": [
       "  0%|          | 0/3144 [00:00<?, ?it/s]"
      ]
     },
     "metadata": {},
     "output_type": "display_data"
    },
    {
     "name": "stdout",
     "output_type": "stream",
     "text": [
      "Training-- Loss: 0.0038, Metric: 0.667,"
     ]
    },
    {
     "data": {
      "application/vnd.jupyter.widget-view+json": {
       "model_id": "c4ffc608614744d0bc893277af8bb634",
       "version_major": 2,
       "version_minor": 0
      },
      "text/plain": [
       "  0%|          | 0/786 [00:00<?, ?it/s]"
      ]
     },
     "metadata": {},
     "output_type": "display_data"
    },
    {
     "name": "stdout",
     "output_type": "stream",
     "text": [
      "Validation-- Loss: 0.0060, Metric = 0.581\n",
      "Epoch: 13, LR: 2.800e-05--"
     ]
    },
    {
     "data": {
      "application/vnd.jupyter.widget-view+json": {
       "model_id": "80b93f7844fb438cb337786ea77cbd63",
       "version_major": 2,
       "version_minor": 0
      },
      "text/plain": [
       "  0%|          | 0/3144 [00:00<?, ?it/s]"
      ]
     },
     "metadata": {},
     "output_type": "display_data"
    },
    {
     "name": "stdout",
     "output_type": "stream",
     "text": [
      "Training-- Loss: 0.0038, Metric: 0.669,"
     ]
    },
    {
     "data": {
      "application/vnd.jupyter.widget-view+json": {
       "model_id": "82ae3bbbb0274f76a007b89dbd3d9049",
       "version_major": 2,
       "version_minor": 0
      },
      "text/plain": [
       "  0%|          | 0/786 [00:00<?, ?it/s]"
      ]
     },
     "metadata": {},
     "output_type": "display_data"
    },
    {
     "name": "stdout",
     "output_type": "stream",
     "text": [
      "Validation-- Loss: 0.0061, Metric = 0.579\n",
      "Epoch: 14, LR: 3.171e-05--"
     ]
    },
    {
     "data": {
      "application/vnd.jupyter.widget-view+json": {
       "model_id": "cc7b6d18567f438fa34ce0d62e7a0036",
       "version_major": 2,
       "version_minor": 0
      },
      "text/plain": [
       "  0%|          | 0/3144 [00:00<?, ?it/s]"
      ]
     },
     "metadata": {},
     "output_type": "display_data"
    },
    {
     "name": "stdout",
     "output_type": "stream",
     "text": [
      "Training-- Loss: 0.0038, Metric: 0.671,"
     ]
    },
    {
     "data": {
      "application/vnd.jupyter.widget-view+json": {
       "model_id": "c9dbf50905084855b563419a4a9ca8c8",
       "version_major": 2,
       "version_minor": 0
      },
      "text/plain": [
       "  0%|          | 0/786 [00:00<?, ?it/s]"
      ]
     },
     "metadata": {},
     "output_type": "display_data"
    },
    {
     "name": "stdout",
     "output_type": "stream",
     "text": [
      "Validation-- Loss: 0.0060, Metric = 0.574\n",
      "Epoch: 15, LR: 3.558e-05--"
     ]
    },
    {
     "data": {
      "application/vnd.jupyter.widget-view+json": {
       "model_id": "e9a1354e1a45467c8cc7044ac769d7cc",
       "version_major": 2,
       "version_minor": 0
      },
      "text/plain": [
       "  0%|          | 0/3144 [00:00<?, ?it/s]"
      ]
     },
     "metadata": {},
     "output_type": "display_data"
    },
    {
     "name": "stdout",
     "output_type": "stream",
     "text": [
      "Training-- Loss: 0.0038, Metric: 0.670,"
     ]
    },
    {
     "data": {
      "application/vnd.jupyter.widget-view+json": {
       "model_id": "58b35a39986a4d5a92aa27578923b1a6",
       "version_major": 2,
       "version_minor": 0
      },
      "text/plain": [
       "  0%|          | 0/786 [00:00<?, ?it/s]"
      ]
     },
     "metadata": {},
     "output_type": "display_data"
    },
    {
     "name": "stdout",
     "output_type": "stream",
     "text": [
      "Validation-- Loss: 0.0060, Metric = 0.573\n",
      "Epoch: 16, LR: 3.958e-05--"
     ]
    },
    {
     "data": {
      "application/vnd.jupyter.widget-view+json": {
       "model_id": "0c947f23db07408db0e639cac5c0f50a",
       "version_major": 2,
       "version_minor": 0
      },
      "text/plain": [
       "  0%|          | 0/3144 [00:00<?, ?it/s]"
      ]
     },
     "metadata": {},
     "output_type": "display_data"
    },
    {
     "name": "stdout",
     "output_type": "stream",
     "text": [
      "Training-- Loss: 0.0038, Metric: 0.672,"
     ]
    },
    {
     "data": {
      "application/vnd.jupyter.widget-view+json": {
       "model_id": "391e89c62add433489a42fd532c67cd0",
       "version_major": 2,
       "version_minor": 0
      },
      "text/plain": [
       "  0%|          | 0/786 [00:00<?, ?it/s]"
      ]
     },
     "metadata": {},
     "output_type": "display_data"
    },
    {
     "name": "stdout",
     "output_type": "stream",
     "text": [
      "Validation-- Loss: 0.0061, Metric = 0.571\n",
      "Epoch: 17, LR: 4.367e-05--"
     ]
    },
    {
     "data": {
      "application/vnd.jupyter.widget-view+json": {
       "model_id": "404a6c5fa349420aaac99b1a1d5f4b0c",
       "version_major": 2,
       "version_minor": 0
      },
      "text/plain": [
       "  0%|          | 0/3144 [00:00<?, ?it/s]"
      ]
     },
     "metadata": {},
     "output_type": "display_data"
    },
    {
     "name": "stdout",
     "output_type": "stream",
     "text": [
      "Training-- Loss: 0.0037, Metric: 0.677,"
     ]
    },
    {
     "data": {
      "application/vnd.jupyter.widget-view+json": {
       "model_id": "1147bf022ed244ad88ca40b8cf7e42fa",
       "version_major": 2,
       "version_minor": 0
      },
      "text/plain": [
       "  0%|          | 0/786 [00:00<?, ?it/s]"
      ]
     },
     "metadata": {},
     "output_type": "display_data"
    },
    {
     "name": "stdout",
     "output_type": "stream",
     "text": [
      "Validation-- Loss: 0.0062, Metric = 0.580\n",
      "Epoch: 18, LR: 4.782e-05--"
     ]
    },
    {
     "data": {
      "application/vnd.jupyter.widget-view+json": {
       "model_id": "01da2ca36bee48dfb5c110076dc9651d",
       "version_major": 2,
       "version_minor": 0
      },
      "text/plain": [
       "  0%|          | 0/3144 [00:00<?, ?it/s]"
      ]
     },
     "metadata": {},
     "output_type": "display_data"
    },
    {
     "name": "stdout",
     "output_type": "stream",
     "text": [
      "Training-- Loss: 0.0037, Metric: 0.677,"
     ]
    },
    {
     "data": {
      "application/vnd.jupyter.widget-view+json": {
       "model_id": "0cd2253cffcd4f58bd4d62b6b5ff0465",
       "version_major": 2,
       "version_minor": 0
      },
      "text/plain": [
       "  0%|          | 0/786 [00:00<?, ?it/s]"
      ]
     },
     "metadata": {},
     "output_type": "display_data"
    },
    {
     "name": "stdout",
     "output_type": "stream",
     "text": [
      "Validation-- Loss: 0.0061, Metric = 0.579\n",
      "Epoch: 19, LR: 5.200e-05--"
     ]
    },
    {
     "data": {
      "application/vnd.jupyter.widget-view+json": {
       "model_id": "741b58281c024d9b823c64e48d1c091a",
       "version_major": 2,
       "version_minor": 0
      },
      "text/plain": [
       "  0%|          | 0/3144 [00:00<?, ?it/s]"
      ]
     },
     "metadata": {},
     "output_type": "display_data"
    },
    {
     "name": "stdout",
     "output_type": "stream",
     "text": [
      "Training-- Loss: 0.0037, Metric: 0.678,"
     ]
    },
    {
     "data": {
      "application/vnd.jupyter.widget-view+json": {
       "model_id": "74f2094a2ae447f394fba642a2e95eb3",
       "version_major": 2,
       "version_minor": 0
      },
      "text/plain": [
       "  0%|          | 0/786 [00:00<?, ?it/s]"
      ]
     },
     "metadata": {},
     "output_type": "display_data"
    },
    {
     "name": "stdout",
     "output_type": "stream",
     "text": [
      "Validation-- Loss: 0.0062, Metric = 0.579\n",
      "Epoch: 20, LR: 5.618e-05--"
     ]
    },
    {
     "data": {
      "application/vnd.jupyter.widget-view+json": {
       "model_id": "59a0547ab7f540b7ba5c8708923729d2",
       "version_major": 2,
       "version_minor": 0
      },
      "text/plain": [
       "  0%|          | 0/3144 [00:00<?, ?it/s]"
      ]
     },
     "metadata": {},
     "output_type": "display_data"
    },
    {
     "name": "stdout",
     "output_type": "stream",
     "text": [
      "Training-- Loss: 0.0037, Metric: 0.678,"
     ]
    },
    {
     "data": {
      "application/vnd.jupyter.widget-view+json": {
       "model_id": "96912d3070904b49ab2028d409993b7c",
       "version_major": 2,
       "version_minor": 0
      },
      "text/plain": [
       "  0%|          | 0/786 [00:00<?, ?it/s]"
      ]
     },
     "metadata": {},
     "output_type": "display_data"
    },
    {
     "name": "stdout",
     "output_type": "stream",
     "text": [
      "Validation-- Loss: 0.0061, Metric = 0.573\n",
      "Epoch: 21, LR: 6.034e-05--"
     ]
    },
    {
     "data": {
      "application/vnd.jupyter.widget-view+json": {
       "model_id": "2664c40c78de4bf290ad2d2c01bd633f",
       "version_major": 2,
       "version_minor": 0
      },
      "text/plain": [
       "  0%|          | 0/3144 [00:00<?, ?it/s]"
      ]
     },
     "metadata": {},
     "output_type": "display_data"
    },
    {
     "name": "stdout",
     "output_type": "stream",
     "text": [
      "Training-- Loss: 0.0037, Metric: 0.682,"
     ]
    },
    {
     "data": {
      "application/vnd.jupyter.widget-view+json": {
       "model_id": "674066eb884e49c89ad147ae2cb49669",
       "version_major": 2,
       "version_minor": 0
      },
      "text/plain": [
       "  0%|          | 0/786 [00:00<?, ?it/s]"
      ]
     },
     "metadata": {},
     "output_type": "display_data"
    },
    {
     "name": "stdout",
     "output_type": "stream",
     "text": [
      "Validation-- Loss: 0.0061, Metric = 0.577\n",
      "Epoch: 22, LR: 6.442e-05--"
     ]
    },
    {
     "data": {
      "application/vnd.jupyter.widget-view+json": {
       "model_id": "18518a1ab2ea4dfbb3a400d47c64e13a",
       "version_major": 2,
       "version_minor": 0
      },
      "text/plain": [
       "  0%|          | 0/3144 [00:00<?, ?it/s]"
      ]
     },
     "metadata": {},
     "output_type": "display_data"
    },
    {
     "name": "stdout",
     "output_type": "stream",
     "text": [
      "Training-- Loss: 0.0037, Metric: 0.680,"
     ]
    },
    {
     "data": {
      "application/vnd.jupyter.widget-view+json": {
       "model_id": "5871ba5ade6c42c9a4f0693f18697688",
       "version_major": 2,
       "version_minor": 0
      },
      "text/plain": [
       "  0%|          | 0/786 [00:00<?, ?it/s]"
      ]
     },
     "metadata": {},
     "output_type": "display_data"
    },
    {
     "name": "stdout",
     "output_type": "stream",
     "text": [
      "Validation-- Loss: 0.0061, Metric = 0.577\n",
      "Epoch: 23, LR: 6.842e-05--"
     ]
    },
    {
     "data": {
      "application/vnd.jupyter.widget-view+json": {
       "model_id": "7f1ccf3249764868892ffd35ceca469e",
       "version_major": 2,
       "version_minor": 0
      },
      "text/plain": [
       "  0%|          | 0/3144 [00:00<?, ?it/s]"
      ]
     },
     "metadata": {},
     "output_type": "display_data"
    },
    {
     "name": "stdout",
     "output_type": "stream",
     "text": [
      "Training-- Loss: 0.0036, Metric: 0.684,"
     ]
    },
    {
     "data": {
      "application/vnd.jupyter.widget-view+json": {
       "model_id": "fafae5c7e11e4851be7aa96e2d0e0a9d",
       "version_major": 2,
       "version_minor": 0
      },
      "text/plain": [
       "  0%|          | 0/786 [00:00<?, ?it/s]"
      ]
     },
     "metadata": {},
     "output_type": "display_data"
    },
    {
     "name": "stdout",
     "output_type": "stream",
     "text": [
      "Validation-- Loss: 0.0062, Metric = 0.577\n",
      "Epoch: 24, LR: 7.229e-05--"
     ]
    },
    {
     "data": {
      "application/vnd.jupyter.widget-view+json": {
       "model_id": "c035a5b43f4a4145b850eb9cf32f27a7",
       "version_major": 2,
       "version_minor": 0
      },
      "text/plain": [
       "  0%|          | 0/3144 [00:00<?, ?it/s]"
      ]
     },
     "metadata": {},
     "output_type": "display_data"
    },
    {
     "name": "stdout",
     "output_type": "stream",
     "text": [
      "Training-- Loss: 0.0036, Metric: 0.684,"
     ]
    },
    {
     "data": {
      "application/vnd.jupyter.widget-view+json": {
       "model_id": "755282e73ff74334b08a551a6de0a1eb",
       "version_major": 2,
       "version_minor": 0
      },
      "text/plain": [
       "  0%|          | 0/786 [00:00<?, ?it/s]"
      ]
     },
     "metadata": {},
     "output_type": "display_data"
    },
    {
     "name": "stdout",
     "output_type": "stream",
     "text": [
      "Validation-- Loss: 0.0063, Metric = 0.578\n",
      "Epoch: 25, LR: 7.600e-05--"
     ]
    },
    {
     "data": {
      "application/vnd.jupyter.widget-view+json": {
       "model_id": "a61857b75fa149769f8057a2c939fa4b",
       "version_major": 2,
       "version_minor": 0
      },
      "text/plain": [
       "  0%|          | 0/3144 [00:00<?, ?it/s]"
      ]
     },
     "metadata": {},
     "output_type": "display_data"
    },
    {
     "name": "stdout",
     "output_type": "stream",
     "text": [
      "Training-- Loss: 0.0036, Metric: 0.688,"
     ]
    },
    {
     "data": {
      "application/vnd.jupyter.widget-view+json": {
       "model_id": "a24895ff78e048d39de6b49705fcf83c",
       "version_major": 2,
       "version_minor": 0
      },
      "text/plain": [
       "  0%|          | 0/786 [00:00<?, ?it/s]"
      ]
     },
     "metadata": {},
     "output_type": "display_data"
    },
    {
     "name": "stdout",
     "output_type": "stream",
     "text": [
      "Validation-- Loss: 0.0061, Metric = 0.579\n",
      "Epoch: 26, LR: 7.953e-05--"
     ]
    },
    {
     "data": {
      "application/vnd.jupyter.widget-view+json": {
       "model_id": "393f6f39e17d4e36b92146a87096470f",
       "version_major": 2,
       "version_minor": 0
      },
      "text/plain": [
       "  0%|          | 0/3144 [00:00<?, ?it/s]"
      ]
     },
     "metadata": {},
     "output_type": "display_data"
    },
    {
     "name": "stdout",
     "output_type": "stream",
     "text": [
      "Training-- Loss: 0.0036, Metric: 0.688,"
     ]
    },
    {
     "data": {
      "application/vnd.jupyter.widget-view+json": {
       "model_id": "e4f43b14774c41e9828f82e32c7e2d32",
       "version_major": 2,
       "version_minor": 0
      },
      "text/plain": [
       "  0%|          | 0/786 [00:00<?, ?it/s]"
      ]
     },
     "metadata": {},
     "output_type": "display_data"
    },
    {
     "name": "stdout",
     "output_type": "stream",
     "text": [
      "Validation-- Loss: 0.0062, Metric = 0.580\n",
      "Epoch: 27, LR: 8.285e-05--"
     ]
    },
    {
     "data": {
      "application/vnd.jupyter.widget-view+json": {
       "model_id": "8479286dbafc41d0856d84afe71482c6",
       "version_major": 2,
       "version_minor": 0
      },
      "text/plain": [
       "  0%|          | 0/3144 [00:00<?, ?it/s]"
      ]
     },
     "metadata": {},
     "output_type": "display_data"
    },
    {
     "name": "stdout",
     "output_type": "stream",
     "text": [
      "Training-- Loss: 0.0036, Metric: 0.688,"
     ]
    },
    {
     "data": {
      "application/vnd.jupyter.widget-view+json": {
       "model_id": "589b46a738474fdd86751c155445abef",
       "version_major": 2,
       "version_minor": 0
      },
      "text/plain": [
       "  0%|          | 0/786 [00:00<?, ?it/s]"
      ]
     },
     "metadata": {},
     "output_type": "display_data"
    },
    {
     "name": "stdout",
     "output_type": "stream",
     "text": [
      "Validation-- Loss: 0.0062, Metric = 0.576\n",
      "Epoch: 28, LR: 8.594e-05--"
     ]
    },
    {
     "data": {
      "application/vnd.jupyter.widget-view+json": {
       "model_id": "0c90dd568a12472791b1d136c6ad959c",
       "version_major": 2,
       "version_minor": 0
      },
      "text/plain": [
       "  0%|          | 0/3144 [00:00<?, ?it/s]"
      ]
     },
     "metadata": {},
     "output_type": "display_data"
    },
    {
     "name": "stdout",
     "output_type": "stream",
     "text": [
      "Training-- Loss: 0.0035, Metric: 0.694,"
     ]
    },
    {
     "data": {
      "application/vnd.jupyter.widget-view+json": {
       "model_id": "5b5357184004499cac90bb4feb3163c4",
       "version_major": 2,
       "version_minor": 0
      },
      "text/plain": [
       "  0%|          | 0/786 [00:00<?, ?it/s]"
      ]
     },
     "metadata": {},
     "output_type": "display_data"
    },
    {
     "name": "stdout",
     "output_type": "stream",
     "text": [
      "Validation-- Loss: 0.0062, Metric = 0.573\n",
      "Epoch: 29, LR: 8.877e-05--"
     ]
    },
    {
     "data": {
      "application/vnd.jupyter.widget-view+json": {
       "model_id": "3b127ac599d64ab2ab7521701497a2dd",
       "version_major": 2,
       "version_minor": 0
      },
      "text/plain": [
       "  0%|          | 0/3144 [00:00<?, ?it/s]"
      ]
     },
     "metadata": {},
     "output_type": "display_data"
    },
    {
     "name": "stdout",
     "output_type": "stream",
     "text": [
      "Training-- Loss: 0.0035, Metric: 0.691,"
     ]
    },
    {
     "data": {
      "application/vnd.jupyter.widget-view+json": {
       "model_id": "bb897f51155e4cd8a56407103707a2c1",
       "version_major": 2,
       "version_minor": 0
      },
      "text/plain": [
       "  0%|          | 0/786 [00:00<?, ?it/s]"
      ]
     },
     "metadata": {},
     "output_type": "display_data"
    },
    {
     "name": "stdout",
     "output_type": "stream",
     "text": [
      "Validation-- Loss: 0.0063, Metric = 0.577\n",
      "Epoch: 30, LR: 9.132e-05--"
     ]
    },
    {
     "data": {
      "application/vnd.jupyter.widget-view+json": {
       "model_id": "515a5300b9894eddb236ba820c38235d",
       "version_major": 2,
       "version_minor": 0
      },
      "text/plain": [
       "  0%|          | 0/3144 [00:00<?, ?it/s]"
      ]
     },
     "metadata": {},
     "output_type": "display_data"
    },
    {
     "name": "stdout",
     "output_type": "stream",
     "text": [
      "Training-- Loss: 0.0034, Metric: 0.699,"
     ]
    },
    {
     "data": {
      "application/vnd.jupyter.widget-view+json": {
       "model_id": "42d2508f3ee4444abb1a16485bd4596b",
       "version_major": 2,
       "version_minor": 0
      },
      "text/plain": [
       "  0%|          | 0/786 [00:00<?, ?it/s]"
      ]
     },
     "metadata": {},
     "output_type": "display_data"
    },
    {
     "name": "stdout",
     "output_type": "stream",
     "text": [
      "Validation-- Loss: 0.0064, Metric = 0.574\n",
      "Epoch: 31, LR: 9.357e-05--"
     ]
    },
    {
     "data": {
      "application/vnd.jupyter.widget-view+json": {
       "model_id": "6451028a89bf49d3b6e0e4b0e862eb8b",
       "version_major": 2,
       "version_minor": 0
      },
      "text/plain": [
       "  0%|          | 0/3144 [00:00<?, ?it/s]"
      ]
     },
     "metadata": {},
     "output_type": "display_data"
    },
    {
     "name": "stdout",
     "output_type": "stream",
     "text": [
      "Training-- Loss: 0.0034, Metric: 0.699,"
     ]
    },
    {
     "data": {
      "application/vnd.jupyter.widget-view+json": {
       "model_id": "4ef85568fc494fce84143709e70674f1",
       "version_major": 2,
       "version_minor": 0
      },
      "text/plain": [
       "  0%|          | 0/786 [00:00<?, ?it/s]"
      ]
     },
     "metadata": {},
     "output_type": "display_data"
    },
    {
     "name": "stdout",
     "output_type": "stream",
     "text": [
      "Validation-- Loss: 0.0062, Metric = 0.584\n",
      "Epoch: 32, LR: 9.550e-05--"
     ]
    },
    {
     "data": {
      "application/vnd.jupyter.widget-view+json": {
       "model_id": "82a01d2dc6b1443ea6a6c992147225b8",
       "version_major": 2,
       "version_minor": 0
      },
      "text/plain": [
       "  0%|          | 0/3144 [00:00<?, ?it/s]"
      ]
     },
     "metadata": {},
     "output_type": "display_data"
    },
    {
     "name": "stdout",
     "output_type": "stream",
     "text": [
      "Training-- Loss: 0.0034, Metric: 0.699,"
     ]
    },
    {
     "data": {
      "application/vnd.jupyter.widget-view+json": {
       "model_id": "871a0b7cd5544f01b0ddd6a0448c60e6",
       "version_major": 2,
       "version_minor": 0
      },
      "text/plain": [
       "  0%|          | 0/786 [00:00<?, ?it/s]"
      ]
     },
     "metadata": {},
     "output_type": "display_data"
    },
    {
     "name": "stdout",
     "output_type": "stream",
     "text": [
      "Validation-- Loss: 0.0064, Metric = 0.576\n",
      "Epoch: 33, LR: 9.711e-05--"
     ]
    },
    {
     "data": {
      "application/vnd.jupyter.widget-view+json": {
       "model_id": "18a78d8d74a046c1855284a0f4599f11",
       "version_major": 2,
       "version_minor": 0
      },
      "text/plain": [
       "  0%|          | 0/3144 [00:00<?, ?it/s]"
      ]
     },
     "metadata": {},
     "output_type": "display_data"
    },
    {
     "name": "stdout",
     "output_type": "stream",
     "text": [
      "Training-- Loss: 0.0034, Metric: 0.704,"
     ]
    },
    {
     "data": {
      "application/vnd.jupyter.widget-view+json": {
       "model_id": "9ae0a923cb634b57afd4e033f850dd19",
       "version_major": 2,
       "version_minor": 0
      },
      "text/plain": [
       "  0%|          | 0/786 [00:00<?, ?it/s]"
      ]
     },
     "metadata": {},
     "output_type": "display_data"
    },
    {
     "name": "stdout",
     "output_type": "stream",
     "text": [
      "Validation-- Loss: 0.0064, Metric = 0.579\n",
      "Epoch: 34, LR: 9.836e-05--"
     ]
    },
    {
     "data": {
      "application/vnd.jupyter.widget-view+json": {
       "model_id": "07f265a3e6804b248422c6b810797bca",
       "version_major": 2,
       "version_minor": 0
      },
      "text/plain": [
       "  0%|          | 0/3144 [00:00<?, ?it/s]"
      ]
     },
     "metadata": {},
     "output_type": "display_data"
    },
    {
     "name": "stdout",
     "output_type": "stream",
     "text": [
      "Training-- Loss: 0.0034, Metric: 0.703,"
     ]
    },
    {
     "data": {
      "application/vnd.jupyter.widget-view+json": {
       "model_id": "708b291c9b1a4806b03ab0ccd259f29a",
       "version_major": 2,
       "version_minor": 0
      },
      "text/plain": [
       "  0%|          | 0/786 [00:00<?, ?it/s]"
      ]
     },
     "metadata": {},
     "output_type": "display_data"
    },
    {
     "name": "stdout",
     "output_type": "stream",
     "text": [
      "Validation-- Loss: 0.0063, Metric = 0.577\n",
      "Epoch: 35, LR: 9.927e-05--"
     ]
    },
    {
     "data": {
      "application/vnd.jupyter.widget-view+json": {
       "model_id": "f222b9db09a241d4a6ca2d0c49d6ef3f",
       "version_major": 2,
       "version_minor": 0
      },
      "text/plain": [
       "  0%|          | 0/3144 [00:00<?, ?it/s]"
      ]
     },
     "metadata": {},
     "output_type": "display_data"
    },
    {
     "name": "stdout",
     "output_type": "stream",
     "text": [
      "Training-- Loss: 0.0033, Metric: 0.710,"
     ]
    },
    {
     "data": {
      "application/vnd.jupyter.widget-view+json": {
       "model_id": "daddfb1e03934d4c874ec037d2eb3a96",
       "version_major": 2,
       "version_minor": 0
      },
      "text/plain": [
       "  0%|          | 0/786 [00:00<?, ?it/s]"
      ]
     },
     "metadata": {},
     "output_type": "display_data"
    },
    {
     "name": "stdout",
     "output_type": "stream",
     "text": [
      "Validation-- Loss: 0.0065, Metric = 0.586\n",
      "Epoch: 36, LR: 9.982e-05--"
     ]
    },
    {
     "data": {
      "application/vnd.jupyter.widget-view+json": {
       "model_id": "e436051d14e348b5ab5e8ab3cd1b5d4d",
       "version_major": 2,
       "version_minor": 0
      },
      "text/plain": [
       "  0%|          | 0/3144 [00:00<?, ?it/s]"
      ]
     },
     "metadata": {},
     "output_type": "display_data"
    },
    {
     "name": "stdout",
     "output_type": "stream",
     "text": [
      "Training-- Loss: 0.0033, Metric: 0.707,"
     ]
    },
    {
     "data": {
      "application/vnd.jupyter.widget-view+json": {
       "model_id": "b79cccfd52374e238200f0cfe1d7d59d",
       "version_major": 2,
       "version_minor": 0
      },
      "text/plain": [
       "  0%|          | 0/786 [00:00<?, ?it/s]"
      ]
     },
     "metadata": {},
     "output_type": "display_data"
    },
    {
     "name": "stdout",
     "output_type": "stream",
     "text": [
      "Validation-- Loss: 0.0064, Metric = 0.579\n",
      "Epoch: 37, LR: 1.000e-04--"
     ]
    },
    {
     "data": {
      "application/vnd.jupyter.widget-view+json": {
       "model_id": "0bda56f676dc442485c996c86babf382",
       "version_major": 2,
       "version_minor": 0
      },
      "text/plain": [
       "  0%|          | 0/3144 [00:00<?, ?it/s]"
      ]
     },
     "metadata": {},
     "output_type": "display_data"
    },
    {
     "name": "stdout",
     "output_type": "stream",
     "text": [
      "Training-- Loss: 0.0033, Metric: 0.713,"
     ]
    },
    {
     "data": {
      "application/vnd.jupyter.widget-view+json": {
       "model_id": "0ae2f7a443b448798859e001a9711dbb",
       "version_major": 2,
       "version_minor": 0
      },
      "text/plain": [
       "  0%|          | 0/786 [00:00<?, ?it/s]"
      ]
     },
     "metadata": {},
     "output_type": "display_data"
    },
    {
     "name": "stdout",
     "output_type": "stream",
     "text": [
      "Validation-- Loss: 0.0064, Metric = 0.578\n",
      "Epoch: 38, LR: 9.997e-05--"
     ]
    },
    {
     "data": {
      "application/vnd.jupyter.widget-view+json": {
       "model_id": "aa6a96b8741a47c59a53e1ddd3aa5c13",
       "version_major": 2,
       "version_minor": 0
      },
      "text/plain": [
       "  0%|          | 0/3144 [00:00<?, ?it/s]"
      ]
     },
     "metadata": {},
     "output_type": "display_data"
    },
    {
     "name": "stdout",
     "output_type": "stream",
     "text": [
      "Training-- Loss: 0.0033, Metric: 0.715,"
     ]
    },
    {
     "data": {
      "application/vnd.jupyter.widget-view+json": {
       "model_id": "10d6298004e94f22b00a170a9c086333",
       "version_major": 2,
       "version_minor": 0
      },
      "text/plain": [
       "  0%|          | 0/786 [00:00<?, ?it/s]"
      ]
     },
     "metadata": {},
     "output_type": "display_data"
    },
    {
     "name": "stdout",
     "output_type": "stream",
     "text": [
      "Validation-- Loss: 0.0066, Metric = 0.581\n",
      "Epoch: 39, LR: 9.986e-05--"
     ]
    },
    {
     "data": {
      "application/vnd.jupyter.widget-view+json": {
       "model_id": "55010015bc1947dd99cb0096e4ced5c6",
       "version_major": 2,
       "version_minor": 0
      },
      "text/plain": [
       "  0%|          | 0/3144 [00:00<?, ?it/s]"
      ]
     },
     "metadata": {},
     "output_type": "display_data"
    },
    {
     "name": "stdout",
     "output_type": "stream",
     "text": [
      "Training-- Loss: 0.0032, Metric: 0.716,"
     ]
    },
    {
     "data": {
      "application/vnd.jupyter.widget-view+json": {
       "model_id": "6e10cc55cbef4fe78e6e15696bebfcec",
       "version_major": 2,
       "version_minor": 0
      },
      "text/plain": [
       "  0%|          | 0/786 [00:00<?, ?it/s]"
      ]
     },
     "metadata": {},
     "output_type": "display_data"
    },
    {
     "name": "stdout",
     "output_type": "stream",
     "text": [
      "Validation-- Loss: 0.0064, Metric = 0.584\n",
      "Epoch: 40, LR: 9.969e-05--"
     ]
    },
    {
     "data": {
      "application/vnd.jupyter.widget-view+json": {
       "model_id": "4fee30416326410fac63c596eb1f5aa1",
       "version_major": 2,
       "version_minor": 0
      },
      "text/plain": [
       "  0%|          | 0/3144 [00:00<?, ?it/s]"
      ]
     },
     "metadata": {},
     "output_type": "display_data"
    },
    {
     "name": "stdout",
     "output_type": "stream",
     "text": [
      "Training-- Loss: 0.0032, Metric: 0.722,"
     ]
    },
    {
     "data": {
      "application/vnd.jupyter.widget-view+json": {
       "model_id": "30e2b77ef2d44ad7a58b6342877a6fb6",
       "version_major": 2,
       "version_minor": 0
      },
      "text/plain": [
       "  0%|          | 0/786 [00:00<?, ?it/s]"
      ]
     },
     "metadata": {},
     "output_type": "display_data"
    },
    {
     "name": "stdout",
     "output_type": "stream",
     "text": [
      "Validation-- Loss: 0.0062, Metric = 0.582\n",
      "Epoch: 41, LR: 9.944e-05--"
     ]
    },
    {
     "data": {
      "application/vnd.jupyter.widget-view+json": {
       "model_id": "677a9c6629364d36ae9f21575b75cb9e",
       "version_major": 2,
       "version_minor": 0
      },
      "text/plain": [
       "  0%|          | 0/3144 [00:00<?, ?it/s]"
      ]
     },
     "metadata": {},
     "output_type": "display_data"
    },
    {
     "name": "stdout",
     "output_type": "stream",
     "text": [
      "Training-- Loss: 0.0032, Metric: 0.720,"
     ]
    },
    {
     "data": {
      "application/vnd.jupyter.widget-view+json": {
       "model_id": "cea811ede67a4fc88b255f1552627c4c",
       "version_major": 2,
       "version_minor": 0
      },
      "text/plain": [
       "  0%|          | 0/786 [00:00<?, ?it/s]"
      ]
     },
     "metadata": {},
     "output_type": "display_data"
    },
    {
     "name": "stdout",
     "output_type": "stream",
     "text": [
      "Validation-- Loss: 0.0066, Metric = 0.583\n",
      "Epoch: 42, LR: 9.913e-05--"
     ]
    },
    {
     "data": {
      "application/vnd.jupyter.widget-view+json": {
       "model_id": "d8438e626036494eb6a8c8bb295495d7",
       "version_major": 2,
       "version_minor": 0
      },
      "text/plain": [
       "  0%|          | 0/3144 [00:00<?, ?it/s]"
      ]
     },
     "metadata": {},
     "output_type": "display_data"
    },
    {
     "name": "stdout",
     "output_type": "stream",
     "text": [
      "Training-- Loss: 0.0032, Metric: 0.725,"
     ]
    },
    {
     "data": {
      "application/vnd.jupyter.widget-view+json": {
       "model_id": "5c5c1f18cde841dd95056b80173a7a56",
       "version_major": 2,
       "version_minor": 0
      },
      "text/plain": [
       "  0%|          | 0/786 [00:00<?, ?it/s]"
      ]
     },
     "metadata": {},
     "output_type": "display_data"
    },
    {
     "name": "stdout",
     "output_type": "stream",
     "text": [
      "Validation-- Loss: 0.0065, Metric = 0.582\n",
      "Epoch: 43, LR: 9.875e-05--"
     ]
    },
    {
     "data": {
      "application/vnd.jupyter.widget-view+json": {
       "model_id": "a6fbb226267c42e6a7a3b17f72026cd8",
       "version_major": 2,
       "version_minor": 0
      },
      "text/plain": [
       "  0%|          | 0/3144 [00:00<?, ?it/s]"
      ]
     },
     "metadata": {},
     "output_type": "display_data"
    },
    {
     "name": "stdout",
     "output_type": "stream",
     "text": [
      "Training-- Loss: 0.0031, Metric: 0.727,"
     ]
    },
    {
     "data": {
      "application/vnd.jupyter.widget-view+json": {
       "model_id": "eccd2cfe319a4430a23920fd2ba3133d",
       "version_major": 2,
       "version_minor": 0
      },
      "text/plain": [
       "  0%|          | 0/786 [00:00<?, ?it/s]"
      ]
     },
     "metadata": {},
     "output_type": "display_data"
    },
    {
     "name": "stdout",
     "output_type": "stream",
     "text": [
      "Validation-- Loss: 0.0065, Metric = 0.584\n",
      "Epoch: 44, LR: 9.830e-05--"
     ]
    },
    {
     "data": {
      "application/vnd.jupyter.widget-view+json": {
       "model_id": "b508bb90cd944f349d9117f562894d2c",
       "version_major": 2,
       "version_minor": 0
      },
      "text/plain": [
       "  0%|          | 0/3144 [00:00<?, ?it/s]"
      ]
     },
     "metadata": {},
     "output_type": "display_data"
    },
    {
     "name": "stdout",
     "output_type": "stream",
     "text": [
      "Training-- Loss: 0.0031, Metric: 0.728,"
     ]
    },
    {
     "data": {
      "application/vnd.jupyter.widget-view+json": {
       "model_id": "d1f8d32af7a34cefab316698e737e151",
       "version_major": 2,
       "version_minor": 0
      },
      "text/plain": [
       "  0%|          | 0/786 [00:00<?, ?it/s]"
      ]
     },
     "metadata": {},
     "output_type": "display_data"
    },
    {
     "name": "stdout",
     "output_type": "stream",
     "text": [
      "Validation-- Loss: 0.0066, Metric = 0.583\n",
      "Epoch: 45, LR: 9.778e-05--"
     ]
    },
    {
     "data": {
      "application/vnd.jupyter.widget-view+json": {
       "model_id": "91d83a84e8b442ee9fe8ac227562ee6e",
       "version_major": 2,
       "version_minor": 0
      },
      "text/plain": [
       "  0%|          | 0/3144 [00:00<?, ?it/s]"
      ]
     },
     "metadata": {},
     "output_type": "display_data"
    },
    {
     "name": "stdout",
     "output_type": "stream",
     "text": [
      "Training-- Loss: 0.0031, Metric: 0.730,"
     ]
    },
    {
     "data": {
      "application/vnd.jupyter.widget-view+json": {
       "model_id": "d05e823ce8994f1da7bb4dadee6078ac",
       "version_major": 2,
       "version_minor": 0
      },
      "text/plain": [
       "  0%|          | 0/786 [00:00<?, ?it/s]"
      ]
     },
     "metadata": {},
     "output_type": "display_data"
    },
    {
     "name": "stdout",
     "output_type": "stream",
     "text": [
      "Validation-- Loss: 0.0066, Metric = 0.585\n",
      "Epoch: 46, LR: 9.719e-05--"
     ]
    },
    {
     "data": {
      "application/vnd.jupyter.widget-view+json": {
       "model_id": "31facc20d842485a9495f0529df783ea",
       "version_major": 2,
       "version_minor": 0
      },
      "text/plain": [
       "  0%|          | 0/3144 [00:00<?, ?it/s]"
      ]
     },
     "metadata": {},
     "output_type": "display_data"
    },
    {
     "name": "stdout",
     "output_type": "stream",
     "text": [
      "Training-- Loss: 0.0030, Metric: 0.734,"
     ]
    },
    {
     "data": {
      "application/vnd.jupyter.widget-view+json": {
       "model_id": "75c1026e457b4f54a8cd3fbcd4aa72ac",
       "version_major": 2,
       "version_minor": 0
      },
      "text/plain": [
       "  0%|          | 0/786 [00:00<?, ?it/s]"
      ]
     },
     "metadata": {},
     "output_type": "display_data"
    },
    {
     "name": "stdout",
     "output_type": "stream",
     "text": [
      "Validation-- Loss: 0.0064, Metric = 0.589\n",
      "Epoch: 47, LR: 9.654e-05--"
     ]
    },
    {
     "data": {
      "application/vnd.jupyter.widget-view+json": {
       "model_id": "45efb7abb2a04513b90ce6be0200d550",
       "version_major": 2,
       "version_minor": 0
      },
      "text/plain": [
       "  0%|          | 0/3144 [00:00<?, ?it/s]"
      ]
     },
     "metadata": {},
     "output_type": "display_data"
    },
    {
     "name": "stdout",
     "output_type": "stream",
     "text": [
      "Training-- Loss: 0.0030, Metric: 0.737,"
     ]
    },
    {
     "data": {
      "application/vnd.jupyter.widget-view+json": {
       "model_id": "8ddec01fde444f3ca16b12d28de1240d",
       "version_major": 2,
       "version_minor": 0
      },
      "text/plain": [
       "  0%|          | 0/786 [00:00<?, ?it/s]"
      ]
     },
     "metadata": {},
     "output_type": "display_data"
    },
    {
     "name": "stdout",
     "output_type": "stream",
     "text": [
      "Validation-- Loss: 0.0066, Metric = 0.576\n",
      "Epoch: 48, LR: 9.583e-05--"
     ]
    },
    {
     "data": {
      "application/vnd.jupyter.widget-view+json": {
       "model_id": "bdb4b348bc354c59b8d6cc1df425087c",
       "version_major": 2,
       "version_minor": 0
      },
      "text/plain": [
       "  0%|          | 0/3144 [00:00<?, ?it/s]"
      ]
     },
     "metadata": {},
     "output_type": "display_data"
    },
    {
     "name": "stdout",
     "output_type": "stream",
     "text": [
      "Training-- Loss: 0.0030, Metric: 0.735,"
     ]
    },
    {
     "data": {
      "application/vnd.jupyter.widget-view+json": {
       "model_id": "2a89e4ea06a14ff6804dd0ae0da6b13c",
       "version_major": 2,
       "version_minor": 0
      },
      "text/plain": [
       "  0%|          | 0/786 [00:00<?, ?it/s]"
      ]
     },
     "metadata": {},
     "output_type": "display_data"
    },
    {
     "name": "stdout",
     "output_type": "stream",
     "text": [
      "Validation-- Loss: 0.0067, Metric = 0.585\n",
      "Epoch: 49, LR: 9.505e-05--"
     ]
    },
    {
     "data": {
      "application/vnd.jupyter.widget-view+json": {
       "model_id": "9fb528d255834bdcbb0aa8085fdec8ff",
       "version_major": 2,
       "version_minor": 0
      },
      "text/plain": [
       "  0%|          | 0/3144 [00:00<?, ?it/s]"
      ]
     },
     "metadata": {},
     "output_type": "display_data"
    },
    {
     "name": "stdout",
     "output_type": "stream",
     "text": [
      "Training-- Loss: 0.0030, Metric: 0.739,"
     ]
    },
    {
     "data": {
      "application/vnd.jupyter.widget-view+json": {
       "model_id": "763493451f0c4a70bac88310810a59d4",
       "version_major": 2,
       "version_minor": 0
      },
      "text/plain": [
       "  0%|          | 0/786 [00:00<?, ?it/s]"
      ]
     },
     "metadata": {},
     "output_type": "display_data"
    },
    {
     "name": "stdout",
     "output_type": "stream",
     "text": [
      "Validation-- Loss: 0.0068, Metric = 0.583\n",
      "Epoch: 50, LR: 9.421e-05--"
     ]
    },
    {
     "data": {
      "application/vnd.jupyter.widget-view+json": {
       "model_id": "f9213ed4be81459cab044d62206ecfab",
       "version_major": 2,
       "version_minor": 0
      },
      "text/plain": [
       "  0%|          | 0/3144 [00:00<?, ?it/s]"
      ]
     },
     "metadata": {},
     "output_type": "display_data"
    },
    {
     "name": "stdout",
     "output_type": "stream",
     "text": [
      "Training-- Loss: 0.0029, Metric: 0.741,"
     ]
    },
    {
     "data": {
      "application/vnd.jupyter.widget-view+json": {
       "model_id": "2af8e93522634bda84bb3fecef76fc48",
       "version_major": 2,
       "version_minor": 0
      },
      "text/plain": [
       "  0%|          | 0/786 [00:00<?, ?it/s]"
      ]
     },
     "metadata": {},
     "output_type": "display_data"
    },
    {
     "name": "stdout",
     "output_type": "stream",
     "text": [
      "Validation-- Loss: 0.0066, Metric = 0.589\n",
      "Epoch: 51, LR: 9.330e-05--"
     ]
    },
    {
     "data": {
      "application/vnd.jupyter.widget-view+json": {
       "model_id": "ba93afb614f74272abc3943fdc2a0ec1",
       "version_major": 2,
       "version_minor": 0
      },
      "text/plain": [
       "  0%|          | 0/3144 [00:00<?, ?it/s]"
      ]
     },
     "metadata": {},
     "output_type": "display_data"
    },
    {
     "name": "stdout",
     "output_type": "stream",
     "text": [
      "Training-- Loss: 0.0029, Metric: 0.742,"
     ]
    },
    {
     "data": {
      "application/vnd.jupyter.widget-view+json": {
       "model_id": "7a22ddcac42e41879ade38f5a0e29601",
       "version_major": 2,
       "version_minor": 0
      },
      "text/plain": [
       "  0%|          | 0/786 [00:00<?, ?it/s]"
      ]
     },
     "metadata": {},
     "output_type": "display_data"
    },
    {
     "name": "stdout",
     "output_type": "stream",
     "text": [
      "Validation-- Loss: 0.0067, Metric = 0.586\n",
      "Epoch: 52, LR: 9.234e-05--"
     ]
    },
    {
     "data": {
      "application/vnd.jupyter.widget-view+json": {
       "model_id": "203548cac20c4fed9d779f31784676f9",
       "version_major": 2,
       "version_minor": 0
      },
      "text/plain": [
       "  0%|          | 0/3144 [00:00<?, ?it/s]"
      ]
     },
     "metadata": {},
     "output_type": "display_data"
    },
    {
     "name": "stdout",
     "output_type": "stream",
     "text": [
      "Training-- Loss: 0.0029, Metric: 0.743,"
     ]
    },
    {
     "data": {
      "application/vnd.jupyter.widget-view+json": {
       "model_id": "23956914df5d49d18789242718b42d9a",
       "version_major": 2,
       "version_minor": 0
      },
      "text/plain": [
       "  0%|          | 0/786 [00:00<?, ?it/s]"
      ]
     },
     "metadata": {},
     "output_type": "display_data"
    },
    {
     "name": "stdout",
     "output_type": "stream",
     "text": [
      "Validation-- Loss: 0.0066, Metric = 0.581\n",
      "Epoch: 53, LR: 9.131e-05--"
     ]
    },
    {
     "data": {
      "application/vnd.jupyter.widget-view+json": {
       "model_id": "14787c6f0ddd48bca45fd6983bcdfa4d",
       "version_major": 2,
       "version_minor": 0
      },
      "text/plain": [
       "  0%|          | 0/3144 [00:00<?, ?it/s]"
      ]
     },
     "metadata": {},
     "output_type": "display_data"
    },
    {
     "name": "stdout",
     "output_type": "stream",
     "text": [
      "Training-- Loss: 0.0029, Metric: 0.747,"
     ]
    },
    {
     "data": {
      "application/vnd.jupyter.widget-view+json": {
       "model_id": "8b18d00a33b544ccb7dee1f26f651dfe",
       "version_major": 2,
       "version_minor": 0
      },
      "text/plain": [
       "  0%|          | 0/786 [00:00<?, ?it/s]"
      ]
     },
     "metadata": {},
     "output_type": "display_data"
    },
    {
     "name": "stdout",
     "output_type": "stream",
     "text": [
      "Validation-- Loss: 0.0066, Metric = 0.588\n",
      "Epoch: 54, LR: 9.023e-05--"
     ]
    },
    {
     "data": {
      "application/vnd.jupyter.widget-view+json": {
       "model_id": "9cc72997c90843ab9b9cc7b1eca36b07",
       "version_major": 2,
       "version_minor": 0
      },
      "text/plain": [
       "  0%|          | 0/3144 [00:00<?, ?it/s]"
      ]
     },
     "metadata": {},
     "output_type": "display_data"
    },
    {
     "name": "stdout",
     "output_type": "stream",
     "text": [
      "Training-- Loss: 0.0029, Metric: 0.744,"
     ]
    },
    {
     "data": {
      "application/vnd.jupyter.widget-view+json": {
       "model_id": "ca84d08696e0438a8abaf5f774a02f36",
       "version_major": 2,
       "version_minor": 0
      },
      "text/plain": [
       "  0%|          | 0/786 [00:00<?, ?it/s]"
      ]
     },
     "metadata": {},
     "output_type": "display_data"
    },
    {
     "name": "stdout",
     "output_type": "stream",
     "text": [
      "Validation-- Loss: 0.0066, Metric = 0.585\n",
      "Epoch: 55, LR: 8.909e-05--"
     ]
    },
    {
     "data": {
      "application/vnd.jupyter.widget-view+json": {
       "model_id": "bf10ec2556e64f91bc8630ad7b01e3a3",
       "version_major": 2,
       "version_minor": 0
      },
      "text/plain": [
       "  0%|          | 0/3144 [00:00<?, ?it/s]"
      ]
     },
     "metadata": {},
     "output_type": "display_data"
    },
    {
     "name": "stdout",
     "output_type": "stream",
     "text": [
      "Training-- Loss: 0.0028, Metric: 0.749,"
     ]
    },
    {
     "data": {
      "application/vnd.jupyter.widget-view+json": {
       "model_id": "b6dd6b27be8b490b9e1a064647751bde",
       "version_major": 2,
       "version_minor": 0
      },
      "text/plain": [
       "  0%|          | 0/786 [00:00<?, ?it/s]"
      ]
     },
     "metadata": {},
     "output_type": "display_data"
    },
    {
     "name": "stdout",
     "output_type": "stream",
     "text": [
      "Validation-- Loss: 0.0068, Metric = 0.584\n",
      "Epoch: 56, LR: 8.790e-05--"
     ]
    },
    {
     "data": {
      "application/vnd.jupyter.widget-view+json": {
       "model_id": "76a964cf408143f4a49059f8b988e12f",
       "version_major": 2,
       "version_minor": 0
      },
      "text/plain": [
       "  0%|          | 0/3144 [00:00<?, ?it/s]"
      ]
     },
     "metadata": {},
     "output_type": "display_data"
    },
    {
     "name": "stdout",
     "output_type": "stream",
     "text": [
      "Training-- Loss: 0.0028, Metric: 0.751,"
     ]
    },
    {
     "data": {
      "application/vnd.jupyter.widget-view+json": {
       "model_id": "418e1822a4dd4d0697b4b7d2ff6cda88",
       "version_major": 2,
       "version_minor": 0
      },
      "text/plain": [
       "  0%|          | 0/786 [00:00<?, ?it/s]"
      ]
     },
     "metadata": {},
     "output_type": "display_data"
    },
    {
     "name": "stdout",
     "output_type": "stream",
     "text": [
      "Validation-- Loss: 0.0068, Metric = 0.584\n",
      "Epoch: 57, LR: 8.665e-05--"
     ]
    },
    {
     "data": {
      "application/vnd.jupyter.widget-view+json": {
       "model_id": "a21a6c549d5145208ca5dadbefd39f50",
       "version_major": 2,
       "version_minor": 0
      },
      "text/plain": [
       "  0%|          | 0/3144 [00:00<?, ?it/s]"
      ]
     },
     "metadata": {},
     "output_type": "display_data"
    },
    {
     "name": "stdout",
     "output_type": "stream",
     "text": [
      "Training-- Loss: 0.0028, Metric: 0.752,"
     ]
    },
    {
     "data": {
      "application/vnd.jupyter.widget-view+json": {
       "model_id": "99e90e9f602d4ac093b6b324ed5ad448",
       "version_major": 2,
       "version_minor": 0
      },
      "text/plain": [
       "  0%|          | 0/786 [00:00<?, ?it/s]"
      ]
     },
     "metadata": {},
     "output_type": "display_data"
    },
    {
     "name": "stdout",
     "output_type": "stream",
     "text": [
      "Validation-- Loss: 0.0068, Metric = 0.580\n",
      "Epoch: 58, LR: 8.535e-05--"
     ]
    },
    {
     "data": {
      "application/vnd.jupyter.widget-view+json": {
       "model_id": "3bb6eb2b23b0413ebee4d83ab3f2f92f",
       "version_major": 2,
       "version_minor": 0
      },
      "text/plain": [
       "  0%|          | 0/3144 [00:00<?, ?it/s]"
      ]
     },
     "metadata": {},
     "output_type": "display_data"
    },
    {
     "name": "stdout",
     "output_type": "stream",
     "text": [
      "Training-- Loss: 0.0028, Metric: 0.752,"
     ]
    },
    {
     "data": {
      "application/vnd.jupyter.widget-view+json": {
       "model_id": "c7cf7797e0d2462588182b04eb52178a",
       "version_major": 2,
       "version_minor": 0
      },
      "text/plain": [
       "  0%|          | 0/786 [00:00<?, ?it/s]"
      ]
     },
     "metadata": {},
     "output_type": "display_data"
    },
    {
     "name": "stdout",
     "output_type": "stream",
     "text": [
      "Validation-- Loss: 0.0068, Metric = 0.587\n",
      "Epoch: 59, LR: 8.401e-05--"
     ]
    },
    {
     "data": {
      "application/vnd.jupyter.widget-view+json": {
       "model_id": "275f5628abd046f980c961a175d50788",
       "version_major": 2,
       "version_minor": 0
      },
      "text/plain": [
       "  0%|          | 0/3144 [00:00<?, ?it/s]"
      ]
     },
     "metadata": {},
     "output_type": "display_data"
    },
    {
     "name": "stdout",
     "output_type": "stream",
     "text": [
      "Training-- Loss: 0.0027, Metric: 0.757,"
     ]
    },
    {
     "data": {
      "application/vnd.jupyter.widget-view+json": {
       "model_id": "4c26dbd21d5b4dacbacaedc63cdd438e",
       "version_major": 2,
       "version_minor": 0
      },
      "text/plain": [
       "  0%|          | 0/786 [00:00<?, ?it/s]"
      ]
     },
     "metadata": {},
     "output_type": "display_data"
    },
    {
     "name": "stdout",
     "output_type": "stream",
     "text": [
      "Validation-- Loss: 0.0069, Metric = 0.584\n",
      "Epoch: 60, LR: 8.261e-05--"
     ]
    },
    {
     "data": {
      "application/vnd.jupyter.widget-view+json": {
       "model_id": "12956c08832f48848fb2d68954279b55",
       "version_major": 2,
       "version_minor": 0
      },
      "text/plain": [
       "  0%|          | 0/3144 [00:00<?, ?it/s]"
      ]
     },
     "metadata": {},
     "output_type": "display_data"
    },
    {
     "name": "stdout",
     "output_type": "stream",
     "text": [
      "Training-- Loss: 0.0028, Metric: 0.756,"
     ]
    },
    {
     "data": {
      "application/vnd.jupyter.widget-view+json": {
       "model_id": "a302b042e90b4ac39a2a202a1729173e",
       "version_major": 2,
       "version_minor": 0
      },
      "text/plain": [
       "  0%|          | 0/786 [00:00<?, ?it/s]"
      ]
     },
     "metadata": {},
     "output_type": "display_data"
    },
    {
     "name": "stdout",
     "output_type": "stream",
     "text": [
      "Validation-- Loss: 0.0068, Metric = 0.592\n",
      "Epoch: 61, LR: 8.117e-05--"
     ]
    },
    {
     "data": {
      "application/vnd.jupyter.widget-view+json": {
       "model_id": "688d069fe36f463e96f9bc8de7099de9",
       "version_major": 2,
       "version_minor": 0
      },
      "text/plain": [
       "  0%|          | 0/3144 [00:00<?, ?it/s]"
      ]
     },
     "metadata": {},
     "output_type": "display_data"
    },
    {
     "name": "stdout",
     "output_type": "stream",
     "text": [
      "Training-- Loss: 0.0027, Metric: 0.761,"
     ]
    },
    {
     "data": {
      "application/vnd.jupyter.widget-view+json": {
       "model_id": "8d35d0de566e47ba9f9155e5ee899097",
       "version_major": 2,
       "version_minor": 0
      },
      "text/plain": [
       "  0%|          | 0/786 [00:00<?, ?it/s]"
      ]
     },
     "metadata": {},
     "output_type": "display_data"
    },
    {
     "name": "stdout",
     "output_type": "stream",
     "text": [
      "Validation-- Loss: 0.0069, Metric = 0.582\n",
      "Epoch: 62, LR: 7.969e-05--"
     ]
    },
    {
     "data": {
      "application/vnd.jupyter.widget-view+json": {
       "model_id": "4a7f55d7fc474cf29ff1bf7fd63c60fa",
       "version_major": 2,
       "version_minor": 0
      },
      "text/plain": [
       "  0%|          | 0/3144 [00:00<?, ?it/s]"
      ]
     },
     "metadata": {},
     "output_type": "display_data"
    },
    {
     "name": "stdout",
     "output_type": "stream",
     "text": [
      "Training-- Loss: 0.0027, Metric: 0.759,"
     ]
    },
    {
     "data": {
      "application/vnd.jupyter.widget-view+json": {
       "model_id": "b9de78389a234a7ab719294860bf6829",
       "version_major": 2,
       "version_minor": 0
      },
      "text/plain": [
       "  0%|          | 0/786 [00:00<?, ?it/s]"
      ]
     },
     "metadata": {},
     "output_type": "display_data"
    },
    {
     "name": "stdout",
     "output_type": "stream",
     "text": [
      "Validation-- Loss: 0.0068, Metric = 0.585\n",
      "Epoch: 63, LR: 7.817e-05--"
     ]
    },
    {
     "data": {
      "application/vnd.jupyter.widget-view+json": {
       "model_id": "adfff21c59774fbdbb918368368a5b87",
       "version_major": 2,
       "version_minor": 0
      },
      "text/plain": [
       "  0%|          | 0/3144 [00:00<?, ?it/s]"
      ]
     },
     "metadata": {},
     "output_type": "display_data"
    },
    {
     "name": "stdout",
     "output_type": "stream",
     "text": [
      "Training-- Loss: 0.0027, Metric: 0.760,"
     ]
    },
    {
     "data": {
      "application/vnd.jupyter.widget-view+json": {
       "model_id": "4012cc7fa3cb4f97896d38f6151527b2",
       "version_major": 2,
       "version_minor": 0
      },
      "text/plain": [
       "  0%|          | 0/786 [00:00<?, ?it/s]"
      ]
     },
     "metadata": {},
     "output_type": "display_data"
    },
    {
     "name": "stdout",
     "output_type": "stream",
     "text": [
      "Validation-- Loss: 0.0068, Metric = 0.589\n",
      "Epoch: 64, LR: 7.660e-05--"
     ]
    },
    {
     "data": {
      "application/vnd.jupyter.widget-view+json": {
       "model_id": "af9de5b00d2347cfb2153ad252ded8c3",
       "version_major": 2,
       "version_minor": 0
      },
      "text/plain": [
       "  0%|          | 0/3144 [00:00<?, ?it/s]"
      ]
     },
     "metadata": {},
     "output_type": "display_data"
    },
    {
     "name": "stdout",
     "output_type": "stream",
     "text": [
      "Training-- Loss: 0.0027, Metric: 0.762,"
     ]
    },
    {
     "data": {
      "application/vnd.jupyter.widget-view+json": {
       "model_id": "7e09d84c3e4a4b798d87a5cbd1fa4256",
       "version_major": 2,
       "version_minor": 0
      },
      "text/plain": [
       "  0%|          | 0/786 [00:00<?, ?it/s]"
      ]
     },
     "metadata": {},
     "output_type": "display_data"
    },
    {
     "name": "stdout",
     "output_type": "stream",
     "text": [
      "Validation-- Loss: 0.0068, Metric = 0.589\n",
      "Epoch: 65, LR: 7.500e-05--"
     ]
    },
    {
     "data": {
      "application/vnd.jupyter.widget-view+json": {
       "model_id": "2d832d33024448e483e4d38cd400b0e3",
       "version_major": 2,
       "version_minor": 0
      },
      "text/plain": [
       "  0%|          | 0/3144 [00:00<?, ?it/s]"
      ]
     },
     "metadata": {},
     "output_type": "display_data"
    },
    {
     "name": "stdout",
     "output_type": "stream",
     "text": [
      "Training-- Loss: 0.0026, Metric: 0.765,"
     ]
    },
    {
     "data": {
      "application/vnd.jupyter.widget-view+json": {
       "model_id": "cfdbd78275ca492a8361eb2efa3e78af",
       "version_major": 2,
       "version_minor": 0
      },
      "text/plain": [
       "  0%|          | 0/786 [00:00<?, ?it/s]"
      ]
     },
     "metadata": {},
     "output_type": "display_data"
    },
    {
     "name": "stdout",
     "output_type": "stream",
     "text": [
      "Validation-- Loss: 0.0068, Metric = 0.591\n",
      "Epoch: 66, LR: 7.336e-05--"
     ]
    },
    {
     "data": {
      "application/vnd.jupyter.widget-view+json": {
       "model_id": "92eb906b806a47cda39413b58fa6bf6a",
       "version_major": 2,
       "version_minor": 0
      },
      "text/plain": [
       "  0%|          | 0/3144 [00:00<?, ?it/s]"
      ]
     },
     "metadata": {},
     "output_type": "display_data"
    },
    {
     "name": "stdout",
     "output_type": "stream",
     "text": [
      "Training-- Loss: 0.0026, Metric: 0.770,"
     ]
    },
    {
     "data": {
      "application/vnd.jupyter.widget-view+json": {
       "model_id": "4a961b0506ac455b8d0c4ee41d78c9dd",
       "version_major": 2,
       "version_minor": 0
      },
      "text/plain": [
       "  0%|          | 0/786 [00:00<?, ?it/s]"
      ]
     },
     "metadata": {},
     "output_type": "display_data"
    },
    {
     "name": "stdout",
     "output_type": "stream",
     "text": [
      "Validation-- Loss: 0.0068, Metric = 0.591\n",
      "Epoch: 67, LR: 7.169e-05--"
     ]
    },
    {
     "data": {
      "application/vnd.jupyter.widget-view+json": {
       "model_id": "679862df095f48ac9df4907dce5fcbc6",
       "version_major": 2,
       "version_minor": 0
      },
      "text/plain": [
       "  0%|          | 0/3144 [00:00<?, ?it/s]"
      ]
     },
     "metadata": {},
     "output_type": "display_data"
    },
    {
     "name": "stdout",
     "output_type": "stream",
     "text": [
      "Training-- Loss: 0.0026, Metric: 0.770,"
     ]
    },
    {
     "data": {
      "application/vnd.jupyter.widget-view+json": {
       "model_id": "93c3f8f9206d45d785ebf1b8651479c1",
       "version_major": 2,
       "version_minor": 0
      },
      "text/plain": [
       "  0%|          | 0/786 [00:00<?, ?it/s]"
      ]
     },
     "metadata": {},
     "output_type": "display_data"
    },
    {
     "name": "stdout",
     "output_type": "stream",
     "text": [
      "Validation-- Loss: 0.0069, Metric = 0.591\n",
      "Epoch: 68, LR: 6.999e-05--"
     ]
    },
    {
     "data": {
      "application/vnd.jupyter.widget-view+json": {
       "model_id": "724f7a3fcfc14d948054dd128e1952cf",
       "version_major": 2,
       "version_minor": 0
      },
      "text/plain": [
       "  0%|          | 0/3144 [00:00<?, ?it/s]"
      ]
     },
     "metadata": {},
     "output_type": "display_data"
    },
    {
     "name": "stdout",
     "output_type": "stream",
     "text": [
      "Training-- Loss: 0.0026, Metric: 0.771,"
     ]
    },
    {
     "data": {
      "application/vnd.jupyter.widget-view+json": {
       "model_id": "4efb9ca5de224800afe94ad402b7f1b6",
       "version_major": 2,
       "version_minor": 0
      },
      "text/plain": [
       "  0%|          | 0/786 [00:00<?, ?it/s]"
      ]
     },
     "metadata": {},
     "output_type": "display_data"
    },
    {
     "name": "stdout",
     "output_type": "stream",
     "text": [
      "Validation-- Loss: 0.0070, Metric = 0.581\n",
      "Epoch: 69, LR: 6.827e-05--"
     ]
    },
    {
     "data": {
      "application/vnd.jupyter.widget-view+json": {
       "model_id": "942495b7186440cd806de6c2854f32fe",
       "version_major": 2,
       "version_minor": 0
      },
      "text/plain": [
       "  0%|          | 0/3144 [00:00<?, ?it/s]"
      ]
     },
     "metadata": {},
     "output_type": "display_data"
    },
    {
     "name": "stdout",
     "output_type": "stream",
     "text": [
      "Training-- Loss: 0.0026, Metric: 0.771,"
     ]
    },
    {
     "data": {
      "application/vnd.jupyter.widget-view+json": {
       "model_id": "a4a3976de3b343309733b062397b8846",
       "version_major": 2,
       "version_minor": 0
      },
      "text/plain": [
       "  0%|          | 0/786 [00:00<?, ?it/s]"
      ]
     },
     "metadata": {},
     "output_type": "display_data"
    },
    {
     "name": "stdout",
     "output_type": "stream",
     "text": [
      "Validation-- Loss: 0.0069, Metric = 0.587\n",
      "Epoch: 70, LR: 6.651e-05--"
     ]
    },
    {
     "data": {
      "application/vnd.jupyter.widget-view+json": {
       "model_id": "31f56a3f092c42f8b3d2fb7e6faaab70",
       "version_major": 2,
       "version_minor": 0
      },
      "text/plain": [
       "  0%|          | 0/3144 [00:00<?, ?it/s]"
      ]
     },
     "metadata": {},
     "output_type": "display_data"
    },
    {
     "name": "stdout",
     "output_type": "stream",
     "text": [
      "Training-- Loss: 0.0025, Metric: 0.775,"
     ]
    },
    {
     "data": {
      "application/vnd.jupyter.widget-view+json": {
       "model_id": "067785da229e4202bfce6b5154466b2a",
       "version_major": 2,
       "version_minor": 0
      },
      "text/plain": [
       "  0%|          | 0/786 [00:00<?, ?it/s]"
      ]
     },
     "metadata": {},
     "output_type": "display_data"
    },
    {
     "name": "stdout",
     "output_type": "stream",
     "text": [
      "Validation-- Loss: 0.0068, Metric = 0.585\n",
      "Epoch: 71, LR: 6.474e-05--"
     ]
    },
    {
     "data": {
      "application/vnd.jupyter.widget-view+json": {
       "model_id": "4ce48b77e773481cba3b020435ec02a5",
       "version_major": 2,
       "version_minor": 0
      },
      "text/plain": [
       "  0%|          | 0/3144 [00:00<?, ?it/s]"
      ]
     },
     "metadata": {},
     "output_type": "display_data"
    },
    {
     "name": "stdout",
     "output_type": "stream",
     "text": [
      "Training-- Loss: 0.0025, Metric: 0.775,"
     ]
    },
    {
     "data": {
      "application/vnd.jupyter.widget-view+json": {
       "model_id": "d354086d48154a49ac1cd470db4f5d13",
       "version_major": 2,
       "version_minor": 0
      },
      "text/plain": [
       "  0%|          | 0/786 [00:00<?, ?it/s]"
      ]
     },
     "metadata": {},
     "output_type": "display_data"
    },
    {
     "name": "stdout",
     "output_type": "stream",
     "text": [
      "Validation-- Loss: 0.0072, Metric = 0.581\n",
      "Epoch: 72, LR: 6.294e-05--"
     ]
    },
    {
     "data": {
      "application/vnd.jupyter.widget-view+json": {
       "model_id": "0923b4bfb5384712aeb33029ba916f51",
       "version_major": 2,
       "version_minor": 0
      },
      "text/plain": [
       "  0%|          | 0/3144 [00:00<?, ?it/s]"
      ]
     },
     "metadata": {},
     "output_type": "display_data"
    },
    {
     "name": "stdout",
     "output_type": "stream",
     "text": [
      "Training-- Loss: 0.0025, Metric: 0.777,"
     ]
    },
    {
     "data": {
      "application/vnd.jupyter.widget-view+json": {
       "model_id": "027ffd81513240858cc5bb480f31b3fd",
       "version_major": 2,
       "version_minor": 0
      },
      "text/plain": [
       "  0%|          | 0/786 [00:00<?, ?it/s]"
      ]
     },
     "metadata": {},
     "output_type": "display_data"
    },
    {
     "name": "stdout",
     "output_type": "stream",
     "text": [
      "Validation-- Loss: 0.0070, Metric = 0.589\n",
      "Epoch: 73, LR: 6.113e-05--"
     ]
    },
    {
     "data": {
      "application/vnd.jupyter.widget-view+json": {
       "model_id": "fa86d1235ff544138394ccb98bb1dbc9",
       "version_major": 2,
       "version_minor": 0
      },
      "text/plain": [
       "  0%|          | 0/3144 [00:00<?, ?it/s]"
      ]
     },
     "metadata": {},
     "output_type": "display_data"
    },
    {
     "name": "stdout",
     "output_type": "stream",
     "text": [
      "Training-- Loss: 0.0025, Metric: 0.776,"
     ]
    },
    {
     "data": {
      "application/vnd.jupyter.widget-view+json": {
       "model_id": "029632ebf58044b983df66b25a12ef73",
       "version_major": 2,
       "version_minor": 0
      },
      "text/plain": [
       "  0%|          | 0/786 [00:00<?, ?it/s]"
      ]
     },
     "metadata": {},
     "output_type": "display_data"
    },
    {
     "name": "stdout",
     "output_type": "stream",
     "text": [
      "Validation-- Loss: 0.0069, Metric = 0.586\n",
      "Epoch: 74, LR: 5.930e-05--"
     ]
    },
    {
     "data": {
      "application/vnd.jupyter.widget-view+json": {
       "model_id": "35b0171290324f2d8a56114811ec6e5b",
       "version_major": 2,
       "version_minor": 0
      },
      "text/plain": [
       "  0%|          | 0/3144 [00:00<?, ?it/s]"
      ]
     },
     "metadata": {},
     "output_type": "display_data"
    },
    {
     "name": "stdout",
     "output_type": "stream",
     "text": [
      "Training-- Loss: 0.0025, Metric: 0.777,"
     ]
    },
    {
     "data": {
      "application/vnd.jupyter.widget-view+json": {
       "model_id": "263c1296814f469b891747af27defe50",
       "version_major": 2,
       "version_minor": 0
      },
      "text/plain": [
       "  0%|          | 0/786 [00:00<?, ?it/s]"
      ]
     },
     "metadata": {},
     "output_type": "display_data"
    },
    {
     "name": "stdout",
     "output_type": "stream",
     "text": [
      "Validation-- Loss: 0.0071, Metric = 0.582\n",
      "Epoch: 75, LR: 5.745e-05--"
     ]
    },
    {
     "data": {
      "application/vnd.jupyter.widget-view+json": {
       "model_id": "b8628c8ea25e4bacaf348e23395c3146",
       "version_major": 2,
       "version_minor": 0
      },
      "text/plain": [
       "  0%|          | 0/3144 [00:00<?, ?it/s]"
      ]
     },
     "metadata": {},
     "output_type": "display_data"
    },
    {
     "name": "stdout",
     "output_type": "stream",
     "text": [
      "Training-- Loss: 0.0024, Metric: 0.782,"
     ]
    },
    {
     "data": {
      "application/vnd.jupyter.widget-view+json": {
       "model_id": "cfa3be1217754029bd1e2892ac4f02ae",
       "version_major": 2,
       "version_minor": 0
      },
      "text/plain": [
       "  0%|          | 0/786 [00:00<?, ?it/s]"
      ]
     },
     "metadata": {},
     "output_type": "display_data"
    },
    {
     "name": "stdout",
     "output_type": "stream",
     "text": [
      "Validation-- Loss: 0.0072, Metric = 0.586\n",
      "Epoch: 76, LR: 5.560e-05--"
     ]
    },
    {
     "data": {
      "application/vnd.jupyter.widget-view+json": {
       "model_id": "32398ce5f6cd4c8aa6e247b0571b5f07",
       "version_major": 2,
       "version_minor": 0
      },
      "text/plain": [
       "  0%|          | 0/3144 [00:00<?, ?it/s]"
      ]
     },
     "metadata": {},
     "output_type": "display_data"
    },
    {
     "name": "stdout",
     "output_type": "stream",
     "text": [
      "Training-- Loss: 0.0024, Metric: 0.784,"
     ]
    },
    {
     "data": {
      "application/vnd.jupyter.widget-view+json": {
       "model_id": "e578fe278ffa490a84e5be0b58daa526",
       "version_major": 2,
       "version_minor": 0
      },
      "text/plain": [
       "  0%|          | 0/786 [00:00<?, ?it/s]"
      ]
     },
     "metadata": {},
     "output_type": "display_data"
    },
    {
     "name": "stdout",
     "output_type": "stream",
     "text": [
      "Validation-- Loss: 0.0071, Metric = 0.584\n",
      "Epoch: 77, LR: 5.374e-05--"
     ]
    },
    {
     "data": {
      "application/vnd.jupyter.widget-view+json": {
       "model_id": "c5dcc900048048ea87a96f284c3ba555",
       "version_major": 2,
       "version_minor": 0
      },
      "text/plain": [
       "  0%|          | 0/3144 [00:00<?, ?it/s]"
      ]
     },
     "metadata": {},
     "output_type": "display_data"
    },
    {
     "name": "stdout",
     "output_type": "stream",
     "text": [
      "Training-- Loss: 0.0024, Metric: 0.783,"
     ]
    },
    {
     "data": {
      "application/vnd.jupyter.widget-view+json": {
       "model_id": "1ab0c737b48e4b3ba541282ecbeead6e",
       "version_major": 2,
       "version_minor": 0
      },
      "text/plain": [
       "  0%|          | 0/786 [00:00<?, ?it/s]"
      ]
     },
     "metadata": {},
     "output_type": "display_data"
    },
    {
     "name": "stdout",
     "output_type": "stream",
     "text": [
      "Validation-- Loss: 0.0071, Metric = 0.585\n",
      "Epoch: 78, LR: 5.187e-05--"
     ]
    },
    {
     "data": {
      "application/vnd.jupyter.widget-view+json": {
       "model_id": "80be2ec0def24c43a7e7b4bb37e21129",
       "version_major": 2,
       "version_minor": 0
      },
      "text/plain": [
       "  0%|          | 0/3144 [00:00<?, ?it/s]"
      ]
     },
     "metadata": {},
     "output_type": "display_data"
    },
    {
     "name": "stdout",
     "output_type": "stream",
     "text": [
      "Training-- Loss: 0.0024, Metric: 0.783,"
     ]
    },
    {
     "data": {
      "application/vnd.jupyter.widget-view+json": {
       "model_id": "3ec6cd2dfd70456f80d27c9bec76fb9f",
       "version_major": 2,
       "version_minor": 0
      },
      "text/plain": [
       "  0%|          | 0/786 [00:00<?, ?it/s]"
      ]
     },
     "metadata": {},
     "output_type": "display_data"
    },
    {
     "name": "stdout",
     "output_type": "stream",
     "text": [
      "Validation-- Loss: 0.0072, Metric = 0.584\n",
      "Epoch: 79, LR: 5.000e-05--"
     ]
    },
    {
     "data": {
      "application/vnd.jupyter.widget-view+json": {
       "model_id": "2fb1fe5dd1fe4732b302ad9395b5d0cb",
       "version_major": 2,
       "version_minor": 0
      },
      "text/plain": [
       "  0%|          | 0/3144 [00:00<?, ?it/s]"
      ]
     },
     "metadata": {},
     "output_type": "display_data"
    },
    {
     "name": "stdout",
     "output_type": "stream",
     "text": [
      "Training-- Loss: 0.0024, Metric: 0.783,"
     ]
    },
    {
     "data": {
      "application/vnd.jupyter.widget-view+json": {
       "model_id": "6448d8d4c68e41b8b8dcba2395cb9528",
       "version_major": 2,
       "version_minor": 0
      },
      "text/plain": [
       "  0%|          | 0/786 [00:00<?, ?it/s]"
      ]
     },
     "metadata": {},
     "output_type": "display_data"
    },
    {
     "name": "stdout",
     "output_type": "stream",
     "text": [
      "Validation-- Loss: 0.0070, Metric = 0.581\n",
      "Epoch: 80, LR: 4.813e-05--"
     ]
    },
    {
     "data": {
      "application/vnd.jupyter.widget-view+json": {
       "model_id": "17226dd3ecc04370864d2f381847fde5",
       "version_major": 2,
       "version_minor": 0
      },
      "text/plain": [
       "  0%|          | 0/3144 [00:00<?, ?it/s]"
      ]
     },
     "metadata": {},
     "output_type": "display_data"
    },
    {
     "name": "stdout",
     "output_type": "stream",
     "text": [
      "Training-- Loss: 0.0024, Metric: 0.787,"
     ]
    },
    {
     "data": {
      "application/vnd.jupyter.widget-view+json": {
       "model_id": "351644fecd4440b29910365a9522a235",
       "version_major": 2,
       "version_minor": 0
      },
      "text/plain": [
       "  0%|          | 0/786 [00:00<?, ?it/s]"
      ]
     },
     "metadata": {},
     "output_type": "display_data"
    },
    {
     "name": "stdout",
     "output_type": "stream",
     "text": [
      "Validation-- Loss: 0.0071, Metric = 0.585\n",
      "Epoch: 81, LR: 4.626e-05--"
     ]
    },
    {
     "data": {
      "application/vnd.jupyter.widget-view+json": {
       "model_id": "338b4ed3c801404886d96a2bd2126bee",
       "version_major": 2,
       "version_minor": 0
      },
      "text/plain": [
       "  0%|          | 0/3144 [00:00<?, ?it/s]"
      ]
     },
     "metadata": {},
     "output_type": "display_data"
    },
    {
     "name": "stdout",
     "output_type": "stream",
     "text": [
      "Training-- Loss: 0.0024, Metric: 0.785,"
     ]
    },
    {
     "data": {
      "application/vnd.jupyter.widget-view+json": {
       "model_id": "82e816601e2e4ec9ae6ef1bfc116d284",
       "version_major": 2,
       "version_minor": 0
      },
      "text/plain": [
       "  0%|          | 0/786 [00:00<?, ?it/s]"
      ]
     },
     "metadata": {},
     "output_type": "display_data"
    },
    {
     "name": "stdout",
     "output_type": "stream",
     "text": [
      "Validation-- Loss: 0.0071, Metric = 0.588\n",
      "Epoch: 82, LR: 4.440e-05--"
     ]
    },
    {
     "data": {
      "application/vnd.jupyter.widget-view+json": {
       "model_id": "0b27ba0eae7d473ab67a20e2a9f2e765",
       "version_major": 2,
       "version_minor": 0
      },
      "text/plain": [
       "  0%|          | 0/3144 [00:00<?, ?it/s]"
      ]
     },
     "metadata": {},
     "output_type": "display_data"
    },
    {
     "name": "stdout",
     "output_type": "stream",
     "text": [
      "Training-- Loss: 0.0024, Metric: 0.787,"
     ]
    },
    {
     "data": {
      "application/vnd.jupyter.widget-view+json": {
       "model_id": "d1e3a8e8f5294f3b9465884aff59f41c",
       "version_major": 2,
       "version_minor": 0
      },
      "text/plain": [
       "  0%|          | 0/786 [00:00<?, ?it/s]"
      ]
     },
     "metadata": {},
     "output_type": "display_data"
    },
    {
     "name": "stdout",
     "output_type": "stream",
     "text": [
      "Validation-- Loss: 0.0070, Metric = 0.588\n",
      "Epoch: 83, LR: 4.255e-05--"
     ]
    },
    {
     "data": {
      "application/vnd.jupyter.widget-view+json": {
       "model_id": "a1ec7b735c2e4e0bb9b37faedbdf215d",
       "version_major": 2,
       "version_minor": 0
      },
      "text/plain": [
       "  0%|          | 0/3144 [00:00<?, ?it/s]"
      ]
     },
     "metadata": {},
     "output_type": "display_data"
    },
    {
     "name": "stdout",
     "output_type": "stream",
     "text": [
      "Training-- Loss: 0.0023, Metric: 0.789,"
     ]
    },
    {
     "data": {
      "application/vnd.jupyter.widget-view+json": {
       "model_id": "d33299c9247d4c4e8a785a0cca381d63",
       "version_major": 2,
       "version_minor": 0
      },
      "text/plain": [
       "  0%|          | 0/786 [00:00<?, ?it/s]"
      ]
     },
     "metadata": {},
     "output_type": "display_data"
    },
    {
     "name": "stdout",
     "output_type": "stream",
     "text": [
      "Validation-- Loss: 0.0071, Metric = 0.585\n",
      "Epoch: 84, LR: 4.070e-05--"
     ]
    },
    {
     "data": {
      "application/vnd.jupyter.widget-view+json": {
       "model_id": "89c70eb03ae6495eb21723e8b8b7343e",
       "version_major": 2,
       "version_minor": 0
      },
      "text/plain": [
       "  0%|          | 0/3144 [00:00<?, ?it/s]"
      ]
     },
     "metadata": {},
     "output_type": "display_data"
    },
    {
     "name": "stdout",
     "output_type": "stream",
     "text": [
      "Training-- Loss: 0.0023, Metric: 0.791,"
     ]
    },
    {
     "data": {
      "application/vnd.jupyter.widget-view+json": {
       "model_id": "5a2d878aa80144e2a46d915ee9405376",
       "version_major": 2,
       "version_minor": 0
      },
      "text/plain": [
       "  0%|          | 0/786 [00:00<?, ?it/s]"
      ]
     },
     "metadata": {},
     "output_type": "display_data"
    },
    {
     "name": "stdout",
     "output_type": "stream",
     "text": [
      "Validation-- Loss: 0.0072, Metric = 0.582\n",
      "Epoch: 85, LR: 3.887e-05--"
     ]
    },
    {
     "data": {
      "application/vnd.jupyter.widget-view+json": {
       "model_id": "0084364297b24518b0dbef806dc114c0",
       "version_major": 2,
       "version_minor": 0
      },
      "text/plain": [
       "  0%|          | 0/3144 [00:00<?, ?it/s]"
      ]
     },
     "metadata": {},
     "output_type": "display_data"
    },
    {
     "name": "stdout",
     "output_type": "stream",
     "text": [
      "Training-- Loss: 0.0023, Metric: 0.788,"
     ]
    },
    {
     "data": {
      "application/vnd.jupyter.widget-view+json": {
       "model_id": "824b94d871d54884aec88c2fa530a26d",
       "version_major": 2,
       "version_minor": 0
      },
      "text/plain": [
       "  0%|          | 0/786 [00:00<?, ?it/s]"
      ]
     },
     "metadata": {},
     "output_type": "display_data"
    },
    {
     "name": "stdout",
     "output_type": "stream",
     "text": [
      "Validation-- Loss: 0.0070, Metric = 0.591\n",
      "Epoch: 86, LR: 3.706e-05--"
     ]
    },
    {
     "data": {
      "application/vnd.jupyter.widget-view+json": {
       "model_id": "3e8a529fd4cf4be1b52bb5aff219c5d3",
       "version_major": 2,
       "version_minor": 0
      },
      "text/plain": [
       "  0%|          | 0/3144 [00:00<?, ?it/s]"
      ]
     },
     "metadata": {},
     "output_type": "display_data"
    },
    {
     "name": "stdout",
     "output_type": "stream",
     "text": [
      "Training-- Loss: 0.0023, Metric: 0.791,"
     ]
    },
    {
     "data": {
      "application/vnd.jupyter.widget-view+json": {
       "model_id": "e0f4a89b4e7040d5871307c82ba6565f",
       "version_major": 2,
       "version_minor": 0
      },
      "text/plain": [
       "  0%|          | 0/786 [00:00<?, ?it/s]"
      ]
     },
     "metadata": {},
     "output_type": "display_data"
    },
    {
     "name": "stdout",
     "output_type": "stream",
     "text": [
      "Validation-- Loss: 0.0072, Metric = 0.585\n",
      "Epoch: 87, LR: 3.526e-05--"
     ]
    },
    {
     "data": {
      "application/vnd.jupyter.widget-view+json": {
       "model_id": "3528ffbec9754b6ca9593becf7e42620",
       "version_major": 2,
       "version_minor": 0
      },
      "text/plain": [
       "  0%|          | 0/3144 [00:00<?, ?it/s]"
      ]
     },
     "metadata": {},
     "output_type": "display_data"
    },
    {
     "name": "stdout",
     "output_type": "stream",
     "text": [
      "Training-- Loss: 0.0023, Metric: 0.793,"
     ]
    },
    {
     "data": {
      "application/vnd.jupyter.widget-view+json": {
       "model_id": "e9b76871b1854fb08e6f57ab4e151d59",
       "version_major": 2,
       "version_minor": 0
      },
      "text/plain": [
       "  0%|          | 0/786 [00:00<?, ?it/s]"
      ]
     },
     "metadata": {},
     "output_type": "display_data"
    },
    {
     "name": "stdout",
     "output_type": "stream",
     "text": [
      "Validation-- Loss: 0.0073, Metric = 0.586\n",
      "Epoch: 88, LR: 3.349e-05--"
     ]
    },
    {
     "data": {
      "application/vnd.jupyter.widget-view+json": {
       "model_id": "be5272ef4b16425c9a660b713ab56845",
       "version_major": 2,
       "version_minor": 0
      },
      "text/plain": [
       "  0%|          | 0/3144 [00:00<?, ?it/s]"
      ]
     },
     "metadata": {},
     "output_type": "display_data"
    },
    {
     "name": "stdout",
     "output_type": "stream",
     "text": [
      "Training-- Loss: 0.0023, Metric: 0.791,"
     ]
    },
    {
     "data": {
      "application/vnd.jupyter.widget-view+json": {
       "model_id": "ee23ab6d3e134f3980a37a85f0352289",
       "version_major": 2,
       "version_minor": 0
      },
      "text/plain": [
       "  0%|          | 0/786 [00:00<?, ?it/s]"
      ]
     },
     "metadata": {},
     "output_type": "display_data"
    },
    {
     "name": "stdout",
     "output_type": "stream",
     "text": [
      "Validation-- Loss: 0.0071, Metric = 0.589\n",
      "Epoch: 89, LR: 3.173e-05--"
     ]
    },
    {
     "data": {
      "application/vnd.jupyter.widget-view+json": {
       "model_id": "6cbd3756dd0f470a8483a15b68469e60",
       "version_major": 2,
       "version_minor": 0
      },
      "text/plain": [
       "  0%|          | 0/3144 [00:00<?, ?it/s]"
      ]
     },
     "metadata": {},
     "output_type": "display_data"
    },
    {
     "name": "stdout",
     "output_type": "stream",
     "text": [
      "Training-- Loss: 0.0022, Metric: 0.796,"
     ]
    },
    {
     "data": {
      "application/vnd.jupyter.widget-view+json": {
       "model_id": "0694f56f66594928a563d93cb6df6493",
       "version_major": 2,
       "version_minor": 0
      },
      "text/plain": [
       "  0%|          | 0/786 [00:00<?, ?it/s]"
      ]
     },
     "metadata": {},
     "output_type": "display_data"
    },
    {
     "name": "stdout",
     "output_type": "stream",
     "text": [
      "Validation-- Loss: 0.0072, Metric = 0.589\n",
      "Epoch: 90, LR: 3.001e-05--"
     ]
    },
    {
     "data": {
      "application/vnd.jupyter.widget-view+json": {
       "model_id": "7d974335dfd4467a8bab777327d4337f",
       "version_major": 2,
       "version_minor": 0
      },
      "text/plain": [
       "  0%|          | 0/3144 [00:00<?, ?it/s]"
      ]
     },
     "metadata": {},
     "output_type": "display_data"
    },
    {
     "name": "stdout",
     "output_type": "stream",
     "text": [
      "Training-- Loss: 0.0022, Metric: 0.797,"
     ]
    },
    {
     "data": {
      "application/vnd.jupyter.widget-view+json": {
       "model_id": "e842dbefa02a491d9106f55c22aa1758",
       "version_major": 2,
       "version_minor": 0
      },
      "text/plain": [
       "  0%|          | 0/786 [00:00<?, ?it/s]"
      ]
     },
     "metadata": {},
     "output_type": "display_data"
    },
    {
     "name": "stdout",
     "output_type": "stream",
     "text": [
      "Validation-- Loss: 0.0073, Metric = 0.582\n",
      "Epoch: 91, LR: 2.831e-05--"
     ]
    },
    {
     "data": {
      "application/vnd.jupyter.widget-view+json": {
       "model_id": "2b6ace1837ea4229b7d2109d4acb6463",
       "version_major": 2,
       "version_minor": 0
      },
      "text/plain": [
       "  0%|          | 0/3144 [00:00<?, ?it/s]"
      ]
     },
     "metadata": {},
     "output_type": "display_data"
    },
    {
     "name": "stdout",
     "output_type": "stream",
     "text": [
      "Training-- Loss: 0.0023, Metric: 0.796,"
     ]
    },
    {
     "data": {
      "application/vnd.jupyter.widget-view+json": {
       "model_id": "50b87a6b1f204936828faa8991236435",
       "version_major": 2,
       "version_minor": 0
      },
      "text/plain": [
       "  0%|          | 0/786 [00:00<?, ?it/s]"
      ]
     },
     "metadata": {},
     "output_type": "display_data"
    },
    {
     "name": "stdout",
     "output_type": "stream",
     "text": [
      "Validation-- Loss: 0.0073, Metric = 0.589\n",
      "Epoch: 92, LR: 2.664e-05--"
     ]
    },
    {
     "data": {
      "application/vnd.jupyter.widget-view+json": {
       "model_id": "f4761fa779ad45b7a251ed57a2029483",
       "version_major": 2,
       "version_minor": 0
      },
      "text/plain": [
       "  0%|          | 0/3144 [00:00<?, ?it/s]"
      ]
     },
     "metadata": {},
     "output_type": "display_data"
    },
    {
     "name": "stdout",
     "output_type": "stream",
     "text": [
      "Training-- Loss: 0.0023, Metric: 0.795,"
     ]
    },
    {
     "data": {
      "application/vnd.jupyter.widget-view+json": {
       "model_id": "2804dc4bd6be4c6aa3df8377548cde02",
       "version_major": 2,
       "version_minor": 0
      },
      "text/plain": [
       "  0%|          | 0/786 [00:00<?, ?it/s]"
      ]
     },
     "metadata": {},
     "output_type": "display_data"
    },
    {
     "name": "stdout",
     "output_type": "stream",
     "text": [
      "Validation-- Loss: 0.0072, Metric = 0.590\n",
      "Epoch: 93, LR: 2.500e-05--"
     ]
    },
    {
     "data": {
      "application/vnd.jupyter.widget-view+json": {
       "model_id": "bdee23e353c64caaa27d782caed2a7b5",
       "version_major": 2,
       "version_minor": 0
      },
      "text/plain": [
       "  0%|          | 0/3144 [00:00<?, ?it/s]"
      ]
     },
     "metadata": {},
     "output_type": "display_data"
    },
    {
     "name": "stdout",
     "output_type": "stream",
     "text": [
      "Training-- Loss: 0.0023, Metric: 0.797,"
     ]
    },
    {
     "data": {
      "application/vnd.jupyter.widget-view+json": {
       "model_id": "5e498f6c92904f7896a306b79e171a15",
       "version_major": 2,
       "version_minor": 0
      },
      "text/plain": [
       "  0%|          | 0/786 [00:00<?, ?it/s]"
      ]
     },
     "metadata": {},
     "output_type": "display_data"
    },
    {
     "name": "stdout",
     "output_type": "stream",
     "text": [
      "Validation-- Loss: 0.0074, Metric = 0.583\n",
      "Epoch: 94, LR: 2.340e-05--"
     ]
    },
    {
     "data": {
      "application/vnd.jupyter.widget-view+json": {
       "model_id": "eb1ef13e93a842598fdcd05faf5240e6",
       "version_major": 2,
       "version_minor": 0
      },
      "text/plain": [
       "  0%|          | 0/3144 [00:00<?, ?it/s]"
      ]
     },
     "metadata": {},
     "output_type": "display_data"
    },
    {
     "name": "stdout",
     "output_type": "stream",
     "text": [
      "Training-- Loss: 0.0022, Metric: 0.799,"
     ]
    },
    {
     "data": {
      "application/vnd.jupyter.widget-view+json": {
       "model_id": "8e20e07830bd41e3bdd9659e0a3af699",
       "version_major": 2,
       "version_minor": 0
      },
      "text/plain": [
       "  0%|          | 0/786 [00:00<?, ?it/s]"
      ]
     },
     "metadata": {},
     "output_type": "display_data"
    },
    {
     "name": "stdout",
     "output_type": "stream",
     "text": [
      "Validation-- Loss: 0.0072, Metric = 0.589\n",
      "Epoch: 95, LR: 2.183e-05--"
     ]
    },
    {
     "data": {
      "application/vnd.jupyter.widget-view+json": {
       "model_id": "39e0519c3f10489f8545b4e368336deb",
       "version_major": 2,
       "version_minor": 0
      },
      "text/plain": [
       "  0%|          | 0/3144 [00:00<?, ?it/s]"
      ]
     },
     "metadata": {},
     "output_type": "display_data"
    },
    {
     "name": "stdout",
     "output_type": "stream",
     "text": [
      "Training-- Loss: 0.0022, Metric: 0.800,"
     ]
    },
    {
     "data": {
      "application/vnd.jupyter.widget-view+json": {
       "model_id": "bd1e794f8af744598d46cd3a26daeffa",
       "version_major": 2,
       "version_minor": 0
      },
      "text/plain": [
       "  0%|          | 0/786 [00:00<?, ?it/s]"
      ]
     },
     "metadata": {},
     "output_type": "display_data"
    },
    {
     "name": "stdout",
     "output_type": "stream",
     "text": [
      "Validation-- Loss: 0.0071, Metric = 0.589\n",
      "Epoch: 96, LR: 2.031e-05--"
     ]
    },
    {
     "data": {
      "application/vnd.jupyter.widget-view+json": {
       "model_id": "1dc2c9d24b4640f5990c553abec262bc",
       "version_major": 2,
       "version_minor": 0
      },
      "text/plain": [
       "  0%|          | 0/3144 [00:00<?, ?it/s]"
      ]
     },
     "metadata": {},
     "output_type": "display_data"
    },
    {
     "name": "stdout",
     "output_type": "stream",
     "text": [
      "Training-- Loss: 0.0022, Metric: 0.801,"
     ]
    },
    {
     "data": {
      "application/vnd.jupyter.widget-view+json": {
       "model_id": "52bb1acac71b4740b269cd3589db760c",
       "version_major": 2,
       "version_minor": 0
      },
      "text/plain": [
       "  0%|          | 0/786 [00:00<?, ?it/s]"
      ]
     },
     "metadata": {},
     "output_type": "display_data"
    },
    {
     "name": "stdout",
     "output_type": "stream",
     "text": [
      "Validation-- Loss: 0.0073, Metric = 0.582\n",
      "Epoch: 97, LR: 1.883e-05--"
     ]
    },
    {
     "data": {
      "application/vnd.jupyter.widget-view+json": {
       "model_id": "71cfcd59955849e6ba5e88dcedb2cd6a",
       "version_major": 2,
       "version_minor": 0
      },
      "text/plain": [
       "  0%|          | 0/3144 [00:00<?, ?it/s]"
      ]
     },
     "metadata": {},
     "output_type": "display_data"
    },
    {
     "name": "stdout",
     "output_type": "stream",
     "text": [
      "Training-- Loss: 0.0022, Metric: 0.801,"
     ]
    },
    {
     "data": {
      "application/vnd.jupyter.widget-view+json": {
       "model_id": "1338fc42c7714a5baa09dc417baede01",
       "version_major": 2,
       "version_minor": 0
      },
      "text/plain": [
       "  0%|          | 0/786 [00:00<?, ?it/s]"
      ]
     },
     "metadata": {},
     "output_type": "display_data"
    },
    {
     "name": "stdout",
     "output_type": "stream",
     "text": [
      "Validation-- Loss: 0.0072, Metric = 0.590\n",
      "Epoch: 98, LR: 1.739e-05--"
     ]
    },
    {
     "data": {
      "application/vnd.jupyter.widget-view+json": {
       "model_id": "661dcd31325e421a88bca144500dad03",
       "version_major": 2,
       "version_minor": 0
      },
      "text/plain": [
       "  0%|          | 0/3144 [00:00<?, ?it/s]"
      ]
     },
     "metadata": {},
     "output_type": "display_data"
    },
    {
     "name": "stdout",
     "output_type": "stream",
     "text": [
      "Training-- Loss: 0.0022, Metric: 0.802,"
     ]
    },
    {
     "data": {
      "application/vnd.jupyter.widget-view+json": {
       "model_id": "9d1b4a8b405d4270a176087850b2469b",
       "version_major": 2,
       "version_minor": 0
      },
      "text/plain": [
       "  0%|          | 0/786 [00:00<?, ?it/s]"
      ]
     },
     "metadata": {},
     "output_type": "display_data"
    },
    {
     "name": "stdout",
     "output_type": "stream",
     "text": [
      "Validation-- Loss: 0.0073, Metric = 0.589\n",
      "Epoch: 99, LR: 1.599e-05--"
     ]
    },
    {
     "data": {
      "application/vnd.jupyter.widget-view+json": {
       "model_id": "93f8bac3f0cf422bb3fb62e7fdb28dc8",
       "version_major": 2,
       "version_minor": 0
      },
      "text/plain": [
       "  0%|          | 0/3144 [00:00<?, ?it/s]"
      ]
     },
     "metadata": {},
     "output_type": "display_data"
    },
    {
     "name": "stdout",
     "output_type": "stream",
     "text": [
      "Training-- Loss: 0.0022, Metric: 0.801,"
     ]
    },
    {
     "data": {
      "application/vnd.jupyter.widget-view+json": {
       "model_id": "375e06e33e264fe6b417f6422100890d",
       "version_major": 2,
       "version_minor": 0
      },
      "text/plain": [
       "  0%|          | 0/786 [00:00<?, ?it/s]"
      ]
     },
     "metadata": {},
     "output_type": "display_data"
    },
    {
     "name": "stdout",
     "output_type": "stream",
     "text": [
      "Validation-- Loss: 0.0072, Metric = 0.582\n",
      "Epoch: 100, LR: 1.464e-05--"
     ]
    },
    {
     "data": {
      "application/vnd.jupyter.widget-view+json": {
       "model_id": "d4417c5f047b4e3a8b97837ceedc4d95",
       "version_major": 2,
       "version_minor": 0
      },
      "text/plain": [
       "  0%|          | 0/3144 [00:00<?, ?it/s]"
      ]
     },
     "metadata": {},
     "output_type": "display_data"
    },
    {
     "name": "stdout",
     "output_type": "stream",
     "text": [
      "Training-- Loss: 0.0022, Metric: 0.802,"
     ]
    },
    {
     "data": {
      "application/vnd.jupyter.widget-view+json": {
       "model_id": "fd9d82fcc0a04e2d987fa391fc57490c",
       "version_major": 2,
       "version_minor": 0
      },
      "text/plain": [
       "  0%|          | 0/786 [00:00<?, ?it/s]"
      ]
     },
     "metadata": {},
     "output_type": "display_data"
    },
    {
     "name": "stdout",
     "output_type": "stream",
     "text": [
      "Validation-- Loss: 0.0072, Metric = 0.583\n",
      "Epoch: 101, LR: 1.335e-05--"
     ]
    },
    {
     "data": {
      "application/vnd.jupyter.widget-view+json": {
       "model_id": "1c114e6a9ed2457194e02ccc02c632bd",
       "version_major": 2,
       "version_minor": 0
      },
      "text/plain": [
       "  0%|          | 0/3144 [00:00<?, ?it/s]"
      ]
     },
     "metadata": {},
     "output_type": "display_data"
    },
    {
     "name": "stdout",
     "output_type": "stream",
     "text": [
      "Training-- Loss: 0.0022, Metric: 0.804,"
     ]
    },
    {
     "data": {
      "application/vnd.jupyter.widget-view+json": {
       "model_id": "c085fa743fee4a0587af083ed0de28ab",
       "version_major": 2,
       "version_minor": 0
      },
      "text/plain": [
       "  0%|          | 0/786 [00:00<?, ?it/s]"
      ]
     },
     "metadata": {},
     "output_type": "display_data"
    },
    {
     "name": "stdout",
     "output_type": "stream",
     "text": [
      "Validation-- Loss: 0.0074, Metric = 0.581\n",
      "Epoch: 102, LR: 1.210e-05--"
     ]
    },
    {
     "data": {
      "application/vnd.jupyter.widget-view+json": {
       "model_id": "717072dd1da04eb7a064c7b45fcfdf5a",
       "version_major": 2,
       "version_minor": 0
      },
      "text/plain": [
       "  0%|          | 0/3144 [00:00<?, ?it/s]"
      ]
     },
     "metadata": {},
     "output_type": "display_data"
    },
    {
     "name": "stdout",
     "output_type": "stream",
     "text": [
      "Training-- Loss: 0.0022, Metric: 0.803,"
     ]
    },
    {
     "data": {
      "application/vnd.jupyter.widget-view+json": {
       "model_id": "c23ed358ec37483ba427d61d6c596c0d",
       "version_major": 2,
       "version_minor": 0
      },
      "text/plain": [
       "  0%|          | 0/786 [00:00<?, ?it/s]"
      ]
     },
     "metadata": {},
     "output_type": "display_data"
    },
    {
     "name": "stdout",
     "output_type": "stream",
     "text": [
      "Validation-- Loss: 0.0074, Metric = 0.584\n",
      "Epoch: 103, LR: 1.091e-05--"
     ]
    },
    {
     "data": {
      "application/vnd.jupyter.widget-view+json": {
       "model_id": "34d21cedd22840c69fbf3de2a9bead78",
       "version_major": 2,
       "version_minor": 0
      },
      "text/plain": [
       "  0%|          | 0/3144 [00:00<?, ?it/s]"
      ]
     },
     "metadata": {},
     "output_type": "display_data"
    },
    {
     "name": "stdout",
     "output_type": "stream",
     "text": [
      "Training-- Loss: 0.0022, Metric: 0.805,"
     ]
    },
    {
     "data": {
      "application/vnd.jupyter.widget-view+json": {
       "model_id": "fd2d6158f0d8453598085f13ec2119b4",
       "version_major": 2,
       "version_minor": 0
      },
      "text/plain": [
       "  0%|          | 0/786 [00:00<?, ?it/s]"
      ]
     },
     "metadata": {},
     "output_type": "display_data"
    },
    {
     "name": "stdout",
     "output_type": "stream",
     "text": [
      "Validation-- Loss: 0.0073, Metric = 0.585\n",
      "Epoch: 104, LR: 9.770e-06--"
     ]
    },
    {
     "data": {
      "application/vnd.jupyter.widget-view+json": {
       "model_id": "61d1d042ab8c469baefd79dd55258b06",
       "version_major": 2,
       "version_minor": 0
      },
      "text/plain": [
       "  0%|          | 0/3144 [00:00<?, ?it/s]"
      ]
     },
     "metadata": {},
     "output_type": "display_data"
    },
    {
     "name": "stdout",
     "output_type": "stream",
     "text": [
      "Training-- Loss: 0.0022, Metric: 0.803,"
     ]
    },
    {
     "data": {
      "application/vnd.jupyter.widget-view+json": {
       "model_id": "a0b19c9d54074744ad23070ff021ecdf",
       "version_major": 2,
       "version_minor": 0
      },
      "text/plain": [
       "  0%|          | 0/786 [00:00<?, ?it/s]"
      ]
     },
     "metadata": {},
     "output_type": "display_data"
    },
    {
     "name": "stdout",
     "output_type": "stream",
     "text": [
      "Validation-- Loss: 0.0073, Metric = 0.583\n",
      "Epoch: 105, LR: 8.688e-06--"
     ]
    },
    {
     "data": {
      "application/vnd.jupyter.widget-view+json": {
       "model_id": "389b5f26668043008e98616eed2248d5",
       "version_major": 2,
       "version_minor": 0
      },
      "text/plain": [
       "  0%|          | 0/3144 [00:00<?, ?it/s]"
      ]
     },
     "metadata": {},
     "output_type": "display_data"
    },
    {
     "name": "stdout",
     "output_type": "stream",
     "text": [
      "Training-- Loss: 0.0022, Metric: 0.800,"
     ]
    },
    {
     "data": {
      "application/vnd.jupyter.widget-view+json": {
       "model_id": "43eefc5c3dcd48818a27ed613d0a4146",
       "version_major": 2,
       "version_minor": 0
      },
      "text/plain": [
       "  0%|          | 0/786 [00:00<?, ?it/s]"
      ]
     },
     "metadata": {},
     "output_type": "display_data"
    },
    {
     "name": "stdout",
     "output_type": "stream",
     "text": [
      "Validation-- Loss: 0.0074, Metric = 0.592\n",
      "Epoch: 106, LR: 7.664e-06--"
     ]
    },
    {
     "data": {
      "application/vnd.jupyter.widget-view+json": {
       "model_id": "e1a2e48c19a5433185148063c10b21f2",
       "version_major": 2,
       "version_minor": 0
      },
      "text/plain": [
       "  0%|          | 0/3144 [00:00<?, ?it/s]"
      ]
     },
     "metadata": {},
     "output_type": "display_data"
    },
    {
     "name": "stdout",
     "output_type": "stream",
     "text": [
      "Training-- Loss: 0.0022, Metric: 0.803,"
     ]
    },
    {
     "data": {
      "application/vnd.jupyter.widget-view+json": {
       "model_id": "3a120d19ae194c97a2f106db217757d0",
       "version_major": 2,
       "version_minor": 0
      },
      "text/plain": [
       "  0%|          | 0/786 [00:00<?, ?it/s]"
      ]
     },
     "metadata": {},
     "output_type": "display_data"
    },
    {
     "name": "stdout",
     "output_type": "stream",
     "text": [
      "Validation-- Loss: 0.0071, Metric = 0.590\n",
      "Epoch: 107, LR: 6.699e-06--"
     ]
    },
    {
     "data": {
      "application/vnd.jupyter.widget-view+json": {
       "model_id": "30a0c938bc104feba70e9e9328c5e5d0",
       "version_major": 2,
       "version_minor": 0
      },
      "text/plain": [
       "  0%|          | 0/3144 [00:00<?, ?it/s]"
      ]
     },
     "metadata": {},
     "output_type": "display_data"
    },
    {
     "name": "stdout",
     "output_type": "stream",
     "text": [
      "Training-- Loss: 0.0022, Metric: 0.806,"
     ]
    },
    {
     "data": {
      "application/vnd.jupyter.widget-view+json": {
       "model_id": "a075e451a0e64b77a3fad0dea72a2af6",
       "version_major": 2,
       "version_minor": 0
      },
      "text/plain": [
       "  0%|          | 0/786 [00:00<?, ?it/s]"
      ]
     },
     "metadata": {},
     "output_type": "display_data"
    },
    {
     "name": "stdout",
     "output_type": "stream",
     "text": [
      "Validation-- Loss: 0.0073, Metric = 0.585\n",
      "Epoch: 108, LR: 5.794e-06--"
     ]
    },
    {
     "data": {
      "application/vnd.jupyter.widget-view+json": {
       "model_id": "e50d050c54984d9681a66f6e8fd8945d",
       "version_major": 2,
       "version_minor": 0
      },
      "text/plain": [
       "  0%|          | 0/3144 [00:00<?, ?it/s]"
      ]
     },
     "metadata": {},
     "output_type": "display_data"
    },
    {
     "name": "stdout",
     "output_type": "stream",
     "text": [
      "Training-- Loss: 0.0022, Metric: 0.806,"
     ]
    },
    {
     "data": {
      "application/vnd.jupyter.widget-view+json": {
       "model_id": "186fee6aa6cd418aaf9ab6a28f626ece",
       "version_major": 2,
       "version_minor": 0
      },
      "text/plain": [
       "  0%|          | 0/786 [00:00<?, ?it/s]"
      ]
     },
     "metadata": {},
     "output_type": "display_data"
    },
    {
     "name": "stdout",
     "output_type": "stream",
     "text": [
      "Validation-- Loss: 0.0072, Metric = 0.587\n",
      "Epoch: 109, LR: 4.952e-06--"
     ]
    },
    {
     "data": {
      "application/vnd.jupyter.widget-view+json": {
       "model_id": "365f3d85b3db4181ba3cadf829d13cae",
       "version_major": 2,
       "version_minor": 0
      },
      "text/plain": [
       "  0%|          | 0/3144 [00:00<?, ?it/s]"
      ]
     },
     "metadata": {},
     "output_type": "display_data"
    },
    {
     "name": "stdout",
     "output_type": "stream",
     "text": [
      "Training-- Loss: 0.0022, Metric: 0.802,"
     ]
    },
    {
     "data": {
      "application/vnd.jupyter.widget-view+json": {
       "model_id": "17850f07df36452a81ac0319fa695b0a",
       "version_major": 2,
       "version_minor": 0
      },
      "text/plain": [
       "  0%|          | 0/786 [00:00<?, ?it/s]"
      ]
     },
     "metadata": {},
     "output_type": "display_data"
    },
    {
     "name": "stdout",
     "output_type": "stream",
     "text": [
      "Validation-- Loss: 0.0073, Metric = 0.586\n",
      "Epoch: 110, LR: 4.172e-06--"
     ]
    },
    {
     "data": {
      "application/vnd.jupyter.widget-view+json": {
       "model_id": "599ef77925494b33870eb1f7123402ad",
       "version_major": 2,
       "version_minor": 0
      },
      "text/plain": [
       "  0%|          | 0/3144 [00:00<?, ?it/s]"
      ]
     },
     "metadata": {},
     "output_type": "display_data"
    },
    {
     "name": "stdout",
     "output_type": "stream",
     "text": [
      "Training-- Loss: 0.0021, Metric: 0.806,"
     ]
    },
    {
     "data": {
      "application/vnd.jupyter.widget-view+json": {
       "model_id": "f17653c444a54d0e80c6fe197e1108db",
       "version_major": 2,
       "version_minor": 0
      },
      "text/plain": [
       "  0%|          | 0/786 [00:00<?, ?it/s]"
      ]
     },
     "metadata": {},
     "output_type": "display_data"
    },
    {
     "name": "stdout",
     "output_type": "stream",
     "text": [
      "Validation-- Loss: 0.0071, Metric = 0.587\n",
      "Epoch: 111, LR: 3.456e-06--"
     ]
    },
    {
     "data": {
      "application/vnd.jupyter.widget-view+json": {
       "model_id": "4acd708dd30a43b0a8c97688fcbf6d22",
       "version_major": 2,
       "version_minor": 0
      },
      "text/plain": [
       "  0%|          | 0/3144 [00:00<?, ?it/s]"
      ]
     },
     "metadata": {},
     "output_type": "display_data"
    },
    {
     "name": "stdout",
     "output_type": "stream",
     "text": [
      "Training-- Loss: 0.0021, Metric: 0.806,"
     ]
    },
    {
     "data": {
      "application/vnd.jupyter.widget-view+json": {
       "model_id": "d4912c55ad024392a347d3cce9384d51",
       "version_major": 2,
       "version_minor": 0
      },
      "text/plain": [
       "  0%|          | 0/786 [00:00<?, ?it/s]"
      ]
     },
     "metadata": {},
     "output_type": "display_data"
    },
    {
     "name": "stdout",
     "output_type": "stream",
     "text": [
      "Validation-- Loss: 0.0073, Metric = 0.584\n",
      "Epoch: 112, LR: 2.806e-06--"
     ]
    },
    {
     "data": {
      "application/vnd.jupyter.widget-view+json": {
       "model_id": "987b3914f66f425c8b50ab4438e70f08",
       "version_major": 2,
       "version_minor": 0
      },
      "text/plain": [
       "  0%|          | 0/3144 [00:00<?, ?it/s]"
      ]
     },
     "metadata": {},
     "output_type": "display_data"
    },
    {
     "name": "stdout",
     "output_type": "stream",
     "text": [
      "Training-- Loss: 0.0022, Metric: 0.805,"
     ]
    },
    {
     "data": {
      "application/vnd.jupyter.widget-view+json": {
       "model_id": "f7da35b3bd004d158ac3ea3e8205c6c4",
       "version_major": 2,
       "version_minor": 0
      },
      "text/plain": [
       "  0%|          | 0/786 [00:00<?, ?it/s]"
      ]
     },
     "metadata": {},
     "output_type": "display_data"
    },
    {
     "name": "stdout",
     "output_type": "stream",
     "text": [
      "Validation-- Loss: 0.0074, Metric = 0.580\n",
      "Epoch: 113, LR: 2.222e-06--"
     ]
    },
    {
     "data": {
      "application/vnd.jupyter.widget-view+json": {
       "model_id": "c09997727a994a4791591e414f5e5f20",
       "version_major": 2,
       "version_minor": 0
      },
      "text/plain": [
       "  0%|          | 0/3144 [00:00<?, ?it/s]"
      ]
     },
     "metadata": {},
     "output_type": "display_data"
    },
    {
     "name": "stdout",
     "output_type": "stream",
     "text": [
      "Training-- Loss: 0.0021, Metric: 0.807,"
     ]
    },
    {
     "data": {
      "application/vnd.jupyter.widget-view+json": {
       "model_id": "3361ad8fc3d545aca66fd1dafa96c840",
       "version_major": 2,
       "version_minor": 0
      },
      "text/plain": [
       "  0%|          | 0/786 [00:00<?, ?it/s]"
      ]
     },
     "metadata": {},
     "output_type": "display_data"
    },
    {
     "name": "stdout",
     "output_type": "stream",
     "text": [
      "Validation-- Loss: 0.0074, Metric = 0.590\n",
      "Epoch: 114, LR: 1.704e-06--"
     ]
    },
    {
     "data": {
      "application/vnd.jupyter.widget-view+json": {
       "model_id": "c5e744e6ca2f434fb0e5bdadec5201a5",
       "version_major": 2,
       "version_minor": 0
      },
      "text/plain": [
       "  0%|          | 0/3144 [00:00<?, ?it/s]"
      ]
     },
     "metadata": {},
     "output_type": "display_data"
    },
    {
     "name": "stdout",
     "output_type": "stream",
     "text": [
      "Training-- Loss: 0.0021, Metric: 0.806,"
     ]
    },
    {
     "data": {
      "application/vnd.jupyter.widget-view+json": {
       "model_id": "bb059275af1743f4b52291f679484dd1",
       "version_major": 2,
       "version_minor": 0
      },
      "text/plain": [
       "  0%|          | 0/786 [00:00<?, ?it/s]"
      ]
     },
     "metadata": {},
     "output_type": "display_data"
    },
    {
     "name": "stdout",
     "output_type": "stream",
     "text": [
      "Validation-- Loss: 0.0073, Metric = 0.594\n",
      "Epoch: 115, LR: 1.254e-06--"
     ]
    },
    {
     "data": {
      "application/vnd.jupyter.widget-view+json": {
       "model_id": "ed02c40ec2ef418998d1a0e9d8b9c111",
       "version_major": 2,
       "version_minor": 0
      },
      "text/plain": [
       "  0%|          | 0/3144 [00:00<?, ?it/s]"
      ]
     },
     "metadata": {},
     "output_type": "display_data"
    },
    {
     "name": "stdout",
     "output_type": "stream",
     "text": [
      "Training-- Loss: 0.0021, Metric: 0.807,"
     ]
    },
    {
     "data": {
      "application/vnd.jupyter.widget-view+json": {
       "model_id": "9e633662e3ff4ed0a3ac78599ea4df74",
       "version_major": 2,
       "version_minor": 0
      },
      "text/plain": [
       "  0%|          | 0/786 [00:00<?, ?it/s]"
      ]
     },
     "metadata": {},
     "output_type": "display_data"
    },
    {
     "name": "stdout",
     "output_type": "stream",
     "text": [
      "Validation-- Loss: 0.0072, Metric = 0.588\n",
      "Epoch: 116, LR: 8.720e-07--"
     ]
    },
    {
     "data": {
      "application/vnd.jupyter.widget-view+json": {
       "model_id": "7795366dabcf42abaa069e8b7fd6aab7",
       "version_major": 2,
       "version_minor": 0
      },
      "text/plain": [
       "  0%|          | 0/3144 [00:00<?, ?it/s]"
      ]
     },
     "metadata": {},
     "output_type": "display_data"
    },
    {
     "name": "stdout",
     "output_type": "stream",
     "text": [
      "Training-- Loss: 0.0021, Metric: 0.809,"
     ]
    },
    {
     "data": {
      "application/vnd.jupyter.widget-view+json": {
       "model_id": "47e9a5d6aa454f4aac9cc696c2877434",
       "version_major": 2,
       "version_minor": 0
      },
      "text/plain": [
       "  0%|          | 0/786 [00:00<?, ?it/s]"
      ]
     },
     "metadata": {},
     "output_type": "display_data"
    },
    {
     "name": "stdout",
     "output_type": "stream",
     "text": [
      "Validation-- Loss: 0.0073, Metric = 0.584\n",
      "Epoch: 117, LR: 5.588e-07--"
     ]
    },
    {
     "data": {
      "application/vnd.jupyter.widget-view+json": {
       "model_id": "ef5e62e3d9d144c281724654a93dbca0",
       "version_major": 2,
       "version_minor": 0
      },
      "text/plain": [
       "  0%|          | 0/3144 [00:00<?, ?it/s]"
      ]
     },
     "metadata": {},
     "output_type": "display_data"
    },
    {
     "name": "stdout",
     "output_type": "stream",
     "text": [
      "Training-- Loss: 0.0021, Metric: 0.805,"
     ]
    },
    {
     "data": {
      "application/vnd.jupyter.widget-view+json": {
       "model_id": "d430f122a04342e6ac0d54403c604f02",
       "version_major": 2,
       "version_minor": 0
      },
      "text/plain": [
       "  0%|          | 0/786 [00:00<?, ?it/s]"
      ]
     },
     "metadata": {},
     "output_type": "display_data"
    },
    {
     "name": "stdout",
     "output_type": "stream",
     "text": [
      "Validation-- Loss: 0.0073, Metric = 0.586\n",
      "Epoch: 118, LR: 3.147e-07--"
     ]
    },
    {
     "data": {
      "application/vnd.jupyter.widget-view+json": {
       "model_id": "297e2a2387fc490c882b686b921795fa",
       "version_major": 2,
       "version_minor": 0
      },
      "text/plain": [
       "  0%|          | 0/3144 [00:00<?, ?it/s]"
      ]
     },
     "metadata": {},
     "output_type": "display_data"
    },
    {
     "name": "stdout",
     "output_type": "stream",
     "text": [
      "Training-- Loss: 0.0021, Metric: 0.806,"
     ]
    },
    {
     "data": {
      "application/vnd.jupyter.widget-view+json": {
       "model_id": "514f16d915f84c29aa585845a861015b",
       "version_major": 2,
       "version_minor": 0
      },
      "text/plain": [
       "  0%|          | 0/786 [00:00<?, ?it/s]"
      ]
     },
     "metadata": {},
     "output_type": "display_data"
    },
    {
     "name": "stdout",
     "output_type": "stream",
     "text": [
      "Validation-- Loss: 0.0074, Metric = 0.584\n",
      "Epoch: 119, LR: 1.402e-07--"
     ]
    },
    {
     "data": {
      "application/vnd.jupyter.widget-view+json": {
       "model_id": "55e4bdded9ec4ddb861b66f9ca05b7e0",
       "version_major": 2,
       "version_minor": 0
      },
      "text/plain": [
       "  0%|          | 0/3144 [00:00<?, ?it/s]"
      ]
     },
     "metadata": {},
     "output_type": "display_data"
    },
    {
     "name": "stdout",
     "output_type": "stream",
     "text": [
      "Training-- Loss: 0.0021, Metric: 0.806,"
     ]
    },
    {
     "data": {
      "application/vnd.jupyter.widget-view+json": {
       "model_id": "14f7681fb1b74f94aa054031a3fc88dd",
       "version_major": 2,
       "version_minor": 0
      },
      "text/plain": [
       "  0%|          | 0/786 [00:00<?, ?it/s]"
      ]
     },
     "metadata": {},
     "output_type": "display_data"
    },
    {
     "name": "stdout",
     "output_type": "stream",
     "text": [
      "Validation-- Loss: 0.0071, Metric = 0.589\n",
      "Epoch: 120, LR: 3.534e-08--"
     ]
    },
    {
     "data": {
      "application/vnd.jupyter.widget-view+json": {
       "model_id": "e80dc4bf0fbb41179060f9708e10b93c",
       "version_major": 2,
       "version_minor": 0
      },
      "text/plain": [
       "  0%|          | 0/3144 [00:00<?, ?it/s]"
      ]
     },
     "metadata": {},
     "output_type": "display_data"
    },
    {
     "name": "stdout",
     "output_type": "stream",
     "text": [
      "Training-- Loss: 0.0022, Metric: 0.804,"
     ]
    },
    {
     "data": {
      "application/vnd.jupyter.widget-view+json": {
       "model_id": "b8dea08c744a4e05a733ca608a731c95",
       "version_major": 2,
       "version_minor": 0
      },
      "text/plain": [
       "  0%|          | 0/786 [00:00<?, ?it/s]"
      ]
     },
     "metadata": {},
     "output_type": "display_data"
    },
    {
     "name": "stdout",
     "output_type": "stream",
     "text": [
      "Validation-- Loss: 0.0073, Metric = 0.589\n"
     ]
    }
   ],
   "source": [
    "for epoch in range(1, epochs + 1):\n",
    "\n",
    "    lr = lr_scheduler.get_last_lr()\n",
    "    print('Epoch: {}, LR: {:.3e}'.format(epoch, lr[0]), end=\"--\")\n",
    "\n",
    "    training_loss, training_metric = trainfp32(epoch,\n",
    "                                               train_dataloader,\n",
    "                                               optimizer,\n",
    "                                               loss_fn,\n",
    "                                               lr_scheduler,\n",
    "                                               metric_fn=accuracy_torch,\n",
    "                                               model=new_model)\n",
    "\n",
    "    print('Training-- Loss: {:.4f}, Metric: {:.3f}'.format(\n",
    "        training_loss, training_metric),\n",
    "          end=',')\n",
    "    validation_loss, validation_metric = validatefp32(validation_dataloader,\n",
    "                                                      loss_fn=loss_fn,\n",
    "                                                      metric_fn=accuracy_torch,\n",
    "                                                      model=new_model)\n",
    "\n",
    "    #save_checkpoint(NOTEBOOK_FULL_PATH, model=newmodel, epoch, valid_error)\n",
    "\n",
    "    print('Validation-- Loss: {:.4f}, Metric = {:.3f}'.format(\n",
    "        validation_loss, validation_metric))"
   ]
  },
  {
   "cell_type": "code",
   "execution_count": null,
   "id": "8bf8fdaa",
   "metadata": {},
   "outputs": [],
   "source": [
    "    validation_loss, validation_metric = validatefp32(validation_dataloader,\n",
    "                                                      loss_fn=loss_fn,\n",
    "                                                      metric_fn=accuracy_torch,\n",
    "                                                      model=new_model)"
   ]
  },
  {
   "cell_type": "code",
   "execution_count": null,
   "id": "94b0774b",
   "metadata": {},
   "outputs": [],
   "source": [
    "print('Validation-- Loss: {:.4f}, Metric = {:.3f}'.format(validation_loss, validation_metric))"
   ]
  },
  {
   "cell_type": "markdown",
   "id": "199f4b08",
   "metadata": {},
   "source": [
    "## make a prediction"
   ]
  },
  {
   "cell_type": "code",
   "execution_count": null,
   "id": "cee7ffca",
   "metadata": {},
   "outputs": [],
   "source": [
    "new_model.eval();"
   ]
  },
  {
   "cell_type": "code",
   "execution_count": 21,
   "id": "a06f9648",
   "metadata": {},
   "outputs": [
    {
     "ename": "NameError",
     "evalue": "name 'predictfp32' is not defined",
     "output_type": "error",
     "traceback": [
      "\u001b[0;31m---------------------------------------------------------------------------\u001b[0m",
      "\u001b[0;31mNameError\u001b[0m                                 Traceback (most recent call last)",
      "\u001b[0;32m<ipython-input-21-e9d759069ed9>\u001b[0m in \u001b[0;36m<module>\u001b[0;34m\u001b[0m\n\u001b[1;32m      1\u001b[0m \u001b[0mbatch\u001b[0m \u001b[0;34m=\u001b[0m \u001b[0mnext\u001b[0m\u001b[0;34m(\u001b[0m\u001b[0miter\u001b[0m\u001b[0;34m(\u001b[0m\u001b[0mvalidation_dataloader\u001b[0m\u001b[0;34m)\u001b[0m\u001b[0;34m)\u001b[0m\u001b[0;34m\u001b[0m\u001b[0;34m\u001b[0m\u001b[0m\n\u001b[0;32m----> 2\u001b[0;31m \u001b[0moutput\u001b[0m\u001b[0;34m,\u001b[0m \u001b[0mpreds\u001b[0m \u001b[0;34m=\u001b[0m \u001b[0mpredictfp32\u001b[0m\u001b[0;34m(\u001b[0m\u001b[0mbatch\u001b[0m\u001b[0;34m,\u001b[0m\u001b[0mmodel\u001b[0m\u001b[0;34m=\u001b[0m\u001b[0mnew_model\u001b[0m\u001b[0;34m)\u001b[0m\u001b[0;34m\u001b[0m\u001b[0;34m\u001b[0m\u001b[0m\n\u001b[0m",
      "\u001b[0;31mNameError\u001b[0m: name 'predictfp32' is not defined"
     ]
    }
   ],
   "source": [
    "batch = next(iter(validation_dataloader)) \n",
    "output, preds = predictfp32(batch,model=new_model)"
   ]
  },
  {
   "cell_type": "code",
   "execution_count": 23,
   "id": "eb424871",
   "metadata": {},
   "outputs": [
    {
     "data": {
      "text/plain": [
       "torch.Size([16, 1, 160000])"
      ]
     },
     "execution_count": 23,
     "metadata": {},
     "output_type": "execute_result"
    }
   ],
   "source": [
    "batch[0].shape"
   ]
  },
  {
   "cell_type": "code",
   "execution_count": null,
   "id": "09d611de",
   "metadata": {},
   "outputs": [],
   "source": [
    "output.topk(3)"
   ]
  },
  {
   "cell_type": "code",
   "execution_count": null,
   "id": "6c7ef374",
   "metadata": {},
   "outputs": [],
   "source": [
    "batch[2].topk(1)"
   ]
  },
  {
   "cell_type": "markdown",
   "id": "2f799e97",
   "metadata": {},
   "source": [
    "## Save pytorch model"
   ]
  },
  {
   "cell_type": "code",
   "execution_count": 40,
   "id": "6ea0df5b",
   "metadata": {},
   "outputs": [],
   "source": [
    "model_out_str = str(model_out_path/(model_name_base+\"3.pth\"))\n",
    "torch.save(new_model.state_dict(), model_out_str)\n"
   ]
  }
 ],
 "metadata": {
  "kernelspec": {
   "display_name": "Python 3",
   "language": "python",
   "name": "python3"
  },
  "language_info": {
   "codemirror_mode": {
    "name": "ipython",
    "version": 3
   },
   "file_extension": ".py",
   "mimetype": "text/x-python",
   "name": "python",
   "nbconvert_exporter": "python",
   "pygments_lexer": "ipython3",
   "version": "3.9.5"
  }
 },
 "nbformat": 4,
 "nbformat_minor": 5
}
